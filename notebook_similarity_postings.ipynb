{
 "cells": [
  {
   "cell_type": "markdown",
   "metadata": {},
   "source": [
    "### Load packages"
   ]
  },
  {
   "cell_type": "code",
   "execution_count": 15,
   "metadata": {},
   "outputs": [],
   "source": [
    "# Create enviroment if not done before. \n",
    "#!conda create --name sna --file environment.yml"
   ]
  },
  {
   "cell_type": "code",
   "execution_count": 16,
   "outputs": [],
   "source": [
    "import numpy as np\n",
    "import networkx as nx\n",
    "import pandas as pd\n",
    "import matplotlib.pyplot as plt"
   ],
   "metadata": {
    "collapsed": false
   }
  },
  {
   "cell_type": "markdown",
   "metadata": {},
   "source": [
    "### Load an concat data"
   ]
  },
  {
   "cell_type": "code",
   "execution_count": 17,
   "metadata": {},
   "outputs": [],
   "source": [
    "postings_1 = pd.read_csv('input/Postings_01052019_15052019.csv', sep=';')\n",
    "postings_2 = pd.read_csv('input/Postings_16052019_31052019.csv', sep=';')\n",
    "votes_1 = pd.read_csv('input/Votes_01052019_15052019.csv', sep=';')\n",
    "votes_2 = pd.read_csv('input/Votes_16052019_31052019.csv', sep=';')\n",
    "follow_ignore = pd.read_csv(\n",
    "    \"input/Following_Ignoring_Relationships_01052019_31052019.csv\", sep=\";\")\n",
    "\n",
    "# Merge the two datasets\n",
    "postings = pd.concat([postings_1, postings_2])\n",
    "votes = pd.concat([votes_1, votes_2])"
   ]
  },
  {
   "cell_type": "markdown",
   "source": [
    "Since the posts are stored in a flat format and replies only relate to their parent, we want to add a top level posting column to our data."
   ],
   "metadata": {
    "collapsed": false
   }
  },
  {
   "cell_type": "code",
   "execution_count": 18,
   "outputs": [],
   "source": [
    "def get_top_level(parent_id):\n",
    "    if np.isnan(parent_id):\n",
    "        return np.nan\n",
    "\n",
    "    parent = postings[postings[\"ID_Posting\"] == parent_id]\n",
    "    if len(parent) == 0: # no parent\n",
    "        return parent_id\n",
    "    else:\n",
    "        parents_parent = parent[\"ID_Posting_Parent\"].values[0]\n",
    "\n",
    "        if np.isnan(parents_parent): # no parents parent\n",
    "            return parent_id\n",
    "        else:\n",
    "            return get_top_level(parents_parent)\n",
    "\n",
    "\n",
    "postings['ID_Posting_Top_Level_Parent'] = postings['ID_Posting_Parent'].apply(get_top_level)"
   ],
   "metadata": {
    "collapsed": false
   }
  },
  {
   "cell_type": "markdown",
   "source": [
    "![](img/vis_id_posting_top_level_parent.png)"
   ],
   "metadata": {
    "collapsed": false
   }
  },
  {
   "cell_type": "markdown",
   "source": [
    "The number of articles both users wrote a posting"
   ],
   "metadata": {
    "collapsed": false
   }
  },
  {
   "cell_type": "code",
   "execution_count": 19,
   "outputs": [
    {
     "data": {
      "text/plain": "UserCommunityName_x  UserCommunityName_y                 \n##V+##               2¢                                      1\n                     372981cf-896d-4aad-8c3e-3224fd13fc0c    1\n                     637472817                               1\n                     Abbalah                                 1\n                     Aktivieren                              1\n                                                            ..\nüberdrüssig          taps2017                                1\n                     wandkalender                            1\n                     zweiter sieger                          1\n                     §83SPG                                  1\n                     Äskulap                                 1\nName: similarity, Length: 263640, dtype: int64"
     },
     "execution_count": 19,
     "metadata": {},
     "output_type": "execute_result"
    }
   ],
   "source": [
    "def similarity_on_article():\n",
    "    data = pd.merge(postings, postings, on=[\"ID_Article\"])\n",
    "    filtered = data[data[\"UserCommunityName_x\"] != data[\"UserCommunityName_y\"]]\n",
    "    aggregated = filtered \\\n",
    "        .groupby([\"UserCommunityName_x\", \"UserCommunityName_y\"])[\"ID_Article\"] \\\n",
    "        .nunique().rename(\"similarity\")\n",
    "    return aggregated\n",
    "\n",
    "similarity_on_article()"
   ],
   "metadata": {
    "collapsed": false
   }
  },
  {
   "cell_type": "markdown",
   "source": [
    "Number of postings two user posted a comment"
   ],
   "metadata": {
    "collapsed": false
   }
  },
  {
   "cell_type": "code",
   "execution_count": 23,
   "outputs": [
    {
     "data": {
      "text/plain": "UserCommunityName_x                          UserCommunityName_y  \n##V+##                                       Georg Pichler            1\n                                             Secrets of Perfection    1\n*****Da beißt die Maus keinen Faden ab*****  *Andreas*                0\n                                             -whiteout-               0\n                                             .&,                      0\n                                                                     ..\nösterix                                      §83SPG                   0\n                                             µµµµµ                    0\n                                             Äolus                    0\n                                             Äskulap                  0\n                                             äh, und...               0\nName: similarity, Length: 2059678, dtype: int64"
     },
     "execution_count": 23,
     "metadata": {},
     "output_type": "execute_result"
    }
   ],
   "source": [
    "def similarity_on_post():\n",
    "    data = pd.merge(postings, postings, on=[\"ID_Posting_Top_Level_Parent\"])\n",
    "    filtered = data[data[\"UserCommunityName_x\"] != data[\"UserCommunityName_y\"]]\n",
    "    aggregated = filtered \\\n",
    "        .groupby([\"UserCommunityName_x\", \"UserCommunityName_y\"])[\"ID_Posting_Top_Level_Parent\"] \\\n",
    "        .nunique().rename(\"similarity\")\n",
    "    return aggregated\n",
    "\n",
    "similarity_on_post()"
   ],
   "metadata": {
    "collapsed": false
   }
  },
  {
   "cell_type": "markdown",
   "source": [
    "How many times they directly replied to each other"
   ],
   "metadata": {
    "collapsed": false
   }
  },
  {
   "cell_type": "code",
   "execution_count": 24,
   "outputs": [
    {
     "data": {
      "text/plain": "user_1      user_2                                \n##V+##      Georg Pichler                             2\n*Andreas*   Bioberni31                                1\n            alifant                                   1\n            allergische Reaktion                      1\n            el-che-vive_1 Guevara                     1\n                                                     ..\nµ-sam       Beobachter zweiter Ordnung                1\nÆthelwulf   Shagga Son of Dolf                        1\näh, und...  Unter faulen Äpfeln hat man wenig Wahl    1\n            habe keinen Namen                         1\nösterix     seefahrer-horst                           1\nName: similarity, Length: 1636, dtype: int64"
     },
     "execution_count": 24,
     "metadata": {},
     "output_type": "execute_result"
    }
   ],
   "source": [
    "def direct_comment():\n",
    "    data = pd.merge(postings, postings, left_on=\"ID_Posting\", right_on=\"ID_Posting_Parent\")\n",
    "    filtered = data[data[\"UserCommunityName_x\"] != data[\"UserCommunityName_y\"]]\n",
    "    filtered1 = filtered[[\"UserCommunityName_x\", \"UserCommunityName_y\", \"ID_Article_x\"]]\\\n",
    "        .rename(columns={\"UserCommunityName_x\": \"user_1\", \"UserCommunityName_y\": \"user_2\", \"ID_Article_x\": \"ID_Article\"})\n",
    "\n",
    "    filtered2 = filtered[[\"UserCommunityName_x\", \"UserCommunityName_y\", \"ID_Article_x\"]]\\\n",
    "        .rename(columns={\"UserCommunityName_y\": \"user_1\", \"UserCommunityName_x\": \"user_2\", \"ID_Article_x\": \"ID_Article\"})\n",
    "\n",
    "    return pd.concat([filtered1, filtered2]).groupby([\"user_1\", \"user_2\"])[\"ID_Article\"].count().rename(\"similarity\")\n",
    "\n",
    "direct_comment()"
   ],
   "metadata": {
    "collapsed": false
   }
  },
  {
   "cell_type": "code",
   "execution_count": 21,
   "outputs": [],
   "source": [],
   "metadata": {
    "collapsed": false
   }
  }
 ],
 "metadata": {
  "kernelspec": {
   "display_name": "Python 3.10.6 ('group-31')",
   "language": "python",
   "name": "python3"
  },
  "language_info": {
   "codemirror_mode": {
    "name": "ipython",
    "version": 3
   },
   "file_extension": ".py",
   "mimetype": "text/x-python",
   "name": "python",
   "nbconvert_exporter": "python",
   "pygments_lexer": "ipython3",
   "version": "3.10.6"
  },
  "orig_nbformat": 4,
  "vscode": {
   "interpreter": {
    "hash": "c2c8e12eb1d5fdfec7dc5081334a738390b8a5d6d4d405e5125d6729f0e8c9b9"
   }
  }
 },
 "nbformat": 4,
 "nbformat_minor": 2
}
