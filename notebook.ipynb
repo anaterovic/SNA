{
 "cells": [
  {
   "cell_type": "code",
   "execution_count": 4,
   "metadata": {},
   "outputs": [],
   "source": [
    "import numpy as np\n",
    "import networkx as nx\n",
    "import pandas as pd\n",
    "import matplotlib.pyplot as plt"
   ]
  },
  {
   "cell_type": "code",
   "execution_count": 8,
   "metadata": {},
   "outputs": [],
   "source": [
    "postings_1 = pd.read_csv('input/Postings_01052019_15052019.csv', sep=';')\n",
    "postings_2 = pd.read_csv('input/Postings_16052019_31052019.csv', sep=';')\n",
    "votes_1 = pd.read_csv('input/Votes_01052019_15052019.csv', sep=';')\n",
    "votes_2 = pd.read_csv('input/Votes_16052019_31052019.csv', sep=';')\n",
    "follow_ignore = pd.read_csv(\"input/Following_Ignoring_Relationships_01052019_31052019.csv\", sep=\";\")"
   ]
  }
 ],
 "metadata": {
  "kernelspec": {
   "display_name": "Python 3.10.6 ('sna')",
   "language": "python",
   "name": "python3"
  },
  "language_info": {
   "codemirror_mode": {
    "name": "ipython",
    "version": 3
   },
   "file_extension": ".py",
   "mimetype": "text/x-python",
   "name": "python",
   "nbconvert_exporter": "python",
   "pygments_lexer": "ipython3",
   "version": "3.10.6"
  },
  "orig_nbformat": 4,
  "vscode": {
   "interpreter": {
    "hash": "cd8ef2f58c32900e0da76c82afad42ef1f21edae6af587b6cfe674f3d8a65feb"
   }
  }
 },
 "nbformat": 4,
 "nbformat_minor": 2
}
