{
 "cells": [
  {
   "cell_type": "code",
   "execution_count": 1,
   "metadata": {},
   "outputs": [],
   "source": [
    "import numpy as np\n",
    "import networkx as nx\n",
    "import pandas as pd\n",
    "import matplotlib.pyplot as plt\n",
    "from scripts.load_data import load_postings, load_votes, get_first_contact_df, subset_users\n",
    "\n",
    "# reload imports jupyter magic\n",
    "%load_ext autoreload\n",
    "%autoreload 2"
   ]
  },
  {
   "attachments": {},
   "cell_type": "markdown",
   "metadata": {},
   "source": [
    "random neo4j test: please ignore"
   ]
  },
  {
   "cell_type": "code",
   "execution_count": null,
   "metadata": {},
   "outputs": [],
   "source": [
    "!conda create --name sna --file environment.yml"
   ]
  },
  {
   "cell_type": "code",
   "execution_count": null,
   "metadata": {},
   "outputs": [],
   "source": [
    "!sh run-neo4j.sh"
   ]
  },
  {
   "cell_type": "code",
   "execution_count": 116,
   "metadata": {},
   "outputs": [],
   "source": [
    "import py2neo\n",
    "\n",
    "# Connect to the graph database\n",
    "graph = py2neo.Graph(\"bolt://localhost:7687\", auth=(\"neo4j\", \"sna\"))\n"
   ]
  },
  {
   "cell_type": "code",
   "execution_count": 3,
   "metadata": {},
   "outputs": [
    {
     "name": "stdout",
     "output_type": "stream",
     "text": [
      "Votes loaded\n",
      "Postings loaded\n"
     ]
    }
   ],
   "source": [
    "votes = load_votes(\"input/\")\n",
    "postings = load_postings(\"input/\")\n",
    "votes = votes.sort_values(\"VoteCreatedAt\")\n",
    "postings[\"num_interactions\"] = postings.groupby(\"UserCommunityName\")[\"PostingCreatedAt\"].cumcount()"
   ]
  },
  {
   "cell_type": "code",
   "execution_count": null,
   "metadata": {},
   "outputs": [],
   "source": [
    "from py2neo import Graph, Node, Relationship\n",
    "\n",
    "tx = graph.begin()\n",
    "for index, row in votes.iterrows():\n",
    "    user =  Node(\"User\", UserCommunityName=row['UserCommunityName'], UserGender=row[\"UserGender\"])\n",
    "    posting =  Node(\"Posting\", ID_Posting=row['ID_Posting'])\n",
    "    vote = Relationship(user, \"Vote\", posting, VoteCreatedAt=row['VoteCreatedAt'], VotePositive=row['VotePositive'], VoteNegative=row['VoteNegative'])\n",
    "    tx.create(vote)\n",
    "graph.commit(tx)\n",
    "\n",
    "\n",
    "tx = graph.begin()\n",
    "for index, row in postings.iterrows():\n",
    "    article =  Node(\"Article\", ArticlePublishingDate=row['ArticlePublishingDate'], ArticleTitle=row[\"ArticleTitle\"], ArticleChannel=row[\"ArticleChannel\"], ArticleRessortName=row[\"ArticleRessortName\"])\n",
    "    # TODO make edge for resort and channel?\n",
    "    posting =  Node(\"Posting\", ID_Posting=row['ID_Posting'], PostingCreatedAt=row['PostingCreatedAt'], PostingComment=row['PostingComment'], PostingHeadline=row['PostingHeadline'])\n",
    "    posting_parent = Node(\"Posting\", ID_Posting=row['ID_Posting_Parent'])\n",
    "    replies = Relationship(posting_parent, \"Reply\", posting)\n",
    "    posts_on_article = Relationship(posting, \"PostsOnArticle\", article)\n",
    "    posting_author= Node(\"User\", UserCommunityName=row['UserCommunityName'], UserGender=row[\"UserGender\"])\n",
    "    comments=Relationship(posting_author, \"Comments\", posting)\n",
    "\n",
    "    tx.merge(posting, \"Article\",[ \"ArticleTitle\", \"ArticlePublishingDate\"])\n",
    "    tx.merge(article, \"Posting\", \"ID_Posting\")\n",
    "    tx.merge(posting_parent, \"Posting\", \"ID_Posting\")\n",
    "    tx.merge(posting_author, \"User\", \"UserCommunityName\")\n",
    "    tx.create(replies)\n",
    "    tx.create(comments)\n",
    "    tx.create(posts_on_article)\n",
    "\n",
    "graph.commit(tx)\n"
   ]
  },
  {
   "cell_type": "code",
   "execution_count": null,
   "metadata": {},
   "outputs": [],
   "source": [
    "graph.run(\"\"\"\n",
    "CREATE CONSTRAINT postingidunique\n",
    "FOR (n:Posting) REQUIRE n.ID_Posting IS UNIQUE\"\"\")\n",
    "\n",
    "graph.run(\"\"\"\n",
    "CREATE CONSTRAINT usernameunqiue\n",
    "FOR (n:User) REQUIRE n.UserCommunityName IS UNIQUE\n",
    "\"\"\")\n",
    "#graph.run(\"CREATE CONSTRAINT ON (n:User) ASSERTS n.UserCommunityName IS UNIQUE\")\n",
    "#graph.run(\"CREATE INDEX ON :Posting(ID_Posting)\")\n",
    "#graph.run(\"CREATE INDEX ON :Article(ArticleTitle, ArticlePublishingDate)\")"
   ]
  },
  {
   "cell_type": "markdown",
   "metadata": {},
   "source": [
    "Visualize the graph at http://localhost:7474"
   ]
  },
  {
   "cell_type": "code",
   "execution_count": 168,
   "metadata": {},
   "outputs": [
    {
     "data": {
      "text/html": [
       "(No data)"
      ],
      "text/plain": [
       "(No data)"
      ]
     },
     "execution_count": 168,
     "metadata": {},
     "output_type": "execute_result"
    }
   ],
   "source": [
    "# delete all nodes and edges\n",
    "graph.run('''MATCH (n)\n",
    "OPTIONAL MATCH (n)-[r]-()\n",
    "DELETE n,r''')"
   ]
  },
  {
   "cell_type": "code",
   "execution_count": 167,
   "metadata": {},
   "outputs": [
    {
     "data": {
      "text/html": [
       "<div>\n",
       "<style scoped>\n",
       "    .dataframe tbody tr th:only-of-type {\n",
       "        vertical-align: middle;\n",
       "    }\n",
       "\n",
       "    .dataframe tbody tr th {\n",
       "        vertical-align: top;\n",
       "    }\n",
       "\n",
       "    .dataframe thead th {\n",
       "        text-align: right;\n",
       "    }\n",
       "</style>\n",
       "<table border=\"1\" class=\"dataframe\">\n",
       "  <thead>\n",
       "    <tr style=\"text-align: right;\">\n",
       "      <th></th>\n",
       "    </tr>\n",
       "  </thead>\n",
       "  <tbody>\n",
       "  </tbody>\n",
       "</table>\n",
       "</div>"
      ],
      "text/plain": [
       "Empty DataFrame\n",
       "Columns: []\n",
       "Index: []"
      ]
     },
     "execution_count": 167,
     "metadata": {},
     "output_type": "execute_result"
    }
   ],
   "source": [
    "graph.run('''MATCH (a:User)-[r:Vote]->(b:Posting) RETURN a.UserCommunityName, b.ID_Posting, r.VoteCreatedAt''').to_data_frame()"
   ]
  },
  {
   "cell_type": "markdown",
   "metadata": {},
   "source": [
    "# Subsetting data"
   ]
  },
  {
   "attachments": {},
   "cell_type": "markdown",
   "metadata": {},
   "source": [
    "We don't want to have the following users\n",
    "- users that interacted with only a few posts\n",
    "- users that interacted with many posts, but in few days creating a skewed distribution\n",
    "\n",
    "Therefore we set a threshold on the number of days a user has to interact minimum"
   ]
  },
  {
   "cell_type": "markdown",
   "metadata": {},
   "source": [
    "Filtering users that interacted at the middle of the interval. Possible future extension: pick time interval instead of day"
   ]
  },
  {
   "cell_type": "code",
   "execution_count": 9,
   "metadata": {},
   "outputs": [],
   "source": [
    "user_selection = subset_users(votes, postings, \"both\", num_days_min=30, firt_interaction_middle=True)"
   ]
  },
  {
   "cell_type": "code",
   "execution_count": 10,
   "metadata": {},
   "outputs": [
    {
     "data": {
      "text/plain": [
       "0.2630704409233873"
      ]
     },
     "execution_count": 10,
     "metadata": {},
     "output_type": "execute_result"
    }
   ],
   "source": [
    "user_selection.nunique() /  pd.concat([votes[\"UserCommunityName\"], postings[\"UserCommunityName\"]]).nunique()"
   ]
  },
  {
   "cell_type": "markdown",
   "metadata": {},
   "source": [
    "# Defining a notion of similarity"
   ]
  },
  {
   "attachments": {},
   "cell_type": "markdown",
   "metadata": {},
   "source": [
    "## 1. Comment article similarity\n",
    "#### \"Users are similar when they comments under the same articles (or articles of the same ressort)\"\n",
    "\n",
    "Todo: aggregate postings based on author and target (e.g., article, channel, ressort). Either count or just stay binary"
   ]
  },
  {
   "cell_type": "code",
   "execution_count": 12,
   "metadata": {},
   "outputs": [],
   "source": [
    "selected_postings = postings[postings[\"UserCommunityName\"].isin(user_selection)].sort_values(\"PostingCreatedAt\")\n"
   ]
  },
  {
   "cell_type": "code",
   "execution_count": 13,
   "metadata": {},
   "outputs": [
    {
     "name": "stdout",
     "output_type": "stream",
     "text": [
      "100 %\r"
     ]
    }
   ],
   "source": [
    "import itertools\n",
    "# one can adapt this with e.g. ressort instead of article\n",
    "\n",
    "graph = nx.Graph()\n",
    "graph.add_nodes_from(selected_postings[\"UserCommunityName\"].unique())\n",
    "graph.add_nodes_from(selected_postings[\"ID_Article\"].unique())\n",
    "graph.add_edges_from(list(map(tuple, selected_postings[[\"UserCommunityName\", \"ID_Article\"]].values)))\n",
    "graph = graph.to_undirected()\n",
    "\n",
    "uu_overlap = {}\n",
    "article_ids = selected_postings[\"ID_Article\"].unique()\n",
    "for idx, article in enumerate(article_ids):\n",
    "    print(round((idx/len(article_ids))*100), \"%\", end=\"\\r\")\n",
    "    users_commented =list(graph.neighbors(article))\n",
    "    for uu_tuple in itertools.product(users_commented, users_commented):\n",
    "        if uu_tuple[0] != uu_tuple[1]:\n",
    "            if uu_tuple[0] > uu_tuple[1]:\n",
    "                uu_tuple = (uu_tuple[1], uu_tuple[0])\n",
    "            if uu_tuple in uu_overlap:\n",
    "                uu_overlap[uu_tuple] += 1\n",
    "            else:\n",
    "                uu_overlap[uu_tuple] = 1\n"
   ]
  },
  {
   "cell_type": "code",
   "execution_count": 14,
   "metadata": {},
   "outputs": [],
   "source": [
    "user_num_articles = postings[[\"UserCommunityName\", \"ID_Article\"]].drop_duplicates().groupby([\"UserCommunityName\"]).size().to_frame()\n",
    "# make dict of users and the number of articles they commented on\n",
    "user_num_articles = dict(zip(user_num_articles.index, user_num_articles[0]))"
   ]
  },
  {
   "cell_type": "markdown",
   "metadata": {},
   "source": [
    "Get the amount of common articles two users posted on"
   ]
  },
  {
   "cell_type": "code",
   "execution_count": 15,
   "metadata": {},
   "outputs": [
    {
     "data": {
      "text/plain": [
       "(82, (118, 461), 0.14162348877374784)"
      ]
     },
     "execution_count": 15,
     "metadata": {},
     "output_type": "execute_result"
    }
   ],
   "source": [
    "overlap = uu_overlap[('Heckscheibenwischer', 'Heinz Fettleber')]\n",
    "union = user_num_articles[\"Heinz Fettleber\"] + user_num_articles[\"Heckscheibenwischer\"]\n",
    "overlap, (user_num_articles[\"Heinz Fettleber\"], user_num_articles[\"Heckscheibenwischer\"]) ,overlap / union"
   ]
  },
  {
   "cell_type": "code",
   "execution_count": 16,
   "metadata": {},
   "outputs": [],
   "source": [
    "similarities = []\n",
    "for uu_tuple in uu_overlap.keys():\n",
    "    overlap = uu_overlap[uu_tuple]\n",
    "    union = user_num_articles[uu_tuple[0]] + user_num_articles[uu_tuple[1]]\n",
    "    similarities += [[uu_tuple[0],uu_tuple[1], overlap / union]]"
   ]
  },
  {
   "cell_type": "code",
   "execution_count": null,
   "metadata": {},
   "outputs": [],
   "source": [
    "similarity_table = pd.DataFrame(np.array(similarities), columns=[\"A\", \"B\", \"Similarity\"])"
   ]
  },
  {
   "cell_type": "code",
   "execution_count": null,
   "metadata": {},
   "outputs": [
    {
     "data": {
      "text/plain": [
       "(13111419, 3)"
      ]
     },
     "execution_count": 19,
     "metadata": {},
     "output_type": "execute_result"
    }
   ],
   "source": [
    "similarity_table\n",
    "# TODO split time "
   ]
  }
 ],
 "metadata": {
  "kernelspec": {
   "display_name": "Python 3",
   "language": "python",
   "name": "python3"
  },
  "language_info": {
   "codemirror_mode": {
    "name": "ipython",
    "version": 3
   },
   "file_extension": ".py",
   "mimetype": "text/x-python",
   "name": "python",
   "nbconvert_exporter": "python",
   "pygments_lexer": "ipython3",
   "version": "3.10.6"
  },
  "orig_nbformat": 4,
  "vscode": {
   "interpreter": {
    "hash": "916dbcbb3f70747c44a77c7bcd40155683ae19c65e1c03b4aa3499c5328201f1"
   }
  }
 },
 "nbformat": 4,
 "nbformat_minor": 2
}
