{
 "cells": [
  {
   "cell_type": "code",
   "execution_count": 2,
   "metadata": {},
   "outputs": [],
   "source": [
    "import numpy as np\n",
    "import networkx as nx\n",
    "import pandas as pd\n",
    "import matplotlib.pyplot as plt"
   ]
  },
  {
   "cell_type": "code",
   "execution_count": null,
   "metadata": {},
   "outputs": [],
   "source": [
    "!conda create --name sna --file environment.yml"
   ]
  },
  {
   "cell_type": "code",
   "execution_count": null,
   "metadata": {},
   "outputs": [],
   "source": [
    "!sh run-neo4j.sh"
   ]
  },
  {
   "cell_type": "code",
   "execution_count": 116,
   "metadata": {},
   "outputs": [],
   "source": [
    "import py2neo\n",
    "\n",
    "# Connect to the graph database\n",
    "graph = py2neo.Graph(\"bolt://localhost:7687\", auth=(\"neo4j\", \"sna\"))\n"
   ]
  },
  {
   "cell_type": "code",
   "execution_count": 69,
   "metadata": {},
   "outputs": [],
   "source": [
    "postings_1 = pd.read_csv('input/Postings_01052019_15052019.csv', sep=';')\n",
    "postings_2 = pd.read_csv('input/Postings_16052019_31052019.csv', sep=';')\n",
    "votes_1 = pd.read_csv('input/Votes_01052019_15052019.csv', sep=';')\n",
    "votes_2 = pd.read_csv('input/Votes_16052019_31052019.csv', sep=';')\n",
    "follow_ignore = pd.read_csv(\"input/Following_Ignoring_Relationships_01052019_31052019.csv\", sep=\";\")\n",
    "\n",
    "# Merge the two datasets\n",
    "postings = pd.concat([postings_1, postings_2])\n",
    "votes = pd.concat([votes_1, votes_2])\n",
    "\n",
    "votes[\"VoteCreatedAt\"] = pd.to_datetime(votes[\"VoteCreatedAt\"], format=\"%Y-%m-%d %H:%M:%S\").dt.date\n",
    "votes = votes.sort_values(\"VoteCreatedAt\")\n",
    "votes[\"num_interactions\"] = votes.groupby(\"UserCommunityName\")[\"VoteCreatedAt\"].cumcount()\n",
    "\n",
    "postings[\"PostingCreatedAt\"] = pd.to_datetime(postings[\"PostingCreatedAt\"], format=\"%Y-%m-%d %H:%M:%S\").dt.date\n",
    "postings = postings.sort_values(\"PostingCreatedAt\")\n",
    "postings[\"num_interactions\"] = postings.groupby(\"UserCommunityName\")[\"PostingCreatedAt\"].cumcount()"
   ]
  },
  {
   "cell_type": "code",
   "execution_count": 163,
   "metadata": {},
   "outputs": [
    {
     "ename": "KeyboardInterrupt",
     "evalue": "",
     "output_type": "error",
     "traceback": [
      "\u001b[0;31m---------------------------------------------------------------------------\u001b[0m",
      "\u001b[0;31mKeyboardInterrupt\u001b[0m                         Traceback (most recent call last)",
      "Cell \u001b[0;32mIn [163], line 8\u001b[0m\n\u001b[1;32m      6\u001b[0m     posting \u001b[39m=\u001b[39m  Node(\u001b[39m\"\u001b[39m\u001b[39mPosting\u001b[39m\u001b[39m\"\u001b[39m, ID_Posting\u001b[39m=\u001b[39mrow[\u001b[39m'\u001b[39m\u001b[39mID_Posting\u001b[39m\u001b[39m'\u001b[39m])\n\u001b[1;32m      7\u001b[0m     vote \u001b[39m=\u001b[39m Relationship(user, \u001b[39m\"\u001b[39m\u001b[39mVote\u001b[39m\u001b[39m\"\u001b[39m, posting, VoteCreatedAt\u001b[39m=\u001b[39mrow[\u001b[39m'\u001b[39m\u001b[39mVoteCreatedAt\u001b[39m\u001b[39m'\u001b[39m], VotePositive\u001b[39m=\u001b[39mrow[\u001b[39m'\u001b[39m\u001b[39mVotePositive\u001b[39m\u001b[39m'\u001b[39m], VoteNegative\u001b[39m=\u001b[39mrow[\u001b[39m'\u001b[39m\u001b[39mVoteNegative\u001b[39m\u001b[39m'\u001b[39m])\n\u001b[0;32m----> 8\u001b[0m     tx\u001b[39m.\u001b[39;49mcreate(vote)\n\u001b[1;32m      9\u001b[0m graph\u001b[39m.\u001b[39mcommit(tx)\n\u001b[1;32m     12\u001b[0m tx \u001b[39m=\u001b[39m graph\u001b[39m.\u001b[39mbegin()\n",
      "File \u001b[0;32m~/anaconda3/envs/sna/lib/python3.10/site-packages/py2neo/database.py:1063\u001b[0m, in \u001b[0;36mTransaction.create\u001b[0;34m(self, subgraph)\u001b[0m\n\u001b[1;32m   1061\u001b[0m     \u001b[39mraise\u001b[39;00m \u001b[39mTypeError\u001b[39;00m(\u001b[39m\"\u001b[39m\u001b[39mNo method defined to create object \u001b[39m\u001b[39m%r\u001b[39;00m\u001b[39m\"\u001b[39m \u001b[39m%\u001b[39m subgraph)\n\u001b[1;32m   1062\u001b[0m \u001b[39melse\u001b[39;00m:\n\u001b[0;32m-> 1063\u001b[0m     create(\u001b[39mself\u001b[39;49m)\n",
      "File \u001b[0;32m~/anaconda3/envs/sna/lib/python3.10/site-packages/py2neo/data.py:200\u001b[0m, in \u001b[0;36mSubgraph.__db_create__\u001b[0;34m(self, tx)\u001b[0m\n\u001b[1;32m    198\u001b[0m pq \u001b[39m=\u001b[39m unwind_create_nodes_query(\u001b[39mlist\u001b[39m(\u001b[39mmap\u001b[39m(\u001b[39mdict\u001b[39m, nodes)), labels\u001b[39m=\u001b[39mlabels)\n\u001b[1;32m    199\u001b[0m pq \u001b[39m=\u001b[39m cypher_join(pq, \u001b[39m\"\u001b[39m\u001b[39mRETURN id(_)\u001b[39m\u001b[39m\"\u001b[39m)\n\u001b[0;32m--> 200\u001b[0m records \u001b[39m=\u001b[39m tx\u001b[39m.\u001b[39;49mrun(\u001b[39m*\u001b[39;49mpq)\n\u001b[1;32m    201\u001b[0m \u001b[39mfor\u001b[39;00m i, record \u001b[39min\u001b[39;00m \u001b[39menumerate\u001b[39m(records):\n\u001b[1;32m    202\u001b[0m     node \u001b[39m=\u001b[39m nodes[i]\n",
      "File \u001b[0;32m~/anaconda3/envs/sna/lib/python3.10/site-packages/py2neo/database.py:995\u001b[0m, in \u001b[0;36mTransaction.run\u001b[0;34m(self, cypher, parameters, **kwparameters)\u001b[0m\n\u001b[1;32m    993\u001b[0m     \u001b[39mreturn\u001b[39;00m Cursor(result, hydrant)\n\u001b[1;32m    994\u001b[0m \u001b[39mfinally\u001b[39;00m:\n\u001b[0;32m--> 995\u001b[0m     \u001b[39mif\u001b[39;00m \u001b[39mnot\u001b[39;00m \u001b[39mself\u001b[39m\u001b[39m.\u001b[39mref:\n\u001b[1;32m    996\u001b[0m         \u001b[39mself\u001b[39m\u001b[39m.\u001b[39m_closed \u001b[39m=\u001b[39m \u001b[39mTrue\u001b[39;00m\n",
      "File \u001b[0;32m~/anaconda3/envs/sna/lib/python3.10/site-packages/py2neo/client/bolt.py:1084\u001b[0m, in \u001b[0;36mItemizedTask.__bool__\u001b[0;34m(self)\u001b[0m\n\u001b[1;32m   1083\u001b[0m \u001b[39mdef\u001b[39;00m \u001b[39m__bool__\u001b[39m(\u001b[39mself\u001b[39m):\n\u001b[0;32m-> 1084\u001b[0m     \u001b[39mreturn\u001b[39;00m \u001b[39mnot\u001b[39;00m \u001b[39mself\u001b[39m\u001b[39m.\u001b[39mdone() \u001b[39mand\u001b[39;00m \u001b[39mnot\u001b[39;00m \u001b[39mself\u001b[39;49m\u001b[39m.\u001b[39;49mfailed()\n",
      "File \u001b[0;32m~/anaconda3/envs/sna/lib/python3.10/site-packages/py2neo/client/bolt.py:1136\u001b[0m, in \u001b[0;36mItemizedTask.failed\u001b[0;34m(self)\u001b[0m\n\u001b[1;32m   1135\u001b[0m \u001b[39mdef\u001b[39;00m \u001b[39mfailed\u001b[39m(\u001b[39mself\u001b[39m):\n\u001b[0;32m-> 1136\u001b[0m     \u001b[39mreturn\u001b[39;00m \u001b[39many\u001b[39;49m(item\u001b[39m.\u001b[39;49mfailed() \u001b[39mfor\u001b[39;49;00m item \u001b[39min\u001b[39;49;00m \u001b[39mself\u001b[39;49m\u001b[39m.\u001b[39;49m_items)\n",
      "File \u001b[0;32m~/anaconda3/envs/sna/lib/python3.10/site-packages/py2neo/client/bolt.py:1136\u001b[0m, in \u001b[0;36m<genexpr>\u001b[0;34m(.0)\u001b[0m\n\u001b[1;32m   1135\u001b[0m \u001b[39mdef\u001b[39;00m \u001b[39mfailed\u001b[39m(\u001b[39mself\u001b[39m):\n\u001b[0;32m-> 1136\u001b[0m     \u001b[39mreturn\u001b[39;00m \u001b[39many\u001b[39m(item\u001b[39m.\u001b[39;49mfailed() \u001b[39mfor\u001b[39;00m item \u001b[39min\u001b[39;00m \u001b[39mself\u001b[39m\u001b[39m.\u001b[39m_items)\n",
      "File \u001b[0;32m~/anaconda3/envs/sna/lib/python3.10/site-packages/py2neo/client/bolt.py:1136\u001b[0m, in \u001b[0;36mItemizedTask.failed\u001b[0;34m(self)\u001b[0m\n\u001b[1;32m   1135\u001b[0m \u001b[39mdef\u001b[39;00m \u001b[39mfailed\u001b[39m(\u001b[39mself\u001b[39m):\n\u001b[0;32m-> 1136\u001b[0m     \u001b[39mreturn\u001b[39;00m \u001b[39many\u001b[39;49m(item\u001b[39m.\u001b[39;49mfailed() \u001b[39mfor\u001b[39;49;00m item \u001b[39min\u001b[39;49;00m \u001b[39mself\u001b[39;49m\u001b[39m.\u001b[39;49m_items)\n",
      "File \u001b[0;32m~/anaconda3/envs/sna/lib/python3.10/site-packages/py2neo/client/bolt.py:1136\u001b[0m, in \u001b[0;36m<genexpr>\u001b[0;34m(.0)\u001b[0m\n\u001b[1;32m   1135\u001b[0m \u001b[39mdef\u001b[39;00m \u001b[39mfailed\u001b[39m(\u001b[39mself\u001b[39m):\n\u001b[0;32m-> 1136\u001b[0m     \u001b[39mreturn\u001b[39;00m \u001b[39many\u001b[39m(item\u001b[39m.\u001b[39;49mfailed() \u001b[39mfor\u001b[39;00m item \u001b[39min\u001b[39;00m \u001b[39mself\u001b[39m\u001b[39m.\u001b[39m_items)\n",
      "\u001b[0;31mKeyboardInterrupt\u001b[0m: "
     ]
    }
   ],
   "source": [
    "from py2neo import Graph, Node, Relationship\n",
    "\n",
    "tx = graph.begin()\n",
    "for index, row in votes.iterrows():\n",
    "    user =  Node(\"User\", UserCommunityName=row['UserCommunityName'], UserGender=row[\"UserGender\"])\n",
    "    posting =  Node(\"Posting\", ID_Posting=row['ID_Posting'])\n",
    "    vote = Relationship(user, \"Vote\", posting, VoteCreatedAt=row['VoteCreatedAt'], VotePositive=row['VotePositive'], VoteNegative=row['VoteNegative'])\n",
    "    tx.create(vote)\n",
    "graph.commit(tx)\n",
    "\n",
    "\n",
    "tx = graph.begin()\n",
    "for index, row in postings.iterrows():\n",
    "    article =  Node(\"Article\", ArticlePublishingDate=row['ArticlePublishingDate'], ArticleTitle=row[\"ArticleTitle\"], ArticleChannel=row[\"ArticleChannel\"], ArticleRessortName=row[\"ArticleRessortName\"])\n",
    "    # TODO make edge for resort and channel?\n",
    "    posting =  Node(\"Posting\", ID_Posting=row['ID_Posting'], PostingCreatedAt=row['PostingCreatedAt'], PostingComment=row['PostingComment'], PostingHeadline=row['PostingHeadline'])\n",
    "    posting_parent = Node(\"Posting\", ID_Posting=row['ID_Posting_Parent'])\n",
    "    replies = Relationship(posting_parent, \"Reply\", posting)\n",
    "    posts_on_article = Relationship(posting, \"PostsOnArticle\", article)\n",
    "    posting_author= Node(\"User\", UserCommunityName=row['UserCommunityName'], UserGender=row[\"UserGender\"])\n",
    "    comments=Relationship(posting_author, \"Comments\", posting)\n",
    "\n",
    "    tx.merge(posting, \"Posting\", \"ID_Posting\")\n",
    "    tx.merge(posting_parent, \"Posting\", \"ID_Posting\")\n",
    "    tx.merge(posting_author, \"User\", \"UserCommunityName\")\n",
    "    tx.create(replies)\n",
    "    tx.create(comments)\n",
    "    tx.create(posts_on_article)\n",
    "\n",
    "graph.commit(tx)\n"
   ]
  },
  {
   "cell_type": "markdown",
   "metadata": {},
   "source": [
    "Visualize the graph at http://localhost:7474"
   ]
  },
  {
   "cell_type": "code",
   "execution_count": 162,
   "metadata": {},
   "outputs": [
    {
     "data": {
      "text/html": [
       "(No data)"
      ],
      "text/plain": [
       "(No data)"
      ]
     },
     "execution_count": 162,
     "metadata": {},
     "output_type": "execute_result"
    }
   ],
   "source": [
    "# delete all nodes and edges\n",
    "graph.run('''MATCH (n)\n",
    "OPTIONAL MATCH (n)-[r]-()\n",
    "DELETE n,r''')"
   ]
  },
  {
   "cell_type": "code",
   "execution_count": 154,
   "metadata": {},
   "outputs": [
    {
     "data": {
      "text/html": [
       "<div>\n",
       "<style scoped>\n",
       "    .dataframe tbody tr th:only-of-type {\n",
       "        vertical-align: middle;\n",
       "    }\n",
       "\n",
       "    .dataframe tbody tr th {\n",
       "        vertical-align: top;\n",
       "    }\n",
       "\n",
       "    .dataframe thead th {\n",
       "        text-align: right;\n",
       "    }\n",
       "</style>\n",
       "<table border=\"1\" class=\"dataframe\">\n",
       "  <thead>\n",
       "    <tr style=\"text-align: right;\">\n",
       "      <th></th>\n",
       "      <th>a.UserCommunityName</th>\n",
       "      <th>b.ID_Posting</th>\n",
       "      <th>r.VoteCreatedAt</th>\n",
       "    </tr>\n",
       "  </thead>\n",
       "  <tbody>\n",
       "    <tr>\n",
       "      <th>0</th>\n",
       "      <td>Roky Erickson</td>\n",
       "      <td>1041078078</td>\n",
       "      <td>2019-05-01</td>\n",
       "    </tr>\n",
       "    <tr>\n",
       "      <th>1</th>\n",
       "      <td>Hollerbusch</td>\n",
       "      <td>1041072055</td>\n",
       "      <td>2019-05-01</td>\n",
       "    </tr>\n",
       "    <tr>\n",
       "      <th>2</th>\n",
       "      <td>4freedom</td>\n",
       "      <td>1041073526</td>\n",
       "      <td>2019-05-01</td>\n",
       "    </tr>\n",
       "    <tr>\n",
       "      <th>3</th>\n",
       "      <td>RudiSemmel</td>\n",
       "      <td>1041073507</td>\n",
       "      <td>2019-05-01</td>\n",
       "    </tr>\n",
       "    <tr>\n",
       "      <th>4</th>\n",
       "      <td>Dropkick1990</td>\n",
       "      <td>1041062094</td>\n",
       "      <td>2019-05-01</td>\n",
       "    </tr>\n",
       "  </tbody>\n",
       "</table>\n",
       "</div>"
      ],
      "text/plain": [
       "  a.UserCommunityName  b.ID_Posting r.VoteCreatedAt\n",
       "0       Roky Erickson    1041078078      2019-05-01\n",
       "1         Hollerbusch    1041072055      2019-05-01\n",
       "2            4freedom    1041073526      2019-05-01\n",
       "3          RudiSemmel    1041073507      2019-05-01\n",
       "4        Dropkick1990    1041062094      2019-05-01"
      ]
     },
     "execution_count": 154,
     "metadata": {},
     "output_type": "execute_result"
    }
   ],
   "source": [
    "graph.run('''MATCH (a:User)-[r:Vote]->(b:Posting) RETURN a.UserCommunityName, b.ID_Posting, r.VoteCreatedAt''').to_data_frame()"
   ]
  },
  {
   "cell_type": "markdown",
   "metadata": {},
   "source": [
    "We don't want to have the following users\n",
    "- users that interacted with only a few posts\n",
    "- users that interacted with many posts, but in few days creating a skewed distribution\n",
    "\n",
    "Therefore we set a threshold on the number of days a user has to interact minimum"
   ]
  },
  {
   "cell_type": "code",
   "execution_count": 4,
   "metadata": {},
   "outputs": [],
   "source": [
    "NUM_DAYS_INTERACTED_MIN = 20"
   ]
  },
  {
   "cell_type": "code",
   "execution_count": 72,
   "metadata": {},
   "outputs": [],
   "source": [
    "v = votes[[\"UserCommunityName\",\"VoteCreatedAt\"]].rename(columns={\"VoteCreatedAt\":\"CreatedAt\"})\n",
    "p = postings[[\"UserCommunityName\", \"PostingCreatedAt\"]].rename(columns={\"PostingCreatedAt\":\"CreatedAt\"})\n",
    "\n",
    "num_days_interacted = pd.concat([v,p]).groupby([\"UserCommunityName\",\"CreatedAt\"]).size().reset_index()\\\n",
    "                .groupby(\"UserCommunityName\").size().reset_index()\n",
    "\n",
    "user_subset_days_interacted = num_days_interacted[num_days_interacted[0] >= NUM_DAYS_INTERACTED_MIN].UserCommunityName.unique()"
   ]
  },
  {
   "cell_type": "markdown",
   "metadata": {},
   "source": [
    "# Subsetting data"
   ]
  },
  {
   "cell_type": "markdown",
   "metadata": {},
   "source": [
    "Filtering users that interacted at the middle of the interval. Possible future extension: pick time interval instead of day"
   ]
  },
  {
   "cell_type": "code",
   "execution_count": 78,
   "metadata": {},
   "outputs": [
    {
     "data": {
      "text/html": [
       "<div>\n",
       "<style scoped>\n",
       "    .dataframe tbody tr th:only-of-type {\n",
       "        vertical-align: middle;\n",
       "    }\n",
       "\n",
       "    .dataframe tbody tr th {\n",
       "        vertical-align: top;\n",
       "    }\n",
       "\n",
       "    .dataframe thead th {\n",
       "        text-align: right;\n",
       "    }\n",
       "</style>\n",
       "<table border=\"1\" class=\"dataframe\">\n",
       "  <thead>\n",
       "    <tr style=\"text-align: right;\">\n",
       "      <th></th>\n",
       "      <th>UserCommunityName_x</th>\n",
       "      <th>UserCommunityName_y</th>\n",
       "      <th>VoteCreatedAt</th>\n",
       "      <th>num_interactions</th>\n",
       "    </tr>\n",
       "  </thead>\n",
       "  <tbody>\n",
       "    <tr>\n",
       "      <th>0</th>\n",
       "      <td>!! Melzer = Doppelspieler !!</td>\n",
       "      <td>1816/55</td>\n",
       "      <td>2019-05-30</td>\n",
       "      <td>3</td>\n",
       "    </tr>\n",
       "    <tr>\n",
       "      <th>1</th>\n",
       "      <td>!! Melzer = Doppelspieler !!</td>\n",
       "      <td>Hasan_Vural</td>\n",
       "      <td>2019-05-03</td>\n",
       "      <td>0</td>\n",
       "    </tr>\n",
       "    <tr>\n",
       "      <th>2</th>\n",
       "      <td>!! Melzer = Doppelspieler !!</td>\n",
       "      <td>Mohrdred</td>\n",
       "      <td>2019-05-08</td>\n",
       "      <td>1</td>\n",
       "    </tr>\n",
       "    <tr>\n",
       "      <th>3</th>\n",
       "      <td>!! Melzer = Doppelspieler !!</td>\n",
       "      <td>Wissender</td>\n",
       "      <td>2019-05-30</td>\n",
       "      <td>2</td>\n",
       "    </tr>\n",
       "    <tr>\n",
       "      <th>4</th>\n",
       "      <td>!!!DerAbgrund!!!</td>\n",
       "      <td>Gewerkschaftelhuber</td>\n",
       "      <td>2019-05-30</td>\n",
       "      <td>4</td>\n",
       "    </tr>\n",
       "    <tr>\n",
       "      <th>...</th>\n",
       "      <td>...</td>\n",
       "      <td>...</td>\n",
       "      <td>...</td>\n",
       "      <td>...</td>\n",
       "    </tr>\n",
       "    <tr>\n",
       "      <th>2953357</th>\n",
       "      <td>Žarko Jankovic</td>\n",
       "      <td>hoferharald</td>\n",
       "      <td>2019-05-01</td>\n",
       "      <td>0</td>\n",
       "    </tr>\n",
       "    <tr>\n",
       "      <th>2953358</th>\n",
       "      <td>Žarko Jankovic</td>\n",
       "      <td>moejoe187</td>\n",
       "      <td>2019-05-02</td>\n",
       "      <td>6</td>\n",
       "    </tr>\n",
       "    <tr>\n",
       "      <th>2953359</th>\n",
       "      <td>Žarko Jankovic</td>\n",
       "      <td>puppetmaster</td>\n",
       "      <td>2019-05-02</td>\n",
       "      <td>13</td>\n",
       "    </tr>\n",
       "    <tr>\n",
       "      <th>2953360</th>\n",
       "      <td>Žarko Jankovic</td>\n",
       "      <td>stndrd</td>\n",
       "      <td>2019-05-02</td>\n",
       "      <td>14</td>\n",
       "    </tr>\n",
       "    <tr>\n",
       "      <th>2953361</th>\n",
       "      <td>Žarko Jankovic</td>\n",
       "      <td>wakman</td>\n",
       "      <td>2019-05-02</td>\n",
       "      <td>16</td>\n",
       "    </tr>\n",
       "  </tbody>\n",
       "</table>\n",
       "<p>2953362 rows × 4 columns</p>\n",
       "</div>"
      ],
      "text/plain": [
       "                  UserCommunityName_x  UserCommunityName_y VoteCreatedAt  \\\n",
       "0        !! Melzer = Doppelspieler !!              1816/55    2019-05-30   \n",
       "1        !! Melzer = Doppelspieler !!          Hasan_Vural    2019-05-03   \n",
       "2        !! Melzer = Doppelspieler !!             Mohrdred    2019-05-08   \n",
       "3        !! Melzer = Doppelspieler !!            Wissender    2019-05-30   \n",
       "4                    !!!DerAbgrund!!!  Gewerkschaftelhuber    2019-05-30   \n",
       "...                               ...                  ...           ...   \n",
       "2953357                Žarko Jankovic          hoferharald    2019-05-01   \n",
       "2953358                Žarko Jankovic            moejoe187    2019-05-02   \n",
       "2953359                Žarko Jankovic         puppetmaster    2019-05-02   \n",
       "2953360                Žarko Jankovic               stndrd    2019-05-02   \n",
       "2953361                Žarko Jankovic               wakman    2019-05-02   \n",
       "\n",
       "         num_interactions  \n",
       "0                       3  \n",
       "1                       0  \n",
       "2                       1  \n",
       "3                       2  \n",
       "4                       4  \n",
       "...                   ...  \n",
       "2953357                 0  \n",
       "2953358                 6  \n",
       "2953359                13  \n",
       "2953360                14  \n",
       "2953361                16  \n",
       "\n",
       "[2953362 rows x 4 columns]"
      ]
     },
     "execution_count": 78,
     "metadata": {},
     "output_type": "execute_result"
    }
   ],
   "source": [
    "first_contact_vote_pairs"
   ]
  },
  {
   "cell_type": "code",
   "execution_count": 77,
   "metadata": {},
   "outputs": [],
   "source": [
    "# Find u-u tuples with their first date of interaction by vote\n",
    "first_contact_vote_pairs = (votes[[\"UserCommunityName\", \"UserCreatedAt\", \"ID_Posting\", \"VoteCreatedAt\", \"num_interactions\"]]\n",
    " .merge(postings[[\"ID_Posting\", \"UserCommunityName\", \"UserCreatedAt\"]], on=[\"ID_Posting\"], how=\"left\")\n",
    " [[\"UserCommunityName_x\", \"UserCommunityName_y\", \"VoteCreatedAt\",\"num_interactions\"]]\n",
    " .sort_values(\"VoteCreatedAt\")\n",
    " .groupby([\"UserCommunityName_x\", \"UserCommunityName_y\"])\n",
    " .first()\n",
    " .reset_index())\n",
    "\n",
    "first_contact_reply_pairs = (postings.dropna(subset=[\"ID_Posting_Parent\"])[\n",
    " [\"UserCommunityName\", \"ID_Posting_Parent\", \"PostingCreatedAt\"]]\n",
    " .merge(postings[[\"ID_Posting\", \"UserCommunityName\"]], left_on=[\"ID_Posting_Parent\"], right_on=[\"ID_Posting\"], how=\"left\")\n",
    " [[\"UserCommunityName_x\", \"UserCommunityName_y\", \"PostingCreatedAt\"]]\n",
    " .sort_values(\"PostingCreatedAt\")\n",
    " .groupby([\"UserCommunityName_x\", \"UserCommunityName_y\"])\n",
    " .first()\n",
    " .reset_index())\n",
    "\n"
   ]
  },
  {
   "cell_type": "markdown",
   "metadata": {},
   "source": [
    "Now we have a directed relationship: Person x contacted person y. We want to map this unidirectional."
   ]
  },
  {
   "cell_type": "code",
   "execution_count": 106,
   "metadata": {},
   "outputs": [],
   "source": [
    "def apply_bidirectionality(df, on=\"VoteCreatedAt\"):\n",
    "    \"\"\"Here we account for bidirectionality of the contact pairs. The problem is that if user A comments user B's post,\n",
    "     but user B previously commented user A's post we have 2 rows with (eventually) different dates. We take the minimum and leciographycally sort the usernames for enabling joining\"\"\"\n",
    "    inv_df = (df.merge(df, left_on=[\"UserCommunityName_x\", \"UserCommunityName_y\"], right_on=[\"UserCommunityName_y\", \"UserCommunityName_x\"], suffixes=(\"\", \"_inv\"), how=\"left\"))\n",
    "    inv_df[[f\"{on}_inv\",f\"{on}\"]] = inv_df[[f\"{on}_inv\",f\"{on}\"]].fillna(pd.to_datetime(\"2050-01-01\", format=\"%Y-%m-%d\").date())\n",
    "    inv_df[f\"{on}_bidirectional\"] = inv_df[[f\"{on}_inv\",on]].min(axis=1)\n",
    "    inv_df[[\"UserCommunityName_x\", \"UserCommunityName_y\"]] = np.sort(inv_df[[\"UserCommunityName_x\", \"UserCommunityName_y\"]], axis=1)\n",
    "    return inv_df[[\"UserCommunityName_x\", \"UserCommunityName_y\", f\"{on}_bidirectional\"]].drop_duplicates()"
   ]
  },
  {
   "cell_type": "code",
   "execution_count": 107,
   "metadata": {},
   "outputs": [],
   "source": [
    "# VARIANT A: we use dates to determine first contact\n",
    "first_contact_vote_pairs_bd = apply_bidirectionality(first_contact_vote_pairs, \"VoteCreatedAt\")\n",
    "first_contact_reply_pairs_bd = apply_bidirectionality(first_contact_reply_pairs, \"PostingCreatedAt\")"
   ]
  },
  {
   "cell_type": "code",
   "execution_count": 9,
   "metadata": {},
   "outputs": [],
   "source": [
    "fist_contact = (first_contact_reply_pairs_bd.merge(first_contact_vote_pairs_bd, on=[\"UserCommunityName_x\", \"UserCommunityName_y\"], how=\"outer\")\n",
    "    .fillna(pd.to_datetime(\"2050-01-01\", format=\"%Y-%m-%d\").date())) # We set a date in the future to avoid problems with the min function\n",
    "fist_contact[\"first_contact\"] = fist_contact[[\n",
    "    \"PostingCreatedAt_bidirectional\", \"VoteCreatedAt_bidirectional\"]].min(axis=1)\n"
   ]
  },
  {
   "cell_type": "code",
   "execution_count": 10,
   "metadata": {},
   "outputs": [
    {
     "data": {
      "text/plain": [
       "datetime.date(2019, 5, 18)"
      ]
     },
     "execution_count": 10,
     "metadata": {},
     "output_type": "execute_result"
    }
   ],
   "source": [
    "time_span = fist_contact[\"first_contact\"].max() - fist_contact[\"first_contact\"].min()\n",
    "half_time_span = time_span/2\n",
    "middle = (fist_contact[\"first_contact\"].min() + half_time_span)\n",
    "middle"
   ]
  },
  {
   "cell_type": "code",
   "execution_count": 11,
   "metadata": {},
   "outputs": [],
   "source": [
    "subset_user_pairs = fist_contact[fist_contact[\"first_contact\"] == middle][[\"UserCommunityName_x\", \"UserCommunityName_y\", \"first_contact\"]]"
   ]
  },
  {
   "cell_type": "markdown",
   "metadata": {},
   "source": [
    "The user pairs can now be viewed as a set"
   ]
  },
  {
   "cell_type": "code",
   "execution_count": 12,
   "metadata": {},
   "outputs": [],
   "source": [
    "selected_users = pd.concat([subset_user_pairs[\"UserCommunityName_x\"], subset_user_pairs[\"UserCommunityName_y\"]]).drop_duplicates() # middle interval subset\n",
    "selected_users = selected_users[selected_users.isin(user_subset_days_interacted)]  # filter out users with less than X days of interaction"
   ]
  },
  {
   "cell_type": "markdown",
   "metadata": {},
   "source": [
    "Percentage of remaining users"
   ]
  },
  {
   "cell_type": "code",
   "execution_count": 13,
   "metadata": {},
   "outputs": [
    {
     "data": {
      "text/plain": [
       "0.16720075959883687"
      ]
     },
     "execution_count": 13,
     "metadata": {},
     "output_type": "execute_result"
    }
   ],
   "source": [
    "selected_users.nunique() /  pd.concat([votes[\"UserCommunityName\"], postings[\"UserCommunityName\"]]).nunique()"
   ]
  },
  {
   "cell_type": "markdown",
   "metadata": {},
   "source": [
    "# Defining a notion of similarity"
   ]
  },
  {
   "cell_type": "markdown",
   "metadata": {},
   "source": [
    "## 1. Voting article similarity\n",
    "#### \"Users are similar when they vote on comments of the same articles (or articles of the same ressort)\"\n",
    "\n",
    "Todo: aggregate postings based on author and target (e.g., article, channel, ressort). Either count or just stay binary"
   ]
  },
  {
   "cell_type": "code",
   "execution_count": 58,
   "metadata": {},
   "outputs": [],
   "source": [
    "votes_with_article_id = (votes[votes[\"UserCommunityName\"].isin(selected_users)][[\"UserCommunityName\", \"ID_Posting\", \"VotePositive\", \"VoteNegative\",\"VoteCreatedAt\"]].merge(postings[[\n",
    "               \"ID_Posting\", \"ID_Article\"]], on=[\"ID_Posting\"])).sort_values(\"VoteCreatedAt\")\n",
    "\n",
    "\n",
    "# fucks up the memory\n",
    "# postings_simmilarity = (votes_with_article_id\n",
    "#     .merge(votes_with_article_id[[\"UserCommunityName\",    \"ID_Article\"]], on=[\"ID_Article\"], how=\"inner\")\n",
    "#     .query(\"UserCommunityName_x != UserCommunityName_y\")\n",
    "#     .drop(columns=[\"ID_Article\"])\n",
    "#     .groupby([\"UserCommunityName_x\", \"UserCommunityName_y\"])\n",
    "#     .sum()\n",
    "#     .reset_index()\n",
    "#     .sort_values(\"votes_p_n\", ascending=False))"
   ]
  },
  {
   "cell_type": "code",
   "execution_count": 59,
   "metadata": {},
   "outputs": [
    {
     "data": {
      "text/html": [
       "<div>\n",
       "<style scoped>\n",
       "    .dataframe tbody tr th:only-of-type {\n",
       "        vertical-align: middle;\n",
       "    }\n",
       "\n",
       "    .dataframe tbody tr th {\n",
       "        vertical-align: top;\n",
       "    }\n",
       "\n",
       "    .dataframe thead th {\n",
       "        text-align: right;\n",
       "    }\n",
       "</style>\n",
       "<table border=\"1\" class=\"dataframe\">\n",
       "  <thead>\n",
       "    <tr style=\"text-align: right;\">\n",
       "      <th></th>\n",
       "      <th>UserCommunityName</th>\n",
       "      <th>ID_Posting</th>\n",
       "      <th>VotePositive</th>\n",
       "      <th>VoteNegative</th>\n",
       "      <th>VoteCreatedAt</th>\n",
       "      <th>ID_Article</th>\n",
       "    </tr>\n",
       "  </thead>\n",
       "  <tbody>\n",
       "    <tr>\n",
       "      <th>635359</th>\n",
       "      <td>Ute Putz</td>\n",
       "      <td>1041073683</td>\n",
       "      <td>1</td>\n",
       "      <td>0</td>\n",
       "      <td>2019-05-01</td>\n",
       "      <td>2000102295179</td>\n",
       "    </tr>\n",
       "    <tr>\n",
       "      <th>709690</th>\n",
       "      <td>Migrationstalent</td>\n",
       "      <td>1041075279</td>\n",
       "      <td>1</td>\n",
       "      <td>0</td>\n",
       "      <td>2019-05-01</td>\n",
       "      <td>2000102333198</td>\n",
       "    </tr>\n",
       "    <tr>\n",
       "      <th>688571</th>\n",
       "      <td>28543295-0d5c-4dc1-a702-89ad9aaca804</td>\n",
       "      <td>1041073494</td>\n",
       "      <td>1</td>\n",
       "      <td>0</td>\n",
       "      <td>2019-05-01</td>\n",
       "      <td>2000102346520</td>\n",
       "    </tr>\n",
       "    <tr>\n",
       "      <th>975888</th>\n",
       "      <td>Titeuf</td>\n",
       "      <td>1041066331</td>\n",
       "      <td>1</td>\n",
       "      <td>0</td>\n",
       "      <td>2019-05-01</td>\n",
       "      <td>2000102337910</td>\n",
       "    </tr>\n",
       "    <tr>\n",
       "      <th>975887</th>\n",
       "      <td>mauserle</td>\n",
       "      <td>1041066331</td>\n",
       "      <td>1</td>\n",
       "      <td>0</td>\n",
       "      <td>2019-05-01</td>\n",
       "      <td>2000102337910</td>\n",
       "    </tr>\n",
       "    <tr>\n",
       "      <th>...</th>\n",
       "      <td>...</td>\n",
       "      <td>...</td>\n",
       "      <td>...</td>\n",
       "      <td>...</td>\n",
       "      <td>...</td>\n",
       "      <td>...</td>\n",
       "    </tr>\n",
       "    <tr>\n",
       "      <th>1977724</th>\n",
       "      <td>Salzig</td>\n",
       "      <td>1041991992</td>\n",
       "      <td>1</td>\n",
       "      <td>0</td>\n",
       "      <td>2019-06-04</td>\n",
       "      <td>2000103797091</td>\n",
       "    </tr>\n",
       "    <tr>\n",
       "      <th>2461300</th>\n",
       "      <td>schrein</td>\n",
       "      <td>1042125748</td>\n",
       "      <td>1</td>\n",
       "      <td>0</td>\n",
       "      <td>2019-06-04</td>\n",
       "      <td>2000103903057</td>\n",
       "    </tr>\n",
       "    <tr>\n",
       "      <th>1707249</th>\n",
       "      <td>anexity</td>\n",
       "      <td>1041564226</td>\n",
       "      <td>0</td>\n",
       "      <td>1</td>\n",
       "      <td>2019-06-04</td>\n",
       "      <td>2000101983559</td>\n",
       "    </tr>\n",
       "    <tr>\n",
       "      <th>2668007</th>\n",
       "      <td>Die Gezeichneten</td>\n",
       "      <td>1042378727</td>\n",
       "      <td>1</td>\n",
       "      <td>0</td>\n",
       "      <td>2019-06-04</td>\n",
       "      <td>2000103620997</td>\n",
       "    </tr>\n",
       "    <tr>\n",
       "      <th>2398430</th>\n",
       "      <td>pastafari83</td>\n",
       "      <td>1042214376</td>\n",
       "      <td>1</td>\n",
       "      <td>0</td>\n",
       "      <td>2019-06-04</td>\n",
       "      <td>2000103991537</td>\n",
       "    </tr>\n",
       "  </tbody>\n",
       "</table>\n",
       "<p>2721484 rows × 6 columns</p>\n",
       "</div>"
      ],
      "text/plain": [
       "                            UserCommunityName  ID_Posting  VotePositive  \\\n",
       "635359                               Ute Putz  1041073683             1   \n",
       "709690                       Migrationstalent  1041075279             1   \n",
       "688571   28543295-0d5c-4dc1-a702-89ad9aaca804  1041073494             1   \n",
       "975888                                 Titeuf  1041066331             1   \n",
       "975887                               mauserle  1041066331             1   \n",
       "...                                       ...         ...           ...   \n",
       "1977724                                Salzig  1041991992             1   \n",
       "2461300                               schrein  1042125748             1   \n",
       "1707249                               anexity  1041564226             0   \n",
       "2668007                      Die Gezeichneten  1042378727             1   \n",
       "2398430                           pastafari83  1042214376             1   \n",
       "\n",
       "         VoteNegative VoteCreatedAt     ID_Article  \n",
       "635359              0    2019-05-01  2000102295179  \n",
       "709690              0    2019-05-01  2000102333198  \n",
       "688571              0    2019-05-01  2000102346520  \n",
       "975888              0    2019-05-01  2000102337910  \n",
       "975887              0    2019-05-01  2000102337910  \n",
       "...               ...           ...            ...  \n",
       "1977724             0    2019-06-04  2000103797091  \n",
       "2461300             0    2019-06-04  2000103903057  \n",
       "1707249             1    2019-06-04  2000101983559  \n",
       "2668007             0    2019-06-04  2000103620997  \n",
       "2398430             0    2019-06-04  2000103991537  \n",
       "\n",
       "[2721484 rows x 6 columns]"
      ]
     },
     "execution_count": 59,
     "metadata": {},
     "output_type": "execute_result"
    }
   ],
   "source": [
    "votes_with_article_id"
   ]
  },
  {
   "cell_type": "code",
   "execution_count": 64,
   "metadata": {},
   "outputs": [],
   "source": [
    "votes_with_article_id[\"num_interaction\"]=votes_with_article_id.groupby(\"UserCommunityName\")[\"VoteCreatedAt\"].cumcount()"
   ]
  },
  {
   "cell_type": "code",
   "execution_count": 63,
   "metadata": {},
   "outputs": [
    {
     "data": {
      "text/plain": [
       "635359        0\n",
       "709690        0\n",
       "688571        0\n",
       "975888        0\n",
       "975887        0\n",
       "           ... \n",
       "1977724     221\n",
       "2461300    2138\n",
       "1707249     238\n",
       "2668007    2850\n",
       "2398430     356\n",
       "Length: 2721484, dtype: int64"
      ]
     },
     "execution_count": 63,
     "metadata": {},
     "output_type": "execute_result"
    }
   ],
   "source": []
  },
  {
   "cell_type": "code",
   "execution_count": 17,
   "metadata": {},
   "outputs": [],
   "source": [
    "graph = nx.Graph()\n",
    "graph.add_nodes_from(votes_with_article_id[\"UserCommunityName\"].unique())\n",
    "graph.add_nodes_from(votes_with_article_id[\"ID_Article\"].unique())\n",
    "graph.add_edges_from(list(map(tuple, votes_with_article_id[[\"UserCommunityName\", \"ID_Article\"]].values)))\n",
    "graph = graph.to_undirected()"
   ]
  },
  {
   "cell_type": "code",
   "execution_count": 18,
   "metadata": {},
   "outputs": [
    {
     "name": "stdout",
     "output_type": "stream",
     "text": [
      "99 %%\r"
     ]
    }
   ],
   "source": [
    "import itertools\n",
    "\n",
    "data = {}\n",
    "article_ids = votes_with_article_id[\"ID_Article\"].unique()\n",
    "for idx, article in enumerate(article_ids):\n",
    "    print(int((idx/len(article_ids))*100), \"%\", end=\"\\r\")\n",
    "    users_commented =list(graph.neighbors(article))\n",
    "    for uu_tuple in itertools.product(users_commented, users_commented):\n",
    "        if uu_tuple[0] != uu_tuple[1]:\n",
    "            if uu_tuple[0] > uu_tuple[1]:\n",
    "                uu_tuple = (uu_tuple[1], uu_tuple[0])\n",
    "            if uu_tuple in data:\n",
    "                data[uu_tuple] += 1\n",
    "            else:\n",
    "                data[uu_tuple] = 1\n"
   ]
  },
  {
   "cell_type": "markdown",
   "metadata": {},
   "source": [
    "Get the amount of common articles two users posted on"
   ]
  },
  {
   "cell_type": "code",
   "execution_count": 31,
   "metadata": {},
   "outputs": [
    {
     "data": {
      "text/plain": [
       "146"
      ]
     },
     "execution_count": 31,
     "metadata": {},
     "output_type": "execute_result"
    }
   ],
   "source": [
    "data[('Heckscheibenwischer', 'Heinz Fettleber')]"
   ]
  },
  {
   "cell_type": "markdown",
   "metadata": {},
   "source": [
    "## 2. Vote similarity\n",
    "#### \"Users are similar when they upvote posts of the same author\"\n",
    "Too complex -> jupyter kernel dies TODO remove or try on jupyerlab"
   ]
  },
  {
   "cell_type": "code",
   "execution_count": null,
   "metadata": {},
   "outputs": [],
   "source": [
    "vote_author_posting_author = pd.merge(votes[[\"UserCommunityName\", \"ID_Posting\", \"VotePositive\", \"VoteNegative\"]], postings[[\n",
    "               \"ID_Posting\", \"UserCommunityName\",  \"PostingCreatedAt\"]], on=[\"ID_Posting\"])\\\n",
    "                .rename(columns={\"UserCommunityName_x\": \"vote_author\", \"UserCommunityName_y\": \"posting_author\"})\\\n",
    "                        .groupby([\"vote_author\", \"posting_author\"]).sum().reset_index()\n",
    "\n",
    "# same vote authors and posting authors\n",
    "number_of_votes_per_author = vote_author_posting_author.assign(votes = lambda x: x.VotePositive + x.VoteNegative).groupby([\"posting_author\"])[\"votes\"].sum()\n",
    "influental_authors = number_of_votes_per_author[number_of_votes_per_author> 5].reset_index()[\"posting_author\"]\n",
    "print(f\"Proportion of authors having more than 5 votes: {influental_authors.shape[0]/number_of_votes_per_author.shape[0]}\")\n",
    "\n"
   ]
  },
  {
   "cell_type": "markdown",
   "metadata": {},
   "source": [
    "CAUTION!!"
   ]
  },
  {
   "cell_type": "code",
   "execution_count": null,
   "metadata": {},
   "outputs": [],
   "source": [
    "votes_simmilarity = (vote_author_posting_author.assign(votes_p_n = lambda x: - x.VoteNegative + x.VotePositive)\n",
    "    [[\"vote_author\",    \"posting_author\", \"votes_p_n\"]]\n",
    "    .merge(vote_author_posting_author[[\"vote_author\",    \"posting_author\"]], on=[\"posting_author\"], how=\"inner\")\n",
    "    .query(\"vote_authory_x != vote_author_y\")\n",
    "    .drop(columns=[\"ID_Posting\"])\n",
    "    .groupby([\"vote_author_x\", \"vote_author_y\"])\n",
    "    .sum()\n",
    "    .reset_index()\n",
    "    .sort_values(\"votes_p_n\", ascending=False))"
   ]
  },
  {
   "cell_type": "markdown",
   "metadata": {},
   "source": [
    "## Negative same downvotes"
   ]
  },
  {
   "cell_type": "markdown",
   "metadata": {},
   "source": [
    "## Positive same upvotes "
   ]
  },
  {
   "cell_type": "markdown",
   "metadata": {},
   "source": [
    "#### Users are similar when the use similar words\n",
    "idk"
   ]
  }
 ],
 "metadata": {
  "kernelspec": {
   "display_name": "Python 3.10.6 ('sna')",
   "language": "python",
   "name": "python3"
  },
  "language_info": {
   "codemirror_mode": {
    "name": "ipython",
    "version": 3
   },
   "file_extension": ".py",
   "mimetype": "text/x-python",
   "name": "python",
   "nbconvert_exporter": "python",
   "pygments_lexer": "ipython3",
   "version": "3.10.6"
  },
  "orig_nbformat": 4,
  "vscode": {
   "interpreter": {
    "hash": "cd8ef2f58c32900e0da76c82afad42ef1f21edae6af587b6cfe674f3d8a65feb"
   }
  }
 },
 "nbformat": 4,
 "nbformat_minor": 2
}
