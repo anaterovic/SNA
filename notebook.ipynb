{
 "cells": [
  {
   "cell_type": "code",
   "execution_count": 8,
   "metadata": {},
   "outputs": [
    {
     "name": "stdout",
     "output_type": "stream",
     "text": [
      "The autoreload extension is already loaded. To reload it, use:\n",
      "  %reload_ext autoreload\n"
     ]
    }
   ],
   "source": [
    "import numpy as np\n",
    "import networkx as nx\n",
    "import pandas as pd\n",
    "import matplotlib.pyplot as plt\n",
    "from scripts.load_data import load_postings, load_votes, get_first_contact_df, subset_users\n",
    "\n",
    "# reload imports jupyter magic\n",
    "%load_ext autoreload\n",
    "%autoreload 2"
   ]
  },
  {
   "attachments": {},
   "cell_type": "markdown",
   "metadata": {},
   "source": [
    "random neo4j test: please ignore"
   ]
  },
  {
   "cell_type": "code",
   "execution_count": null,
   "metadata": {},
   "outputs": [],
   "source": [
    "!conda create --name sna --file environment.yml"
   ]
  },
  {
   "cell_type": "code",
   "execution_count": null,
   "metadata": {},
   "outputs": [],
   "source": [
    "!sh run-neo4j.sh"
   ]
  },
  {
   "cell_type": "code",
   "execution_count": 116,
   "metadata": {},
   "outputs": [],
   "source": [
    "import py2neo\n",
    "\n",
    "# Connect to the graph database\n",
    "graph = py2neo.Graph(\"bolt://localhost:7687\", auth=(\"neo4j\", \"sna\"))\n"
   ]
  },
  {
   "cell_type": "code",
   "execution_count": 2,
   "metadata": {},
   "outputs": [
    {
     "name": "stdout",
     "output_type": "stream",
     "text": [
      "Votes loaded\n",
      "Postings loaded\n"
     ]
    }
   ],
   "source": [
    "votes = load_votes(\"input/\")\n",
    "postings = load_postings(\"input/\")\n",
    "votes = votes.sort_values(\"VoteCreatedAt\")\n",
    "postings[\"num_interactions\"] = postings.groupby(\"UserCommunityName\")[\"PostingCreatedAt\"].cumcount()"
   ]
  },
  {
   "cell_type": "code",
   "execution_count": null,
   "metadata": {},
   "outputs": [],
   "source": [
    "from py2neo import Graph, Node, Relationship\n",
    "\n",
    "tx = graph.begin()\n",
    "for index, row in votes.iterrows():\n",
    "    user =  Node(\"User\", UserCommunityName=row['UserCommunityName'], UserGender=row[\"UserGender\"])\n",
    "    posting =  Node(\"Posting\", ID_Posting=row['ID_Posting'])\n",
    "    vote = Relationship(user, \"Vote\", posting, VoteCreatedAt=row['VoteCreatedAt'], VotePositive=row['VotePositive'], VoteNegative=row['VoteNegative'])\n",
    "    tx.create(vote)\n",
    "graph.commit(tx)\n",
    "\n",
    "\n",
    "tx = graph.begin()\n",
    "for index, row in postings.iterrows():\n",
    "    article =  Node(\"Article\", ArticlePublishingDate=row['ArticlePublishingDate'], ArticleTitle=row[\"ArticleTitle\"], ArticleChannel=row[\"ArticleChannel\"], ArticleRessortName=row[\"ArticleRessortName\"])\n",
    "    # TODO make edge for resort and channel?\n",
    "    posting =  Node(\"Posting\", ID_Posting=row['ID_Posting'], PostingCreatedAt=row['PostingCreatedAt'], PostingComment=row['PostingComment'], PostingHeadline=row['PostingHeadline'])\n",
    "    posting_parent = Node(\"Posting\", ID_Posting=row['ID_Posting_Parent'])\n",
    "    replies = Relationship(posting_parent, \"Reply\", posting)\n",
    "    posts_on_article = Relationship(posting, \"PostsOnArticle\", article)\n",
    "    posting_author= Node(\"User\", UserCommunityName=row['UserCommunityName'], UserGender=row[\"UserGender\"])\n",
    "    comments=Relationship(posting_author, \"Comments\", posting)\n",
    "\n",
    "    tx.merge(posting, \"Article\",[ \"ArticleTitle\", \"ArticlePublishingDate\"])\n",
    "    tx.merge(article, \"Posting\", \"ID_Posting\")\n",
    "    tx.merge(posting_parent, \"Posting\", \"ID_Posting\")\n",
    "    tx.merge(posting_author, \"User\", \"UserCommunityName\")\n",
    "    tx.create(replies)\n",
    "    tx.create(comments)\n",
    "    tx.create(posts_on_article)\n",
    "\n",
    "graph.commit(tx)\n"
   ]
  },
  {
   "cell_type": "code",
   "execution_count": null,
   "metadata": {},
   "outputs": [],
   "source": [
    "graph.run(\"\"\"\n",
    "CREATE CONSTRAINT postingidunique\n",
    "FOR (n:Posting) REQUIRE n.ID_Posting IS UNIQUE\"\"\")\n",
    "\n",
    "graph.run(\"\"\"\n",
    "CREATE CONSTRAINT usernameunqiue\n",
    "FOR (n:User) REQUIRE n.UserCommunityName IS UNIQUE\n",
    "\"\"\")\n",
    "#graph.run(\"CREATE CONSTRAINT ON (n:User) ASSERTS n.UserCommunityName IS UNIQUE\")\n",
    "#graph.run(\"CREATE INDEX ON :Posting(ID_Posting)\")\n",
    "#graph.run(\"CREATE INDEX ON :Article(ArticleTitle, ArticlePublishingDate)\")"
   ]
  },
  {
   "cell_type": "markdown",
   "metadata": {},
   "source": [
    "Visualize the graph at http://localhost:7474"
   ]
  },
  {
   "cell_type": "code",
   "execution_count": 168,
   "metadata": {},
   "outputs": [
    {
     "data": {
      "text/html": [
       "(No data)"
      ],
      "text/plain": [
       "(No data)"
      ]
     },
     "execution_count": 168,
     "metadata": {},
     "output_type": "execute_result"
    }
   ],
   "source": [
    "# delete all nodes and edges\n",
    "graph.run('''MATCH (n)\n",
    "OPTIONAL MATCH (n)-[r]-()\n",
    "DELETE n,r''')"
   ]
  },
  {
   "cell_type": "code",
   "execution_count": 167,
   "metadata": {},
   "outputs": [
    {
     "data": {
      "text/html": [
       "<div>\n",
       "<style scoped>\n",
       "    .dataframe tbody tr th:only-of-type {\n",
       "        vertical-align: middle;\n",
       "    }\n",
       "\n",
       "    .dataframe tbody tr th {\n",
       "        vertical-align: top;\n",
       "    }\n",
       "\n",
       "    .dataframe thead th {\n",
       "        text-align: right;\n",
       "    }\n",
       "</style>\n",
       "<table border=\"1\" class=\"dataframe\">\n",
       "  <thead>\n",
       "    <tr style=\"text-align: right;\">\n",
       "      <th></th>\n",
       "    </tr>\n",
       "  </thead>\n",
       "  <tbody>\n",
       "  </tbody>\n",
       "</table>\n",
       "</div>"
      ],
      "text/plain": [
       "Empty DataFrame\n",
       "Columns: []\n",
       "Index: []"
      ]
     },
     "execution_count": 167,
     "metadata": {},
     "output_type": "execute_result"
    }
   ],
   "source": [
    "graph.run('''MATCH (a:User)-[r:Vote]->(b:Posting) RETURN a.UserCommunityName, b.ID_Posting, r.VoteCreatedAt''').to_data_frame()"
   ]
  },
  {
   "cell_type": "markdown",
   "metadata": {},
   "source": [
    "We don't want to have the following users\n",
    "- users that interacted with only a few posts\n",
    "- users that interacted with many posts, but in few days creating a skewed distribution\n",
    "\n",
    "Therefore we set a threshold on the number of days a user has to interact minimum"
   ]
  },
  {
   "cell_type": "code",
   "execution_count": 72,
   "metadata": {},
   "outputs": [],
   "source": [
    "v = votes[[\"UserCommunityName\",\"VoteCreatedAt\"]].rename(columns={\"VoteCreatedAt\":\"CreatedAt\"})\n",
    "p = postings[[\"UserCommunityName\", \"PostingCreatedAt\"]].rename(columns={\"PostingCreatedAt\":\"CreatedAt\"})\n",
    "\n",
    "num_days_interacted = pd.concat([v,p]).groupby([\"UserCommunityName\",\"CreatedAt\"]).size().reset_index()\\\n",
    "                .groupby(\"UserCommunityName\").size().reset_index()\n",
    "\n",
    "user_subset_days_interacted = num_days_interacted[num_days_interacted[0] >= NUM_DAYS_INTERACTED_MIN].UserCommunityName.unique()"
   ]
  },
  {
   "cell_type": "markdown",
   "metadata": {},
   "source": [
    "# Subsetting data"
   ]
  },
  {
   "cell_type": "markdown",
   "metadata": {},
   "source": [
    "Filtering users that interacted at the middle of the interval. Possible future extension: pick time interval instead of day"
   ]
  },
  {
   "cell_type": "code",
   "execution_count": 59,
   "metadata": {},
   "outputs": [],
   "source": [
    "user_selection = subset_users(votes, postings, num_days_min=30,  filter_middle_interval=\"both\")"
   ]
  },
  {
   "cell_type": "code",
   "execution_count": 60,
   "metadata": {},
   "outputs": [
    {
     "data": {
      "text/plain": [
       "0.2630704409233873"
      ]
     },
     "execution_count": 60,
     "metadata": {},
     "output_type": "execute_result"
    }
   ],
   "source": [
    "user_selection.nunique() /  pd.concat([votes[\"UserCommunityName\"], postings[\"UserCommunityName\"]]).nunique()"
   ]
  },
  {
   "cell_type": "markdown",
   "metadata": {},
   "source": [
    "# Defining a notion of similarity"
   ]
  },
  {
   "cell_type": "markdown",
   "metadata": {},
   "source": [
    "## 1. Voting article similarity\n",
    "#### \"Users are similar when they vote on comments of the same articles (or articles of the same ressort)\"\n",
    "\n",
    "Todo: aggregate postings based on author and target (e.g., article, channel, ressort). Either count or just stay binary"
   ]
  },
  {
   "cell_type": "code",
   "execution_count": 58,
   "metadata": {},
   "outputs": [],
   "source": [
    "votes_with_article_id = (votes[votes[\"UserCommunityName\"].isin(selected_users)][[\"UserCommunityName\", \"ID_Posting\", \"VotePositive\", \"VoteNegative\",\"VoteCreatedAt\"]].merge(postings[[\n",
    "               \"ID_Posting\", \"ID_Article\"]], on=[\"ID_Posting\"])).sort_values(\"VoteCreatedAt\")\n",
    "\n",
    "\n",
    "# fucks up the memory\n",
    "# postings_simmilarity = (votes_with_article_id\n",
    "#     .merge(votes_with_article_id[[\"UserCommunityName\",    \"ID_Article\"]], on=[\"ID_Article\"], how=\"inner\")\n",
    "#     .query(\"UserCommunityName_x != UserCommunityName_y\")\n",
    "#     .drop(columns=[\"ID_Article\"])\n",
    "#     .groupby([\"UserCommunityName_x\", \"UserCommunityName_y\"])\n",
    "#     .sum()\n",
    "#     .reset_index()\n",
    "#     .sort_values(\"votes_p_n\", ascending=False))"
   ]
  },
  {
   "cell_type": "code",
   "execution_count": 59,
   "metadata": {},
   "outputs": [
    {
     "data": {
      "text/html": [
       "<div>\n",
       "<style scoped>\n",
       "    .dataframe tbody tr th:only-of-type {\n",
       "        vertical-align: middle;\n",
       "    }\n",
       "\n",
       "    .dataframe tbody tr th {\n",
       "        vertical-align: top;\n",
       "    }\n",
       "\n",
       "    .dataframe thead th {\n",
       "        text-align: right;\n",
       "    }\n",
       "</style>\n",
       "<table border=\"1\" class=\"dataframe\">\n",
       "  <thead>\n",
       "    <tr style=\"text-align: right;\">\n",
       "      <th></th>\n",
       "      <th>UserCommunityName</th>\n",
       "      <th>ID_Posting</th>\n",
       "      <th>VotePositive</th>\n",
       "      <th>VoteNegative</th>\n",
       "      <th>VoteCreatedAt</th>\n",
       "      <th>ID_Article</th>\n",
       "    </tr>\n",
       "  </thead>\n",
       "  <tbody>\n",
       "    <tr>\n",
       "      <th>635359</th>\n",
       "      <td>Ute Putz</td>\n",
       "      <td>1041073683</td>\n",
       "      <td>1</td>\n",
       "      <td>0</td>\n",
       "      <td>2019-05-01</td>\n",
       "      <td>2000102295179</td>\n",
       "    </tr>\n",
       "    <tr>\n",
       "      <th>709690</th>\n",
       "      <td>Migrationstalent</td>\n",
       "      <td>1041075279</td>\n",
       "      <td>1</td>\n",
       "      <td>0</td>\n",
       "      <td>2019-05-01</td>\n",
       "      <td>2000102333198</td>\n",
       "    </tr>\n",
       "    <tr>\n",
       "      <th>688571</th>\n",
       "      <td>28543295-0d5c-4dc1-a702-89ad9aaca804</td>\n",
       "      <td>1041073494</td>\n",
       "      <td>1</td>\n",
       "      <td>0</td>\n",
       "      <td>2019-05-01</td>\n",
       "      <td>2000102346520</td>\n",
       "    </tr>\n",
       "    <tr>\n",
       "      <th>975888</th>\n",
       "      <td>Titeuf</td>\n",
       "      <td>1041066331</td>\n",
       "      <td>1</td>\n",
       "      <td>0</td>\n",
       "      <td>2019-05-01</td>\n",
       "      <td>2000102337910</td>\n",
       "    </tr>\n",
       "    <tr>\n",
       "      <th>975887</th>\n",
       "      <td>mauserle</td>\n",
       "      <td>1041066331</td>\n",
       "      <td>1</td>\n",
       "      <td>0</td>\n",
       "      <td>2019-05-01</td>\n",
       "      <td>2000102337910</td>\n",
       "    </tr>\n",
       "    <tr>\n",
       "      <th>...</th>\n",
       "      <td>...</td>\n",
       "      <td>...</td>\n",
       "      <td>...</td>\n",
       "      <td>...</td>\n",
       "      <td>...</td>\n",
       "      <td>...</td>\n",
       "    </tr>\n",
       "    <tr>\n",
       "      <th>1977724</th>\n",
       "      <td>Salzig</td>\n",
       "      <td>1041991992</td>\n",
       "      <td>1</td>\n",
       "      <td>0</td>\n",
       "      <td>2019-06-04</td>\n",
       "      <td>2000103797091</td>\n",
       "    </tr>\n",
       "    <tr>\n",
       "      <th>2461300</th>\n",
       "      <td>schrein</td>\n",
       "      <td>1042125748</td>\n",
       "      <td>1</td>\n",
       "      <td>0</td>\n",
       "      <td>2019-06-04</td>\n",
       "      <td>2000103903057</td>\n",
       "    </tr>\n",
       "    <tr>\n",
       "      <th>1707249</th>\n",
       "      <td>anexity</td>\n",
       "      <td>1041564226</td>\n",
       "      <td>0</td>\n",
       "      <td>1</td>\n",
       "      <td>2019-06-04</td>\n",
       "      <td>2000101983559</td>\n",
       "    </tr>\n",
       "    <tr>\n",
       "      <th>2668007</th>\n",
       "      <td>Die Gezeichneten</td>\n",
       "      <td>1042378727</td>\n",
       "      <td>1</td>\n",
       "      <td>0</td>\n",
       "      <td>2019-06-04</td>\n",
       "      <td>2000103620997</td>\n",
       "    </tr>\n",
       "    <tr>\n",
       "      <th>2398430</th>\n",
       "      <td>pastafari83</td>\n",
       "      <td>1042214376</td>\n",
       "      <td>1</td>\n",
       "      <td>0</td>\n",
       "      <td>2019-06-04</td>\n",
       "      <td>2000103991537</td>\n",
       "    </tr>\n",
       "  </tbody>\n",
       "</table>\n",
       "<p>2721484 rows × 6 columns</p>\n",
       "</div>"
      ],
      "text/plain": [
       "                            UserCommunityName  ID_Posting  VotePositive  \\\n",
       "635359                               Ute Putz  1041073683             1   \n",
       "709690                       Migrationstalent  1041075279             1   \n",
       "688571   28543295-0d5c-4dc1-a702-89ad9aaca804  1041073494             1   \n",
       "975888                                 Titeuf  1041066331             1   \n",
       "975887                               mauserle  1041066331             1   \n",
       "...                                       ...         ...           ...   \n",
       "1977724                                Salzig  1041991992             1   \n",
       "2461300                               schrein  1042125748             1   \n",
       "1707249                               anexity  1041564226             0   \n",
       "2668007                      Die Gezeichneten  1042378727             1   \n",
       "2398430                           pastafari83  1042214376             1   \n",
       "\n",
       "         VoteNegative VoteCreatedAt     ID_Article  \n",
       "635359              0    2019-05-01  2000102295179  \n",
       "709690              0    2019-05-01  2000102333198  \n",
       "688571              0    2019-05-01  2000102346520  \n",
       "975888              0    2019-05-01  2000102337910  \n",
       "975887              0    2019-05-01  2000102337910  \n",
       "...               ...           ...            ...  \n",
       "1977724             0    2019-06-04  2000103797091  \n",
       "2461300             0    2019-06-04  2000103903057  \n",
       "1707249             1    2019-06-04  2000101983559  \n",
       "2668007             0    2019-06-04  2000103620997  \n",
       "2398430             0    2019-06-04  2000103991537  \n",
       "\n",
       "[2721484 rows x 6 columns]"
      ]
     },
     "execution_count": 59,
     "metadata": {},
     "output_type": "execute_result"
    }
   ],
   "source": [
    "votes_with_article_id"
   ]
  },
  {
   "cell_type": "code",
   "execution_count": 64,
   "metadata": {},
   "outputs": [],
   "source": [
    "votes_with_article_id[\"num_interaction\"]=votes_with_article_id.groupby(\"UserCommunityName\")[\"VoteCreatedAt\"].cumcount()"
   ]
  },
  {
   "cell_type": "code",
   "execution_count": 63,
   "metadata": {},
   "outputs": [
    {
     "data": {
      "text/plain": [
       "635359        0\n",
       "709690        0\n",
       "688571        0\n",
       "975888        0\n",
       "975887        0\n",
       "           ... \n",
       "1977724     221\n",
       "2461300    2138\n",
       "1707249     238\n",
       "2668007    2850\n",
       "2398430     356\n",
       "Length: 2721484, dtype: int64"
      ]
     },
     "execution_count": 63,
     "metadata": {},
     "output_type": "execute_result"
    }
   ],
   "source": []
  },
  {
   "cell_type": "code",
   "execution_count": 17,
   "metadata": {},
   "outputs": [],
   "source": [
    "graph = nx.Graph()\n",
    "graph.add_nodes_from(votes_with_article_id[\"UserCommunityName\"].unique())\n",
    "graph.add_nodes_from(votes_with_article_id[\"ID_Article\"].unique())\n",
    "graph.add_edges_from(list(map(tuple, votes_with_article_id[[\"UserCommunityName\", \"ID_Article\"]].values)))\n",
    "graph = graph.to_undirected()"
   ]
  },
  {
   "cell_type": "code",
   "execution_count": 18,
   "metadata": {},
   "outputs": [
    {
     "name": "stdout",
     "output_type": "stream",
     "text": [
      "99 %%\r"
     ]
    }
   ],
   "source": [
    "import itertools\n",
    "\n",
    "data = {}\n",
    "article_ids = votes_with_article_id[\"ID_Article\"].unique()\n",
    "for idx, article in enumerate(article_ids):\n",
    "    print(int((idx/len(article_ids))*100), \"%\", end=\"\\r\")\n",
    "    users_commented =list(graph.neighbors(article))\n",
    "    for uu_tuple in itertools.product(users_commented, users_commented):\n",
    "        if uu_tuple[0] != uu_tuple[1]:\n",
    "            if uu_tuple[0] > uu_tuple[1]:\n",
    "                uu_tuple = (uu_tuple[1], uu_tuple[0])\n",
    "            if uu_tuple in data:\n",
    "                data[uu_tuple] += 1\n",
    "            else:\n",
    "                data[uu_tuple] = 1\n"
   ]
  },
  {
   "cell_type": "markdown",
   "metadata": {},
   "source": [
    "Get the amount of common articles two users posted on"
   ]
  },
  {
   "cell_type": "code",
   "execution_count": 31,
   "metadata": {},
   "outputs": [
    {
     "data": {
      "text/plain": [
       "146"
      ]
     },
     "execution_count": 31,
     "metadata": {},
     "output_type": "execute_result"
    }
   ],
   "source": [
    "data[('Heckscheibenwischer', 'Heinz Fettleber')]"
   ]
  },
  {
   "cell_type": "markdown",
   "metadata": {},
   "source": [
    "## 2. Vote similarity\n",
    "#### \"Users are similar when they upvote posts of the same author\"\n",
    "Too complex -> jupyter kernel dies TODO remove or try on jupyerlab"
   ]
  },
  {
   "cell_type": "code",
   "execution_count": null,
   "metadata": {},
   "outputs": [],
   "source": [
    "vote_author_posting_author = pd.merge(votes[[\"UserCommunityName\", \"ID_Posting\", \"VotePositive\", \"VoteNegative\"]], postings[[\n",
    "               \"ID_Posting\", \"UserCommunityName\",  \"PostingCreatedAt\"]], on=[\"ID_Posting\"])\\\n",
    "                .rename(columns={\"UserCommunityName_x\": \"vote_author\", \"UserCommunityName_y\": \"posting_author\"})\\\n",
    "                        .groupby([\"vote_author\", \"posting_author\"]).sum().reset_index()\n",
    "\n",
    "# same vote authors and posting authors\n",
    "number_of_votes_per_author = vote_author_posting_author.assign(votes = lambda x: x.VotePositive + x.VoteNegative).groupby([\"posting_author\"])[\"votes\"].sum()\n",
    "influental_authors = number_of_votes_per_author[number_of_votes_per_author> 5].reset_index()[\"posting_author\"]\n",
    "print(f\"Proportion of authors having more than 5 votes: {influental_authors.shape[0]/number_of_votes_per_author.shape[0]}\")\n",
    "\n"
   ]
  },
  {
   "cell_type": "markdown",
   "metadata": {},
   "source": [
    "CAUTION!!"
   ]
  },
  {
   "cell_type": "code",
   "execution_count": null,
   "metadata": {},
   "outputs": [],
   "source": [
    "votes_simmilarity = (vote_author_posting_author.assign(votes_p_n = lambda x: - x.VoteNegative + x.VotePositive)\n",
    "    [[\"vote_author\",    \"posting_author\", \"votes_p_n\"]]\n",
    "    .merge(vote_author_posting_author[[\"vote_author\",    \"posting_author\"]], on=[\"posting_author\"], how=\"inner\")\n",
    "    .query(\"vote_authory_x != vote_author_y\")\n",
    "    .drop(columns=[\"ID_Posting\"])\n",
    "    .groupby([\"vote_author_x\", \"vote_author_y\"])\n",
    "    .sum()\n",
    "    .reset_index()\n",
    "    .sort_values(\"votes_p_n\", ascending=False))"
   ]
  },
  {
   "cell_type": "markdown",
   "metadata": {},
   "source": [
    "## Negative same downvotes"
   ]
  },
  {
   "cell_type": "markdown",
   "metadata": {},
   "source": [
    "## Positive same upvotes "
   ]
  },
  {
   "cell_type": "markdown",
   "metadata": {},
   "source": [
    "#### Users are similar when the use similar words\n",
    "idk"
   ]
  }
 ],
 "metadata": {
  "kernelspec": {
   "display_name": "Python 3",
   "language": "python",
   "name": "python3"
  },
  "language_info": {
   "codemirror_mode": {
    "name": "ipython",
    "version": 3
   },
   "file_extension": ".py",
   "mimetype": "text/x-python",
   "name": "python",
   "nbconvert_exporter": "python",
   "pygments_lexer": "ipython3",
   "version": "3.10.6"
  },
  "orig_nbformat": 4,
  "vscode": {
   "interpreter": {
    "hash": "916dbcbb3f70747c44a77c7bcd40155683ae19c65e1c03b4aa3499c5328201f1"
   }
  }
 },
 "nbformat": 4,
 "nbformat_minor": 2
}
