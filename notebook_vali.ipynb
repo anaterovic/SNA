{
 "cells": [
  {
   "cell_type": "markdown",
   "metadata": {},
   "source": [
    "### Load packages"
   ]
  },
  {
   "cell_type": "code",
   "execution_count": 1,
   "metadata": {},
   "outputs": [],
   "source": [
    "import numpy as np\n",
    "import networkx as nx\n",
    "import pandas as pd\n",
    "import matplotlib.pyplot as plt"
   ]
  },
  {
   "cell_type": "code",
   "execution_count": 2,
   "metadata": {},
   "outputs": [],
   "source": [
    "# Create enviroment if not done before. \n",
    "#!conda create --name sna --file environment.yml"
   ]
  },
  {
   "cell_type": "markdown",
   "metadata": {},
   "source": [
    "### Load an concat data"
   ]
  },
  {
   "cell_type": "code",
   "execution_count": 3,
   "metadata": {},
   "outputs": [],
   "source": [
    "postings_1 = pd.read_csv('input/Postings_01052019_15052019.csv', sep=';')\n",
    "postings_2 = pd.read_csv('input/Postings_16052019_31052019.csv', sep=';')\n",
    "votes_1 = pd.read_csv('input/Votes_01052019_15052019.csv', sep=';')\n",
    "votes_2 = pd.read_csv('input/Votes_16052019_31052019.csv', sep=';')\n",
    "follow_ignore = pd.read_csv(\n",
    "    \"input/Following_Ignoring_Relationships_01052019_31052019.csv\", sep=\";\")\n",
    "\n",
    "# Merge the two datasets\n",
    "postings = pd.concat([postings_1, postings_2])\n",
    "votes = pd.concat([votes_1, votes_2])\n"
   ]
  },
  {
   "cell_type": "code",
   "execution_count": 4,
   "metadata": {},
   "outputs": [
    {
     "data": {
      "text/html": [
       "<div>\n",
       "<style scoped>\n",
       "    .dataframe tbody tr th:only-of-type {\n",
       "        vertical-align: middle;\n",
       "    }\n",
       "\n",
       "    .dataframe tbody tr th {\n",
       "        vertical-align: top;\n",
       "    }\n",
       "\n",
       "    .dataframe thead th {\n",
       "        text-align: right;\n",
       "    }\n",
       "</style>\n",
       "<table border=\"1\" class=\"dataframe\">\n",
       "  <thead>\n",
       "    <tr style=\"text-align: right;\">\n",
       "      <th></th>\n",
       "      <th>ID_CommunityIdentity</th>\n",
       "      <th>ID_Posting</th>\n",
       "      <th>VoteNegative</th>\n",
       "      <th>VotePositive</th>\n",
       "      <th>VoteCreatedAt</th>\n",
       "      <th>UserCommunityName</th>\n",
       "      <th>UserGender</th>\n",
       "      <th>UserCreatedAt</th>\n",
       "    </tr>\n",
       "  </thead>\n",
       "  <tbody>\n",
       "    <tr>\n",
       "      <th>0</th>\n",
       "      <td>675862</td>\n",
       "      <td>1041076570</td>\n",
       "      <td>1</td>\n",
       "      <td>0</td>\n",
       "      <td>2019-05-06 16:47:46.883</td>\n",
       "      <td>Heckscheibenwischer</td>\n",
       "      <td>m</td>\n",
       "      <td>2018-06-26 06:04:30.513</td>\n",
       "    </tr>\n",
       "    <tr>\n",
       "      <th>1</th>\n",
       "      <td>689023</td>\n",
       "      <td>1041076570</td>\n",
       "      <td>1</td>\n",
       "      <td>0</td>\n",
       "      <td>2019-05-01 22:19:06.240</td>\n",
       "      <td>Heinz Fettleber</td>\n",
       "      <td>NaN</td>\n",
       "      <td>2019-03-08 21:23:11.463</td>\n",
       "    </tr>\n",
       "  </tbody>\n",
       "</table>\n",
       "</div>"
      ],
      "text/plain": [
       "   ID_CommunityIdentity  ID_Posting  VoteNegative  VotePositive  \\\n",
       "0                675862  1041076570             1             0   \n",
       "1                689023  1041076570             1             0   \n",
       "\n",
       "             VoteCreatedAt    UserCommunityName UserGender  \\\n",
       "0  2019-05-06 16:47:46.883  Heckscheibenwischer          m   \n",
       "1  2019-05-01 22:19:06.240      Heinz Fettleber        NaN   \n",
       "\n",
       "             UserCreatedAt  \n",
       "0  2018-06-26 06:04:30.513  \n",
       "1  2019-03-08 21:23:11.463  "
      ]
     },
     "execution_count": 4,
     "metadata": {},
     "output_type": "execute_result"
    }
   ],
   "source": [
    "votes.head(2)"
   ]
  },
  {
   "cell_type": "code",
   "execution_count": 5,
   "metadata": {},
   "outputs": [
    {
     "data": {
      "text/html": [
       "<div>\n",
       "<style scoped>\n",
       "    .dataframe tbody tr th:only-of-type {\n",
       "        vertical-align: middle;\n",
       "    }\n",
       "\n",
       "    .dataframe tbody tr th {\n",
       "        vertical-align: top;\n",
       "    }\n",
       "\n",
       "    .dataframe thead th {\n",
       "        text-align: right;\n",
       "    }\n",
       "</style>\n",
       "<table border=\"1\" class=\"dataframe\">\n",
       "  <thead>\n",
       "    <tr style=\"text-align: right;\">\n",
       "      <th></th>\n",
       "      <th>ID_Posting</th>\n",
       "      <th>ID_Posting_Parent</th>\n",
       "      <th>ID_CommunityIdentity</th>\n",
       "      <th>PostingHeadline</th>\n",
       "      <th>PostingComment</th>\n",
       "      <th>PostingCreatedAt</th>\n",
       "      <th>ID_Article</th>\n",
       "      <th>ArticlePublishingDate</th>\n",
       "      <th>ArticleTitle</th>\n",
       "      <th>ArticleChannel</th>\n",
       "      <th>ArticleRessortName</th>\n",
       "      <th>UserCommunityName</th>\n",
       "      <th>UserGender</th>\n",
       "      <th>UserCreatedAt</th>\n",
       "    </tr>\n",
       "  </thead>\n",
       "  <tbody>\n",
       "    <tr>\n",
       "      <th>0</th>\n",
       "      <td>1041073586</td>\n",
       "      <td>1.041073e+09</td>\n",
       "      <td>671476</td>\n",
       "      <td>Das hat gestern bereits der Voggenhuber angefü...</td>\n",
       "      <td>schieder hatte dem inhaltlich nichts entgegenz...</td>\n",
       "      <td>2019-05-01 18:21:15.127</td>\n",
       "      <td>2000102330973</td>\n",
       "      <td>2019-05-01 10:28:57.49</td>\n",
       "      <td>1. Mai in Wien: SPÖ fordert von Strache Rücktritt</td>\n",
       "      <td>Inland</td>\n",
       "      <td>Parteien</td>\n",
       "      <td>Ravenspower</td>\n",
       "      <td>NaN</td>\n",
       "      <td>2018-04-14 13:42:28.470</td>\n",
       "    </tr>\n",
       "    <tr>\n",
       "      <th>1</th>\n",
       "      <td>1041073839</td>\n",
       "      <td>1.041073e+09</td>\n",
       "      <td>566938</td>\n",
       "      <td>NaN</td>\n",
       "      <td>...und meinen Bezirk bekommst du als Erbe mit.</td>\n",
       "      <td>2019-05-01 18:28:22.040</td>\n",
       "      <td>2000102330973</td>\n",
       "      <td>2019-05-01 10:28:57.49</td>\n",
       "      <td>1. Mai in Wien: SPÖ fordert von Strache Rücktritt</td>\n",
       "      <td>Inland</td>\n",
       "      <td>Parteien</td>\n",
       "      <td>AlphaRomeo</td>\n",
       "      <td>m</td>\n",
       "      <td>2015-08-28 17:07:41.110</td>\n",
       "    </tr>\n",
       "  </tbody>\n",
       "</table>\n",
       "</div>"
      ],
      "text/plain": [
       "   ID_Posting  ID_Posting_Parent  ID_CommunityIdentity  \\\n",
       "0  1041073586       1.041073e+09                671476   \n",
       "1  1041073839       1.041073e+09                566938   \n",
       "\n",
       "                                     PostingHeadline  \\\n",
       "0  Das hat gestern bereits der Voggenhuber angefü...   \n",
       "1                                                NaN   \n",
       "\n",
       "                                      PostingComment         PostingCreatedAt  \\\n",
       "0  schieder hatte dem inhaltlich nichts entgegenz...  2019-05-01 18:21:15.127   \n",
       "1     ...und meinen Bezirk bekommst du als Erbe mit.  2019-05-01 18:28:22.040   \n",
       "\n",
       "      ID_Article   ArticlePublishingDate  \\\n",
       "0  2000102330973  2019-05-01 10:28:57.49   \n",
       "1  2000102330973  2019-05-01 10:28:57.49   \n",
       "\n",
       "                                        ArticleTitle ArticleChannel  \\\n",
       "0  1. Mai in Wien: SPÖ fordert von Strache Rücktritt         Inland   \n",
       "1  1. Mai in Wien: SPÖ fordert von Strache Rücktritt         Inland   \n",
       "\n",
       "  ArticleRessortName UserCommunityName UserGender            UserCreatedAt  \n",
       "0           Parteien       Ravenspower        NaN  2018-04-14 13:42:28.470  \n",
       "1           Parteien        AlphaRomeo          m  2015-08-28 17:07:41.110  "
      ]
     },
     "execution_count": 5,
     "metadata": {},
     "output_type": "execute_result"
    }
   ],
   "source": [
    "postings.head(2)"
   ]
  },
  {
   "cell_type": "code",
   "execution_count": 50,
   "metadata": {},
   "outputs": [
    {
     "name": "stderr",
     "output_type": "stream",
     "text": [
      "/var/folders/5l/vkbvbmf94dg7fjtyqjprh7940000gn/T/ipykernel_25038/792415218.py:3: UserWarning: Attempt to set non-positive ylim on a log-scaled axis will be ignored.\n",
      "  fig.set_ylim(0, 10000)\n"
     ]
    },
    {
     "data": {
      "text/plain": [
       "(0.6123504061713867, 10000)"
      ]
     },
     "execution_count": 50,
     "metadata": {},
     "output_type": "execute_result"
    },
    {
     "data": {
      "image/png": "[encoded data removed]",
      "text/plain": [
       "<Figure size 640x480 with 1 Axes>"
      ]
     },
     "metadata": {},
     "output_type": "display_data"
    }
   ],
   "source": [
    "fig = votes.query('VoteNegative == 1')[['ID_CommunityIdentity', 'UserCommunityName']].groupby(['ID_CommunityIdentity', 'UserCommunityName']).size().hist(bins=100, log=True)\n",
    "fig.set_xlim(0, 10000)\n",
    "fig.set_ylim(0, 10000)\n"
   ]
  },
  {
   "cell_type": "code",
   "execution_count": 53,
   "metadata": {},
   "outputs": [
    {
     "name": "stdout",
     "output_type": "stream",
     "text": [
      "3012748\n"
     ]
    }
   ],
   "source": [
    "print(votes.query('VoteNegative == 0')[['ID_CommunityIdentity', 'UserCommunityName']].groupby(['ID_CommunityIdentity', 'UserCommunityName']).size().sum())"
   ]
  },
  {
   "cell_type": "code",
   "execution_count": 51,
   "metadata": {},
   "outputs": [
    {
     "name": "stderr",
     "output_type": "stream",
     "text": [
      "/var/folders/5l/vkbvbmf94dg7fjtyqjprh7940000gn/T/ipykernel_25038/4276300228.py:3: UserWarning: Attempt to set non-positive ylim on a log-scaled axis will be ignored.\n",
      "  fig.set_ylim(0, 10000)\n"
     ]
    },
    {
     "data": {
      "text/plain": [
       "(0.604109364553706, 10000)"
      ]
     },
     "execution_count": 51,
     "metadata": {},
     "output_type": "execute_result"
    },
    {
     "data": {
      "image/png": "[encoded data removed]",
      "text/plain": [
       "<Figure size 640x480 with 1 Axes>"
      ]
     },
     "metadata": {},
     "output_type": "display_data"
    }
   ],
   "source": [
    "fig = votes.query('VoteNegative == 0')[['ID_CommunityIdentity', 'UserCommunityName']].groupby(['ID_CommunityIdentity', 'UserCommunityName']).size().hist(bins=100, log=True)\n",
    "fig.set_xlim(0, 10000)\n",
    "fig.set_ylim(0, 10000)\n"
   ]
  },
  {
   "cell_type": "code",
   "execution_count": 33,
   "metadata": {},
   "outputs": [
    {
     "data": {
      "text/plain": [
       "{'bodies': [<matplotlib.collections.PolyCollection at 0x2815cf190>,\n",
       "  <matplotlib.collections.PolyCollection at 0x281637850>],\n",
       " 'cmaxes': <matplotlib.collections.LineCollection at 0x281446150>,\n",
       " 'cmins': <matplotlib.collections.LineCollection at 0x281618350>,\n",
       " 'cbars': <matplotlib.collections.LineCollection at 0x2815bfd90>}"
      ]
     },
     "execution_count": 33,
     "metadata": {},
     "output_type": "execute_result"
    },
    {
     "data": {
      "image/png": "[encoded data removed]",
      "text/plain": [
       "<Figure size 1000x1000 with 1 Axes>"
      ]
     },
     "metadata": {},
     "output_type": "display_data"
    }
   ],
   "source": [
    "upvotes_count = votes.query('VoteNegative == 1')[['ID_CommunityIdentity', 'UserCommunityName']].groupby(['ID_CommunityIdentity', 'UserCommunityName']).size()\n",
    "downvotes_count = votes.query('VoteNegative == 0')[['ID_CommunityIdentity', 'UserCommunityName']].groupby(['ID_CommunityIdentity', 'UserCommunityName']).size()\n",
    "\n",
    "fig, ax = plt.subplots(figsize=(10, 10))\n",
    "ax.set_title('Negative votes')\n",
    "ax.set_xlabel('Number of negative votes')\n",
    "ax.set_ylabel('Number of users')\n",
    "ax.set_yscale('log')\n",
    "ax.violinplot([upvotes_count, downvotes_count])"
   ]
  },
  {
   "cell_type": "code",
   "execution_count": 19,
   "metadata": {},
   "outputs": [
    {
     "data": {
      "text/plain": [
       "<matplotlib.patches.StepPatch at 0x2e4ef0cd0>"
      ]
     },
     "execution_count": 19,
     "metadata": {},
     "output_type": "execute_result"
    },
    {
     "data": {
      "image/png": "[encoded data removed]",
      "text/plain": [
       "<Figure size 640x480 with 1 Axes>"
      ]
     },
     "metadata": {},
     "output_type": "display_data"
    }
   ],
   "source": [
    "counts, bins = np.histogram(slopes)\n",
    "plt.stairs(counts, bins)\n",
    "#plt.axvline(x=mean_slopes)"
   ]
  },
  {
   "cell_type": "markdown",
   "metadata": {},
   "source": [
    "## Introduction\n",
    "\n",
    "We want to answer the question if selection and social influence play a role after users first had contact in the Standart Forum. Therefore we need to determine the first contact by two users, this could be done in two ways: \n",
    "1. Reply: user a and b first had contact when user a replied to a comment of user b\n",
    "2. Vote: user a upvoted a comment of user b\n",
    "\n",
    "Both are forms of explicit feedback which is better than implicit feedback and therefore suitable for this kind of question."
   ]
  },
  {
   "cell_type": "markdown",
   "metadata": {},
   "source": [
    "## Define contact by upvote"
   ]
  },
  {
   "cell_type": "markdown",
   "metadata": {},
   "source": [
    "## Define first contact by reply"
   ]
  },
  {
   "cell_type": "code",
   "execution_count": 7,
   "metadata": {},
   "outputs": [
    {
     "data": {
      "text/html": [
       "<div>\n",
       "<style scoped>\n",
       "    .dataframe tbody tr th:only-of-type {\n",
       "        vertical-align: middle;\n",
       "    }\n",
       "\n",
       "    .dataframe tbody tr th {\n",
       "        vertical-align: top;\n",
       "    }\n",
       "\n",
       "    .dataframe thead th {\n",
       "        text-align: right;\n",
       "    }\n",
       "</style>\n",
       "<table border=\"1\" class=\"dataframe\">\n",
       "  <thead>\n",
       "    <tr style=\"text-align: right;\">\n",
       "      <th></th>\n",
       "      <th>UserCommunityName_x</th>\n",
       "      <th>UserCommunityName_y</th>\n",
       "      <th>PostingCreatedAt</th>\n",
       "    </tr>\n",
       "  </thead>\n",
       "  <tbody>\n",
       "    <tr>\n",
       "      <th>0</th>\n",
       "      <td>!!!DerAbgrund!!!</td>\n",
       "      <td>Katmai</td>\n",
       "      <td>2019-05-28 08:46:38.747</td>\n",
       "    </tr>\n",
       "    <tr>\n",
       "      <th>1</th>\n",
       "      <td>\"UnschuldsVermutung\" die Erste</td>\n",
       "      <td>Bono</td>\n",
       "      <td>2019-05-21 07:10:35.887</td>\n",
       "    </tr>\n",
       "    <tr>\n",
       "      <th>2</th>\n",
       "      <td>\"Unschuldsvermutung\"</td>\n",
       "      <td>Cabernet Sauvignon</td>\n",
       "      <td>2019-05-10 15:20:14.960</td>\n",
       "    </tr>\n",
       "    <tr>\n",
       "      <th>3</th>\n",
       "      <td>\"Unschuldsvermutung\"</td>\n",
       "      <td>Jimmy Hey</td>\n",
       "      <td>2019-05-10 15:21:38.460</td>\n",
       "    </tr>\n",
       "    <tr>\n",
       "      <th>4</th>\n",
       "      <td>\"mir fällt kein nick ein\" ist schon vergeben</td>\n",
       "      <td>ConanBarbarian</td>\n",
       "      <td>2019-05-28 13:11:37.280</td>\n",
       "    </tr>\n",
       "  </tbody>\n",
       "</table>\n",
       "</div>"
      ],
      "text/plain": [
       "                            UserCommunityName_x UserCommunityName_y  \\\n",
       "0                              !!!DerAbgrund!!!              Katmai   \n",
       "1                \"UnschuldsVermutung\" die Erste                Bono   \n",
       "2                          \"Unschuldsvermutung\"  Cabernet Sauvignon   \n",
       "3                          \"Unschuldsvermutung\"           Jimmy Hey   \n",
       "4  \"mir fällt kein nick ein\" ist schon vergeben      ConanBarbarian   \n",
       "\n",
       "          PostingCreatedAt  \n",
       "0  2019-05-28 08:46:38.747  \n",
       "1  2019-05-21 07:10:35.887  \n",
       "2  2019-05-10 15:20:14.960  \n",
       "3  2019-05-10 15:21:38.460  \n",
       "4  2019-05-28 13:11:37.280  "
      ]
     },
     "execution_count": 7,
     "metadata": {},
     "output_type": "execute_result"
    }
   ],
   "source": [
    "# Find u-u tuples with their first date of interaction by reply\n",
    "first_contact_reply_pairs = (postings.dropna(subset=[\"ID_Posting_Parent\"])[\n",
    " [\"UserCommunityName\", \"ID_Posting_Parent\", \"PostingCreatedAt\"]]\n",
    " .merge(postings[[\"ID_Posting\", \"UserCommunityName\"]], left_on=[\"ID_Posting_Parent\"], right_on=[\"ID_Posting\"], how=\"left\")\n",
    " [[\"UserCommunityName_x\", \"UserCommunityName_y\", \"PostingCreatedAt\"]]\n",
    " .sort_values(\"PostingCreatedAt\")\n",
    " .groupby([\"UserCommunityName_x\", \"UserCommunityName_y\"])\n",
    " .first()\n",
    " .reset_index())\n",
    "\n",
    "first_contact_reply_pairs.head(5)\n"
   ]
  },
  {
   "cell_type": "code",
   "execution_count": 8,
   "metadata": {},
   "outputs": [
    {
     "data": {
      "text/html": [
       "<div>\n",
       "<style scoped>\n",
       "    .dataframe tbody tr th:only-of-type {\n",
       "        vertical-align: middle;\n",
       "    }\n",
       "\n",
       "    .dataframe tbody tr th {\n",
       "        vertical-align: top;\n",
       "    }\n",
       "\n",
       "    .dataframe thead th {\n",
       "        text-align: right;\n",
       "    }\n",
       "</style>\n",
       "<table border=\"1\" class=\"dataframe\">\n",
       "  <thead>\n",
       "    <tr style=\"text-align: right;\">\n",
       "      <th></th>\n",
       "      <th>ID_Posting</th>\n",
       "      <th>ID_Posting_Parent</th>\n",
       "      <th>ID_CommunityIdentity</th>\n",
       "      <th>PostingHeadline</th>\n",
       "      <th>PostingComment</th>\n",
       "      <th>PostingCreatedAt</th>\n",
       "      <th>ID_Article</th>\n",
       "      <th>ArticlePublishingDate</th>\n",
       "      <th>ArticleTitle</th>\n",
       "      <th>ArticleChannel</th>\n",
       "      <th>ArticleRessortName</th>\n",
       "      <th>UserCommunityName</th>\n",
       "      <th>UserGender</th>\n",
       "      <th>UserCreatedAt</th>\n",
       "    </tr>\n",
       "  </thead>\n",
       "  <tbody>\n",
       "    <tr>\n",
       "      <th>0</th>\n",
       "      <td>1041073586</td>\n",
       "      <td>1.041073e+09</td>\n",
       "      <td>671476</td>\n",
       "      <td>Das hat gestern bereits der Voggenhuber angefü...</td>\n",
       "      <td>schieder hatte dem inhaltlich nichts entgegenz...</td>\n",
       "      <td>2019-05-01 18:21:15.127</td>\n",
       "      <td>2000102330973</td>\n",
       "      <td>2019-05-01 10:28:57.49</td>\n",
       "      <td>1. Mai in Wien: SPÖ fordert von Strache Rücktritt</td>\n",
       "      <td>Inland</td>\n",
       "      <td>Parteien</td>\n",
       "      <td>Ravenspower</td>\n",
       "      <td>NaN</td>\n",
       "      <td>2018-04-14 13:42:28.470</td>\n",
       "    </tr>\n",
       "    <tr>\n",
       "      <th>1</th>\n",
       "      <td>1041073839</td>\n",
       "      <td>1.041073e+09</td>\n",
       "      <td>566938</td>\n",
       "      <td>NaN</td>\n",
       "      <td>...und meinen Bezirk bekommst du als Erbe mit.</td>\n",
       "      <td>2019-05-01 18:28:22.040</td>\n",
       "      <td>2000102330973</td>\n",
       "      <td>2019-05-01 10:28:57.49</td>\n",
       "      <td>1. Mai in Wien: SPÖ fordert von Strache Rücktritt</td>\n",
       "      <td>Inland</td>\n",
       "      <td>Parteien</td>\n",
       "      <td>AlphaRomeo</td>\n",
       "      <td>m</td>\n",
       "      <td>2015-08-28 17:07:41.110</td>\n",
       "    </tr>\n",
       "  </tbody>\n",
       "</table>\n",
       "</div>"
      ],
      "text/plain": [
       "   ID_Posting  ID_Posting_Parent  ID_CommunityIdentity  \\\n",
       "0  1041073586       1.041073e+09                671476   \n",
       "1  1041073839       1.041073e+09                566938   \n",
       "\n",
       "                                     PostingHeadline  \\\n",
       "0  Das hat gestern bereits der Voggenhuber angefü...   \n",
       "1                                                NaN   \n",
       "\n",
       "                                      PostingComment         PostingCreatedAt  \\\n",
       "0  schieder hatte dem inhaltlich nichts entgegenz...  2019-05-01 18:21:15.127   \n",
       "1     ...und meinen Bezirk bekommst du als Erbe mit.  2019-05-01 18:28:22.040   \n",
       "\n",
       "      ID_Article   ArticlePublishingDate  \\\n",
       "0  2000102330973  2019-05-01 10:28:57.49   \n",
       "1  2000102330973  2019-05-01 10:28:57.49   \n",
       "\n",
       "                                        ArticleTitle ArticleChannel  \\\n",
       "0  1. Mai in Wien: SPÖ fordert von Strache Rücktritt         Inland   \n",
       "1  1. Mai in Wien: SPÖ fordert von Strache Rücktritt         Inland   \n",
       "\n",
       "  ArticleRessortName UserCommunityName UserGender            UserCreatedAt  \n",
       "0           Parteien       Ravenspower        NaN  2018-04-14 13:42:28.470  \n",
       "1           Parteien        AlphaRomeo          m  2015-08-28 17:07:41.110  "
      ]
     },
     "execution_count": 8,
     "metadata": {},
     "output_type": "execute_result"
    }
   ],
   "source": [
    "postings.head(2)"
   ]
  },
  {
   "cell_type": "markdown",
   "metadata": {},
   "source": [
    "# Build a reply network "
   ]
  },
  {
   "cell_type": "code",
   "execution_count": 9,
   "metadata": {},
   "outputs": [
    {
     "data": {
      "text/plain": [
       "array([[671476, 233191, 'Parteien'],\n",
       "       [566938, 640123, 'Parteien'],\n",
       "       [669286, 680772, 'Parteien'],\n",
       "       ...,\n",
       "       [553628, 66584, 'Off-Topic'],\n",
       "       [553628, 65490, 'Off-Topic'],\n",
       "       [553628, 673428, 'Off-Topic']], dtype=object)"
      ]
     },
     "execution_count": 9,
     "metadata": {},
     "output_type": "execute_result"
    }
   ],
   "source": [
    "first_contact_reply_pairs = (postings.dropna(subset=[\"ID_Posting_Parent\"])[\n",
    " [\"ID_CommunityIdentity\", \"ID_Posting_Parent\", \"ArticleRessortName\"]]\n",
    " .merge(postings[[\"ID_Posting\", \"ID_CommunityIdentity\"]].assign(ID_CommunityIdentity = lambda x: x.ID_CommunityIdentity.astype(\"Int64\")), left_on=[\"ID_Posting_Parent\"], right_on=[\"ID_Posting\"], how=\"left\")\n",
    " [[\"ID_CommunityIdentity_x\", \"ID_CommunityIdentity_y\", \"ArticleRessortName\"]])\n",
    "#  .groupby([\"ID_CommunityIdentity_x\", \"ID_CommunityIdentity_y\"])\n",
    "# .size()\n",
    "#  .reset_index()\n",
    "#  .rename(columns={0: \"count\"})\n",
    "#  .sort_values(\"count\", ascending=False))\n",
    "\n",
    "first_contact_reply_pairs.to_numpy()"
   ]
  },
  {
   "cell_type": "markdown",
   "metadata": {},
   "source": [
    "# "
   ]
  },
  {
   "cell_type": "code",
   "execution_count": 10,
   "metadata": {},
   "outputs": [
    {
     "data": {
      "text/html": [
       "<div>\n",
       "<style scoped>\n",
       "    .dataframe tbody tr th:only-of-type {\n",
       "        vertical-align: middle;\n",
       "    }\n",
       "\n",
       "    .dataframe tbody tr th {\n",
       "        vertical-align: top;\n",
       "    }\n",
       "\n",
       "    .dataframe thead th {\n",
       "        text-align: right;\n",
       "    }\n",
       "</style>\n",
       "<table border=\"1\" class=\"dataframe\">\n",
       "  <thead>\n",
       "    <tr style=\"text-align: right;\">\n",
       "      <th></th>\n",
       "      <th>ID_CommunityIdentity_x</th>\n",
       "      <th>ID_CommunityIdentity_y</th>\n",
       "      <th>s_downvote</th>\n",
       "      <th>s_upvote</th>\n",
       "      <th>s_summed_votes</th>\n",
       "      <th>s_avg_votes</th>\n",
       "    </tr>\n",
       "  </thead>\n",
       "  <tbody>\n",
       "    <tr>\n",
       "      <th>10682178</th>\n",
       "      <td>171380</td>\n",
       "      <td>586763</td>\n",
       "      <td>374</td>\n",
       "      <td>151</td>\n",
       "      <td>223</td>\n",
       "      <td>1.080749</td>\n",
       "    </tr>\n",
       "    <tr>\n",
       "      <th>30554760</th>\n",
       "      <td>577975</td>\n",
       "      <td>676477</td>\n",
       "      <td>296</td>\n",
       "      <td>646</td>\n",
       "      <td>350</td>\n",
       "      <td>1.136898</td>\n",
       "    </tr>\n",
       "    <tr>\n",
       "      <th>40407350</th>\n",
       "      <td>676477</td>\n",
       "      <td>577975</td>\n",
       "      <td>295</td>\n",
       "      <td>647</td>\n",
       "      <td>352</td>\n",
       "      <td>1.134759</td>\n",
       "    </tr>\n",
       "    <tr>\n",
       "      <th>25844039</th>\n",
       "      <td>549309</td>\n",
       "      <td>676477</td>\n",
       "      <td>288</td>\n",
       "      <td>670</td>\n",
       "      <td>382</td>\n",
       "      <td>1.128342</td>\n",
       "    </tr>\n",
       "    <tr>\n",
       "      <th>40407122</th>\n",
       "      <td>676477</td>\n",
       "      <td>549309</td>\n",
       "      <td>287</td>\n",
       "      <td>671</td>\n",
       "      <td>384</td>\n",
       "      <td>1.126203</td>\n",
       "    </tr>\n",
       "  </tbody>\n",
       "</table>\n",
       "</div>"
      ],
      "text/plain": [
       "          ID_CommunityIdentity_x  ID_CommunityIdentity_y  s_downvote  \\\n",
       "10682178                  171380                  586763         374   \n",
       "30554760                  577975                  676477         296   \n",
       "40407350                  676477                  577975         295   \n",
       "25844039                  549309                  676477         288   \n",
       "40407122                  676477                  549309         287   \n",
       "\n",
       "          s_upvote  s_summed_votes  s_avg_votes  \n",
       "10682178       151             223     1.080749  \n",
       "30554760       646             350     1.136898  \n",
       "40407350       647             352     1.134759  \n",
       "25844039       670             382     1.128342  \n",
       "40407122       671             384     1.126203  "
      ]
     },
     "execution_count": 10,
     "metadata": {},
     "output_type": "execute_result"
    }
   ],
   "source": [
    "votes_simmilarity = (votes.assign(votes_p_n = lambda x: - x.VoteNegative + x.VotePositive)\n",
    "    [[\"ID_CommunityIdentity\",\t\"ID_Posting\", \"VoteNegative\", \"VotePositive\", \"votes_p_n\"]]\n",
    "    .merge(votes[[\"ID_CommunityIdentity\",\t\"ID_Posting\"]], on=[\"ID_Posting\"], how=\"inner\")\n",
    "    .query(\"ID_CommunityIdentity_x != ID_CommunityIdentity_y\")\n",
    "    .drop(columns=[\"ID_Posting\"])\n",
    "    .groupby([\"ID_CommunityIdentity_x\", \"ID_CommunityIdentity_y\"])\n",
    "    .sum()\n",
    "    .reset_index()\n",
    "    .sort_values(\"VoteNegative\", ascending=False)\n",
    "    .assign(votes_p_n = lambda x: x.votes_p_n.abs())\n",
    "    .assign(votes_p_n_avg = lambda x: (x.VoteNegative / max(x.VoteNegative)) + (x.VotePositive / max(x.VotePositive)) / 2)\n",
    "    .rename(columns={\"VotePositive\": \"s_upvote\", \"VoteNegative\": \"s_downvote\", \"votes_p_n\": \"s_summed_votes\", \"votes_p_n_avg\": \"s_avg_votes\"}))\n",
    "\n",
    "votes_simmilarity.head(5)"
   ]
  },
  {
   "cell_type": "code",
   "execution_count": 26,
   "metadata": {},
   "outputs": [
    {
     "data": {
      "text/html": [
       "<div>\n",
       "<style scoped>\n",
       "    .dataframe tbody tr th:only-of-type {\n",
       "        vertical-align: middle;\n",
       "    }\n",
       "\n",
       "    .dataframe tbody tr th {\n",
       "        vertical-align: top;\n",
       "    }\n",
       "\n",
       "    .dataframe thead th {\n",
       "        text-align: right;\n",
       "    }\n",
       "</style>\n",
       "<table border=\"1\" class=\"dataframe\">\n",
       "  <thead>\n",
       "    <tr style=\"text-align: right;\">\n",
       "      <th></th>\n",
       "      <th>ID_Posting</th>\n",
       "      <th>ID_Posting_Parent</th>\n",
       "      <th>ID_CommunityIdentity</th>\n",
       "      <th>PostingHeadline</th>\n",
       "      <th>PostingComment</th>\n",
       "      <th>PostingCreatedAt</th>\n",
       "      <th>ID_Article</th>\n",
       "      <th>ArticlePublishingDate</th>\n",
       "      <th>ArticleTitle</th>\n",
       "      <th>ArticleChannel</th>\n",
       "      <th>ArticleRessortName</th>\n",
       "      <th>UserCommunityName</th>\n",
       "      <th>UserGender</th>\n",
       "      <th>UserCreatedAt</th>\n",
       "    </tr>\n",
       "  </thead>\n",
       "  <tbody>\n",
       "    <tr>\n",
       "      <th>0</th>\n",
       "      <td>1041073586</td>\n",
       "      <td>1.041073e+09</td>\n",
       "      <td>671476</td>\n",
       "      <td>Das hat gestern bereits der Voggenhuber angefü...</td>\n",
       "      <td>schieder hatte dem inhaltlich nichts entgegenz...</td>\n",
       "      <td>2019-05-01 18:21:15.127</td>\n",
       "      <td>2000102330973</td>\n",
       "      <td>2019-05-01 10:28:57.49</td>\n",
       "      <td>1. Mai in Wien: SPÖ fordert von Strache Rücktritt</td>\n",
       "      <td>Inland</td>\n",
       "      <td>Parteien</td>\n",
       "      <td>Ravenspower</td>\n",
       "      <td>NaN</td>\n",
       "      <td>2018-04-14 13:42:28.470</td>\n",
       "    </tr>\n",
       "    <tr>\n",
       "      <th>1</th>\n",
       "      <td>1041073839</td>\n",
       "      <td>1.041073e+09</td>\n",
       "      <td>566938</td>\n",
       "      <td>NaN</td>\n",
       "      <td>...und meinen Bezirk bekommst du als Erbe mit.</td>\n",
       "      <td>2019-05-01 18:28:22.040</td>\n",
       "      <td>2000102330973</td>\n",
       "      <td>2019-05-01 10:28:57.49</td>\n",
       "      <td>1. Mai in Wien: SPÖ fordert von Strache Rücktritt</td>\n",
       "      <td>Inland</td>\n",
       "      <td>Parteien</td>\n",
       "      <td>AlphaRomeo</td>\n",
       "      <td>m</td>\n",
       "      <td>2015-08-28 17:07:41.110</td>\n",
       "    </tr>\n",
       "    <tr>\n",
       "      <th>2</th>\n",
       "      <td>1041073872</td>\n",
       "      <td>1.041069e+09</td>\n",
       "      <td>669286</td>\n",
       "      <td>NaN</td>\n",
       "      <td>Nein, bei der ÖVP/FPÖ genauso passiert. Ich wo...</td>\n",
       "      <td>2019-05-01 18:29:05.533</td>\n",
       "      <td>2000102330973</td>\n",
       "      <td>2019-05-01 10:28:57.49</td>\n",
       "      <td>1. Mai in Wien: SPÖ fordert von Strache Rücktritt</td>\n",
       "      <td>Inland</td>\n",
       "      <td>Parteien</td>\n",
       "      <td>Hpolditsch</td>\n",
       "      <td>NaN</td>\n",
       "      <td>2018-03-06 20:03:42.737</td>\n",
       "    </tr>\n",
       "    <tr>\n",
       "      <th>3</th>\n",
       "      <td>1041080734</td>\n",
       "      <td>1.041080e+09</td>\n",
       "      <td>671476</td>\n",
       "      <td>Sie haben doch nichts gefordert??</td>\n",
       "      <td>sie haben nur die regierung kritisiert. das di...</td>\n",
       "      <td>2019-05-01 22:37:56.010</td>\n",
       "      <td>2000102330973</td>\n",
       "      <td>2019-05-01 10:28:57.49</td>\n",
       "      <td>1. Mai in Wien: SPÖ fordert von Strache Rücktritt</td>\n",
       "      <td>Inland</td>\n",
       "      <td>Parteien</td>\n",
       "      <td>Ravenspower</td>\n",
       "      <td>NaN</td>\n",
       "      <td>2018-04-14 13:42:28.470</td>\n",
       "    </tr>\n",
       "    <tr>\n",
       "      <th>4</th>\n",
       "      <td>1041080828</td>\n",
       "      <td>NaN</td>\n",
       "      <td>671476</td>\n",
       "      <td>Heute wäre der perfekte Tag für die SPÖ gewese...</td>\n",
       "      <td>ihr noch nicht erfülltes versprechen, den silb...</td>\n",
       "      <td>2019-05-01 22:42:06.310</td>\n",
       "      <td>2000102330973</td>\n",
       "      <td>2019-05-01 10:28:57.49</td>\n",
       "      <td>1. Mai in Wien: SPÖ fordert von Strache Rücktritt</td>\n",
       "      <td>Inland</td>\n",
       "      <td>Parteien</td>\n",
       "      <td>Ravenspower</td>\n",
       "      <td>NaN</td>\n",
       "      <td>2018-04-14 13:42:28.470</td>\n",
       "    </tr>\n",
       "    <tr>\n",
       "      <th>...</th>\n",
       "      <td>...</td>\n",
       "      <td>...</td>\n",
       "      <td>...</td>\n",
       "      <td>...</td>\n",
       "      <td>...</td>\n",
       "      <td>...</td>\n",
       "      <td>...</td>\n",
       "      <td>...</td>\n",
       "      <td>...</td>\n",
       "      <td>...</td>\n",
       "      <td>...</td>\n",
       "      <td>...</td>\n",
       "      <td>...</td>\n",
       "      <td>...</td>\n",
       "    </tr>\n",
       "    <tr>\n",
       "      <th>395929</th>\n",
       "      <td>1042380731</td>\n",
       "      <td>1.042380e+09</td>\n",
       "      <td>553628</td>\n",
       "      <td>NaN</td>\n",
       "      <td>Vermutlich gar keines...mir ist jedenfalls kei...</td>\n",
       "      <td>2019-06-04 08:54:54.177</td>\n",
       "      <td>2000103620997</td>\n",
       "      <td>2019-05-24 09:01:27.00</td>\n",
       "      <td>Off-Topic-Forum #123</td>\n",
       "      <td>User</td>\n",
       "      <td>Off-Topic</td>\n",
       "      <td>404 not found</td>\n",
       "      <td>NaN</td>\n",
       "      <td>2014-12-06 15:15:06.280</td>\n",
       "    </tr>\n",
       "    <tr>\n",
       "      <th>395930</th>\n",
       "      <td>1042381030</td>\n",
       "      <td>NaN</td>\n",
       "      <td>553628</td>\n",
       "      <td>NaN</td>\n",
       "      <td>*winkt dankbar zur Gödelnummer* Du bist echt d...</td>\n",
       "      <td>2019-06-04 09:04:32.037</td>\n",
       "      <td>2000103620997</td>\n",
       "      <td>2019-05-24 09:01:27.00</td>\n",
       "      <td>Off-Topic-Forum #123</td>\n",
       "      <td>User</td>\n",
       "      <td>Off-Topic</td>\n",
       "      <td>404 not found</td>\n",
       "      <td>NaN</td>\n",
       "      <td>2014-12-06 15:15:06.280</td>\n",
       "    </tr>\n",
       "    <tr>\n",
       "      <th>395931</th>\n",
       "      <td>1042381528</td>\n",
       "      <td>1.042381e+09</td>\n",
       "      <td>553628</td>\n",
       "      <td>NaN</td>\n",
       "      <td>Die sind noch in Arbeit, aber der Surface läuf...</td>\n",
       "      <td>2019-06-04 09:22:54.473</td>\n",
       "      <td>2000103620997</td>\n",
       "      <td>2019-05-24 09:01:27.00</td>\n",
       "      <td>Off-Topic-Forum #123</td>\n",
       "      <td>User</td>\n",
       "      <td>Off-Topic</td>\n",
       "      <td>404 not found</td>\n",
       "      <td>NaN</td>\n",
       "      <td>2014-12-06 15:15:06.280</td>\n",
       "    </tr>\n",
       "    <tr>\n",
       "      <th>395932</th>\n",
       "      <td>1042381793</td>\n",
       "      <td>1.042380e+09</td>\n",
       "      <td>553628</td>\n",
       "      <td>NaN</td>\n",
       "      <td>Ich versteh das überhaupt nicht, warum so viel...</td>\n",
       "      <td>2019-06-04 09:31:45.077</td>\n",
       "      <td>2000103620997</td>\n",
       "      <td>2019-05-24 09:01:27.00</td>\n",
       "      <td>Off-Topic-Forum #123</td>\n",
       "      <td>User</td>\n",
       "      <td>Off-Topic</td>\n",
       "      <td>404 not found</td>\n",
       "      <td>NaN</td>\n",
       "      <td>2014-12-06 15:15:06.280</td>\n",
       "    </tr>\n",
       "    <tr>\n",
       "      <th>395933</th>\n",
       "      <td>1042389523</td>\n",
       "      <td>1.042389e+09</td>\n",
       "      <td>553628</td>\n",
       "      <td>NaN</td>\n",
       "      <td>Das war der erste von vielen, den ich gecheckt...</td>\n",
       "      <td>2019-06-04 13:09:09.613</td>\n",
       "      <td>2000103620997</td>\n",
       "      <td>2019-05-24 09:01:27.00</td>\n",
       "      <td>Off-Topic-Forum #123</td>\n",
       "      <td>User</td>\n",
       "      <td>Off-Topic</td>\n",
       "      <td>404 not found</td>\n",
       "      <td>NaN</td>\n",
       "      <td>2014-12-06 15:15:06.280</td>\n",
       "    </tr>\n",
       "  </tbody>\n",
       "</table>\n",
       "<p>739094 rows × 14 columns</p>\n",
       "</div>"
      ],
      "text/plain": [
       "        ID_Posting  ID_Posting_Parent  ID_CommunityIdentity  \\\n",
       "0       1041073586       1.041073e+09                671476   \n",
       "1       1041073839       1.041073e+09                566938   \n",
       "2       1041073872       1.041069e+09                669286   \n",
       "3       1041080734       1.041080e+09                671476   \n",
       "4       1041080828                NaN                671476   \n",
       "...            ...                ...                   ...   \n",
       "395929  1042380731       1.042380e+09                553628   \n",
       "395930  1042381030                NaN                553628   \n",
       "395931  1042381528       1.042381e+09                553628   \n",
       "395932  1042381793       1.042380e+09                553628   \n",
       "395933  1042389523       1.042389e+09                553628   \n",
       "\n",
       "                                          PostingHeadline  \\\n",
       "0       Das hat gestern bereits der Voggenhuber angefü...   \n",
       "1                                                     NaN   \n",
       "2                                                     NaN   \n",
       "3                       Sie haben doch nichts gefordert??   \n",
       "4       Heute wäre der perfekte Tag für die SPÖ gewese...   \n",
       "...                                                   ...   \n",
       "395929                                                NaN   \n",
       "395930                                                NaN   \n",
       "395931                                                NaN   \n",
       "395932                                                NaN   \n",
       "395933                                                NaN   \n",
       "\n",
       "                                           PostingComment  \\\n",
       "0       schieder hatte dem inhaltlich nichts entgegenz...   \n",
       "1          ...und meinen Bezirk bekommst du als Erbe mit.   \n",
       "2       Nein, bei der ÖVP/FPÖ genauso passiert. Ich wo...   \n",
       "3       sie haben nur die regierung kritisiert. das di...   \n",
       "4       ihr noch nicht erfülltes versprechen, den silb...   \n",
       "...                                                   ...   \n",
       "395929  Vermutlich gar keines...mir ist jedenfalls kei...   \n",
       "395930  *winkt dankbar zur Gödelnummer* Du bist echt d...   \n",
       "395931  Die sind noch in Arbeit, aber der Surface läuf...   \n",
       "395932  Ich versteh das überhaupt nicht, warum so viel...   \n",
       "395933  Das war der erste von vielen, den ich gecheckt...   \n",
       "\n",
       "               PostingCreatedAt     ID_Article   ArticlePublishingDate  \\\n",
       "0       2019-05-01 18:21:15.127  2000102330973  2019-05-01 10:28:57.49   \n",
       "1       2019-05-01 18:28:22.040  2000102330973  2019-05-01 10:28:57.49   \n",
       "2       2019-05-01 18:29:05.533  2000102330973  2019-05-01 10:28:57.49   \n",
       "3       2019-05-01 22:37:56.010  2000102330973  2019-05-01 10:28:57.49   \n",
       "4       2019-05-01 22:42:06.310  2000102330973  2019-05-01 10:28:57.49   \n",
       "...                         ...            ...                     ...   \n",
       "395929  2019-06-04 08:54:54.177  2000103620997  2019-05-24 09:01:27.00   \n",
       "395930  2019-06-04 09:04:32.037  2000103620997  2019-05-24 09:01:27.00   \n",
       "395931  2019-06-04 09:22:54.473  2000103620997  2019-05-24 09:01:27.00   \n",
       "395932  2019-06-04 09:31:45.077  2000103620997  2019-05-24 09:01:27.00   \n",
       "395933  2019-06-04 13:09:09.613  2000103620997  2019-05-24 09:01:27.00   \n",
       "\n",
       "                                             ArticleTitle ArticleChannel  \\\n",
       "0       1. Mai in Wien: SPÖ fordert von Strache Rücktritt         Inland   \n",
       "1       1. Mai in Wien: SPÖ fordert von Strache Rücktritt         Inland   \n",
       "2       1. Mai in Wien: SPÖ fordert von Strache Rücktritt         Inland   \n",
       "3       1. Mai in Wien: SPÖ fordert von Strache Rücktritt         Inland   \n",
       "4       1. Mai in Wien: SPÖ fordert von Strache Rücktritt         Inland   \n",
       "...                                                   ...            ...   \n",
       "395929                               Off-Topic-Forum #123           User   \n",
       "395930                               Off-Topic-Forum #123           User   \n",
       "395931                               Off-Topic-Forum #123           User   \n",
       "395932                               Off-Topic-Forum #123           User   \n",
       "395933                               Off-Topic-Forum #123           User   \n",
       "\n",
       "       ArticleRessortName UserCommunityName UserGender  \\\n",
       "0                Parteien       Ravenspower        NaN   \n",
       "1                Parteien        AlphaRomeo          m   \n",
       "2                Parteien        Hpolditsch        NaN   \n",
       "3                Parteien       Ravenspower        NaN   \n",
       "4                Parteien       Ravenspower        NaN   \n",
       "...                   ...               ...        ...   \n",
       "395929          Off-Topic     404 not found        NaN   \n",
       "395930          Off-Topic     404 not found        NaN   \n",
       "395931          Off-Topic     404 not found        NaN   \n",
       "395932          Off-Topic     404 not found        NaN   \n",
       "395933          Off-Topic     404 not found        NaN   \n",
       "\n",
       "                  UserCreatedAt  \n",
       "0       2018-04-14 13:42:28.470  \n",
       "1       2015-08-28 17:07:41.110  \n",
       "2       2018-03-06 20:03:42.737  \n",
       "3       2018-04-14 13:42:28.470  \n",
       "4       2018-04-14 13:42:28.470  \n",
       "...                         ...  \n",
       "395929  2014-12-06 15:15:06.280  \n",
       "395930  2014-12-06 15:15:06.280  \n",
       "395931  2014-12-06 15:15:06.280  \n",
       "395932  2014-12-06 15:15:06.280  \n",
       "395933  2014-12-06 15:15:06.280  \n",
       "\n",
       "[739094 rows x 14 columns]"
      ]
     },
     "execution_count": 26,
     "metadata": {},
     "output_type": "execute_result"
    }
   ],
   "source": [
    "postings"
   ]
  },
  {
   "cell_type": "code",
   "execution_count": 41,
   "metadata": {},
   "outputs": [
    {
     "data": {
      "text/plain": [
       "22"
      ]
     },
     "execution_count": 41,
     "metadata": {},
     "output_type": "execute_result"
    }
   ],
   "source": [
    "len(postings.ArticleChannel.unique())"
   ]
  },
  {
   "cell_type": "code",
   "execution_count": 51,
   "metadata": {},
   "outputs": [
    {
     "data": {
      "text/plain": [
       "<AxesSubplot:>"
      ]
     },
     "execution_count": 51,
     "metadata": {},
     "output_type": "execute_result"
    },
    {
     "data": {
      "image/png": "[encoded data removed]",
      "text/plain": [
       "<Figure size 432x288 with 1 Axes>"
      ]
     },
     "metadata": {
      "needs_background": "light"
     },
     "output_type": "display_data"
    }
   ],
   "source": [
    "# density plot of ArticleRessortName\n",
    "postings.ArticleRessortName.value_counts().hist()"
   ]
  },
  {
   "cell_type": "code",
   "execution_count": 52,
   "metadata": {},
   "outputs": [
    {
     "data": {
      "text/plain": [
       "Inland                    55394\n",
       "Österreich                37828\n",
       "FPÖ                       29440\n",
       "Kommentare der anderen    20047\n",
       "Netzpolitik               18760\n",
       "                          ...  \n",
       "USA-EssBar                    1\n",
       "Whatsapp-Updates              1\n",
       "Tiergärten                    1\n",
       "Somalia                       1\n",
       "Axel Springer                 1\n",
       "Name: ArticleRessortName, Length: 689, dtype: int64"
      ]
     },
     "execution_count": 52,
     "metadata": {},
     "output_type": "execute_result"
    }
   ],
   "source": [
    "postings.ArticleRessortName.value_counts()"
   ]
  },
  {
   "cell_type": "code",
   "execution_count": null,
   "metadata": {},
   "outputs": [],
   "source": [
    "from wordcloud import WordCloud\n",
    "from wordcloud import ImageColorGenerator\n",
    "from wordcloud import STOPWORDS\n",
    "\n",
    "text = \" \".join(i for i in data.text)\n",
    "stopwords = set(STOPWORDS)\n",
    "wordcloud = WordCloud(stopwords=stopwords, background_color=\"white\").generate(text)\n",
    "plt.figure( figsize=(15,10))\n",
    "plt.imshow(wordcloud, interpolation='bilinear')\n",
    "plt.axis(\"off\")\n",
    "plt.show()"
   ]
  },
  {
   "cell_type": "markdown",
   "metadata": {},
   "source": [
    "## Disagreement \n",
    "when user a has upvoted what user b has downvoted or the opposite."
   ]
  },
  {
   "cell_type": "code",
   "execution_count": 11,
   "metadata": {},
   "outputs": [
    {
     "data": {
      "text/html": [
       "<div>\n",
       "<style scoped>\n",
       "    .dataframe tbody tr th:only-of-type {\n",
       "        vertical-align: middle;\n",
       "    }\n",
       "\n",
       "    .dataframe tbody tr th {\n",
       "        vertical-align: top;\n",
       "    }\n",
       "\n",
       "    .dataframe thead th {\n",
       "        text-align: right;\n",
       "    }\n",
       "</style>\n",
       "<table border=\"1\" class=\"dataframe\">\n",
       "  <thead>\n",
       "    <tr style=\"text-align: right;\">\n",
       "      <th></th>\n",
       "      <th>ID_CommunityIdentity_x</th>\n",
       "      <th>ID_Posting</th>\n",
       "      <th>VoteNegative</th>\n",
       "      <th>ID_CommunityIdentity_y</th>\n",
       "      <th>VotePositive</th>\n",
       "      <th>VoteCreatedAt</th>\n",
       "    </tr>\n",
       "  </thead>\n",
       "  <tbody>\n",
       "    <tr>\n",
       "      <th>0</th>\n",
       "      <td>675862</td>\n",
       "      <td>1041076570</td>\n",
       "      <td>1</td>\n",
       "      <td>606376</td>\n",
       "      <td>1</td>\n",
       "      <td>2019-05-01 20:46:16.267</td>\n",
       "    </tr>\n",
       "    <tr>\n",
       "      <th>1</th>\n",
       "      <td>689023</td>\n",
       "      <td>1041076570</td>\n",
       "      <td>1</td>\n",
       "      <td>606376</td>\n",
       "      <td>1</td>\n",
       "      <td>2019-05-01 20:46:16.267</td>\n",
       "    </tr>\n",
       "    <tr>\n",
       "      <th>47</th>\n",
       "      <td>68791</td>\n",
       "      <td>1041077081</td>\n",
       "      <td>1</td>\n",
       "      <td>216128</td>\n",
       "      <td>1</td>\n",
       "      <td>2019-05-01 20:53:02.410</td>\n",
       "    </tr>\n",
       "    <tr>\n",
       "      <th>48</th>\n",
       "      <td>68791</td>\n",
       "      <td>1041077081</td>\n",
       "      <td>1</td>\n",
       "      <td>98636</td>\n",
       "      <td>1</td>\n",
       "      <td>2019-05-01 22:55:47.400</td>\n",
       "    </tr>\n",
       "    <tr>\n",
       "      <th>49</th>\n",
       "      <td>68791</td>\n",
       "      <td>1041077081</td>\n",
       "      <td>1</td>\n",
       "      <td>17755</td>\n",
       "      <td>1</td>\n",
       "      <td>2019-05-01 20:39:18.827</td>\n",
       "    </tr>\n",
       "    <tr>\n",
       "      <th>...</th>\n",
       "      <td>...</td>\n",
       "      <td>...</td>\n",
       "      <td>...</td>\n",
       "      <td>...</td>\n",
       "      <td>...</td>\n",
       "      <td>...</td>\n",
       "    </tr>\n",
       "    <tr>\n",
       "      <th>17376665</th>\n",
       "      <td>220003</td>\n",
       "      <td>1042258888</td>\n",
       "      <td>1</td>\n",
       "      <td>172297</td>\n",
       "      <td>1</td>\n",
       "      <td>2019-05-31 17:04:57.860</td>\n",
       "    </tr>\n",
       "    <tr>\n",
       "      <th>17376666</th>\n",
       "      <td>220003</td>\n",
       "      <td>1042258888</td>\n",
       "      <td>1</td>\n",
       "      <td>589243</td>\n",
       "      <td>1</td>\n",
       "      <td>2019-05-31 13:55:38.133</td>\n",
       "    </tr>\n",
       "    <tr>\n",
       "      <th>17376667</th>\n",
       "      <td>220003</td>\n",
       "      <td>1042258888</td>\n",
       "      <td>1</td>\n",
       "      <td>523229</td>\n",
       "      <td>1</td>\n",
       "      <td>2019-06-01 03:27:30.897</td>\n",
       "    </tr>\n",
       "    <tr>\n",
       "      <th>17376668</th>\n",
       "      <td>220003</td>\n",
       "      <td>1042258888</td>\n",
       "      <td>1</td>\n",
       "      <td>666368</td>\n",
       "      <td>1</td>\n",
       "      <td>2019-05-31 13:32:23.590</td>\n",
       "    </tr>\n",
       "    <tr>\n",
       "      <th>17376669</th>\n",
       "      <td>220003</td>\n",
       "      <td>1042258888</td>\n",
       "      <td>1</td>\n",
       "      <td>545211</td>\n",
       "      <td>1</td>\n",
       "      <td>2019-05-31 19:42:35.397</td>\n",
       "    </tr>\n",
       "  </tbody>\n",
       "</table>\n",
       "<p>8688335 rows × 6 columns</p>\n",
       "</div>"
      ],
      "text/plain": [
       "          ID_CommunityIdentity_x  ID_Posting  VoteNegative  \\\n",
       "0                         675862  1041076570             1   \n",
       "1                         689023  1041076570             1   \n",
       "47                         68791  1041077081             1   \n",
       "48                         68791  1041077081             1   \n",
       "49                         68791  1041077081             1   \n",
       "...                          ...         ...           ...   \n",
       "17376665                  220003  1042258888             1   \n",
       "17376666                  220003  1042258888             1   \n",
       "17376667                  220003  1042258888             1   \n",
       "17376668                  220003  1042258888             1   \n",
       "17376669                  220003  1042258888             1   \n",
       "\n",
       "          ID_CommunityIdentity_y  VotePositive            VoteCreatedAt  \n",
       "0                         606376             1  2019-05-01 20:46:16.267  \n",
       "1                         606376             1  2019-05-01 20:46:16.267  \n",
       "47                        216128             1  2019-05-01 20:53:02.410  \n",
       "48                         98636             1  2019-05-01 22:55:47.400  \n",
       "49                         17755             1  2019-05-01 20:39:18.827  \n",
       "...                          ...           ...                      ...  \n",
       "17376665                  172297             1  2019-05-31 17:04:57.860  \n",
       "17376666                  589243             1  2019-05-31 13:55:38.133  \n",
       "17376667                  523229             1  2019-06-01 03:27:30.897  \n",
       "17376668                  666368             1  2019-05-31 13:32:23.590  \n",
       "17376669                  545211             1  2019-05-31 19:42:35.397  \n",
       "\n",
       "[8688335 rows x 6 columns]"
      ]
     },
     "execution_count": 11,
     "metadata": {},
     "output_type": "execute_result"
    }
   ],
   "source": [
    "disagree_tuples = (votes[[\"ID_CommunityIdentity\", \"ID_Posting\", \"VoteNegative\"]]\n",
    "        .merge(votes[[\"ID_CommunityIdentity\", \"ID_Posting\", \"VotePositive\", \"VoteCreatedAt\"]], left_on=[\"ID_Posting\", \"VoteNegative\"], \n",
    "        right_on=[\"ID_Posting\", \"VotePositive\"], how=\"inner\")\n",
    "        .query(\"VoteNegative == 1\"))     \n",
    "\n",
    "disagree_tuples  "
   ]
  },
  {
   "cell_type": "code",
   "execution_count": 12,
   "metadata": {},
   "outputs": [
    {
     "data": {
      "text/html": [
       "<div>\n",
       "<style scoped>\n",
       "    .dataframe tbody tr th:only-of-type {\n",
       "        vertical-align: middle;\n",
       "    }\n",
       "\n",
       "    .dataframe tbody tr th {\n",
       "        vertical-align: top;\n",
       "    }\n",
       "\n",
       "    .dataframe thead th {\n",
       "        text-align: right;\n",
       "    }\n",
       "</style>\n",
       "<table border=\"1\" class=\"dataframe\">\n",
       "  <thead>\n",
       "    <tr style=\"text-align: right;\">\n",
       "      <th></th>\n",
       "      <th>ID_CommunityIdentity_x</th>\n",
       "      <th>ID_CommunityIdentity_y</th>\n",
       "      <th>s_disagree</th>\n",
       "    </tr>\n",
       "  </thead>\n",
       "  <tbody>\n",
       "    <tr>\n",
       "      <th>1385665</th>\n",
       "      <td>171380</td>\n",
       "      <td>586763</td>\n",
       "      <td>-369</td>\n",
       "    </tr>\n",
       "  </tbody>\n",
       "</table>\n",
       "</div>"
      ],
      "text/plain": [
       "         ID_CommunityIdentity_x  ID_CommunityIdentity_y  s_disagree\n",
       "1385665                  171380                  586763        -369"
      ]
     },
     "execution_count": 12,
     "metadata": {},
     "output_type": "execute_result"
    }
   ],
   "source": [
    "top_users = (disagree_tuples\n",
    "        .groupby([\"ID_CommunityIdentity_x\", \"ID_CommunityIdentity_y\"])\n",
    "        .size()\n",
    "        .reset_index()\n",
    "        .rename(columns={0: \"s_disagree\"})\n",
    "        .assign(s_disagree = lambda x: - x.s_disagree)\n",
    "        .sort_values(\"s_disagree\", ascending=True))\n",
    "        \n",
    "top_users.head(1)"
   ]
  },
  {
   "cell_type": "code",
   "execution_count": 13,
   "metadata": {},
   "outputs": [
    {
     "data": {
      "text/html": [
       "<style type=\"text/css\">\n",
       "#T_33a65_row0_col0, #T_33a65_row1_col1, #T_33a65_row2_col2, #T_33a65_row3_col3, #T_33a65_row4_col4 {\n",
       "  background-color: #b40426;\n",
       "  color: #f1f1f1;\n",
       "}\n",
       "#T_33a65_row0_col1 {\n",
       "  background-color: #f5c4ac;\n",
       "  color: #000000;\n",
       "}\n",
       "#T_33a65_row0_col2 {\n",
       "  background-color: #e4d9d2;\n",
       "  color: #000000;\n",
       "}\n",
       "#T_33a65_row0_col3 {\n",
       "  background-color: #c43032;\n",
       "  color: #f1f1f1;\n",
       "}\n",
       "#T_33a65_row0_col4, #T_33a65_row4_col0, #T_33a65_row4_col1, #T_33a65_row4_col2, #T_33a65_row4_col3 {\n",
       "  background-color: #3b4cc0;\n",
       "  color: #f1f1f1;\n",
       "}\n",
       "#T_33a65_row1_col0 {\n",
       "  background-color: #f59f80;\n",
       "  color: #000000;\n",
       "}\n",
       "#T_33a65_row1_col2, #T_33a65_row2_col1 {\n",
       "  background-color: #c12b30;\n",
       "  color: #f1f1f1;\n",
       "}\n",
       "#T_33a65_row1_col3 {\n",
       "  background-color: #da5a49;\n",
       "  color: #f1f1f1;\n",
       "}\n",
       "#T_33a65_row1_col4 {\n",
       "  background-color: #9dbdff;\n",
       "  color: #000000;\n",
       "}\n",
       "#T_33a65_row2_col0 {\n",
       "  background-color: #f7b497;\n",
       "  color: #000000;\n",
       "}\n",
       "#T_33a65_row2_col3 {\n",
       "  background-color: #e9785d;\n",
       "  color: #f1f1f1;\n",
       "}\n",
       "#T_33a65_row2_col4 {\n",
       "  background-color: #a2c1ff;\n",
       "  color: #000000;\n",
       "}\n",
       "#T_33a65_row3_col0 {\n",
       "  background-color: #c32e31;\n",
       "  color: #f1f1f1;\n",
       "}\n",
       "#T_33a65_row3_col1 {\n",
       "  background-color: #e36c55;\n",
       "  color: #f1f1f1;\n",
       "}\n",
       "#T_33a65_row3_col2 {\n",
       "  background-color: #f29274;\n",
       "  color: #f1f1f1;\n",
       "}\n",
       "#T_33a65_row3_col4 {\n",
       "  background-color: #516ddb;\n",
       "  color: #f1f1f1;\n",
       "}\n",
       "</style>\n",
       "<table id=\"T_33a65\">\n",
       "  <thead>\n",
       "    <tr>\n",
       "      <th class=\"blank level0\" >&nbsp;</th>\n",
       "      <th id=\"T_33a65_level0_col0\" class=\"col_heading level0 col0\" >s_downvote</th>\n",
       "      <th id=\"T_33a65_level0_col1\" class=\"col_heading level0 col1\" >s_upvote</th>\n",
       "      <th id=\"T_33a65_level0_col2\" class=\"col_heading level0 col2\" >s_summed_votes</th>\n",
       "      <th id=\"T_33a65_level0_col3\" class=\"col_heading level0 col3\" >s_avg_votes</th>\n",
       "      <th id=\"T_33a65_level0_col4\" class=\"col_heading level0 col4\" >s_disagree</th>\n",
       "    </tr>\n",
       "  </thead>\n",
       "  <tbody>\n",
       "    <tr>\n",
       "      <th id=\"T_33a65_level0_row0\" class=\"row_heading level0 row0\" >s_downvote</th>\n",
       "      <td id=\"T_33a65_row0_col0\" class=\"data row0 col0\" >1.000000</td>\n",
       "      <td id=\"T_33a65_row0_col1\" class=\"data row0 col1\" >0.549251</td>\n",
       "      <td id=\"T_33a65_row0_col2\" class=\"data row0 col2\" >0.444426</td>\n",
       "      <td id=\"T_33a65_row0_col3\" class=\"data row0 col3\" >0.929804</td>\n",
       "      <td id=\"T_33a65_row0_col4\" class=\"data row0 col4\" >-0.714912</td>\n",
       "    </tr>\n",
       "    <tr>\n",
       "      <th id=\"T_33a65_level0_row1\" class=\"row_heading level0 row1\" >s_upvote</th>\n",
       "      <td id=\"T_33a65_row1_col0\" class=\"data row1 col0\" >0.549251</td>\n",
       "      <td id=\"T_33a65_row1_col1\" class=\"data row1 col1\" >1.000000</td>\n",
       "      <td id=\"T_33a65_row1_col2\" class=\"data row1 col2\" >0.956012</td>\n",
       "      <td id=\"T_33a65_row1_col3\" class=\"data row1 col3\" >0.818264</td>\n",
       "      <td id=\"T_33a65_row1_col4\" class=\"data row1 col4\" >-0.210772</td>\n",
       "    </tr>\n",
       "    <tr>\n",
       "      <th id=\"T_33a65_level0_row2\" class=\"row_heading level0 row2\" >s_summed_votes</th>\n",
       "      <td id=\"T_33a65_row2_col0\" class=\"data row2 col0\" >0.444426</td>\n",
       "      <td id=\"T_33a65_row2_col1\" class=\"data row2 col1\" >0.956012</td>\n",
       "      <td id=\"T_33a65_row2_col2\" class=\"data row2 col2\" >1.000000</td>\n",
       "      <td id=\"T_33a65_row2_col3\" class=\"data row2 col3\" >0.726782</td>\n",
       "      <td id=\"T_33a65_row2_col4\" class=\"data row2 col4\" >-0.181661</td>\n",
       "    </tr>\n",
       "    <tr>\n",
       "      <th id=\"T_33a65_level0_row3\" class=\"row_heading level0 row3\" >s_avg_votes</th>\n",
       "      <td id=\"T_33a65_row3_col0\" class=\"data row3 col0\" >0.929804</td>\n",
       "      <td id=\"T_33a65_row3_col1\" class=\"data row3 col1\" >0.818264</td>\n",
       "      <td id=\"T_33a65_row3_col2\" class=\"data row3 col2\" >0.726782</td>\n",
       "      <td id=\"T_33a65_row3_col3\" class=\"data row3 col3\" >1.000000</td>\n",
       "      <td id=\"T_33a65_row3_col4\" class=\"data row3 col4\" >-0.584615</td>\n",
       "    </tr>\n",
       "    <tr>\n",
       "      <th id=\"T_33a65_level0_row4\" class=\"row_heading level0 row4\" >s_disagree</th>\n",
       "      <td id=\"T_33a65_row4_col0\" class=\"data row4 col0\" >-0.714912</td>\n",
       "      <td id=\"T_33a65_row4_col1\" class=\"data row4 col1\" >-0.210772</td>\n",
       "      <td id=\"T_33a65_row4_col2\" class=\"data row4 col2\" >-0.181661</td>\n",
       "      <td id=\"T_33a65_row4_col3\" class=\"data row4 col3\" >-0.584615</td>\n",
       "      <td id=\"T_33a65_row4_col4\" class=\"data row4 col4\" >1.000000</td>\n",
       "    </tr>\n",
       "  </tbody>\n",
       "</table>\n"
      ],
      "text/plain": [
       "<pandas.io.formats.style.Styler at 0x2b181ab00>"
      ]
     },
     "execution_count": 13,
     "metadata": {},
     "output_type": "execute_result"
    }
   ],
   "source": [
    "from sklearn.preprocessing import MinMaxScaler\n",
    "\n",
    "scaler = MinMaxScaler()\n",
    "\n",
    "merged = votes_simmilarity.merge(top_users, on=[\"ID_CommunityIdentity_x\", \"ID_CommunityIdentity_y\"], how=\"inner\")[[\"s_downvote\", \"s_upvote\", \"s_summed_votes\", \"s_avg_votes\", \"s_disagree\"]]\n",
    "merged_scaled = pd.DataFrame(scaler.fit_transform(merged), columns=merged.columns)\n",
    "\n",
    "merged_scaled.corr().style.background_gradient(cmap='coolwarm')"
   ]
  },
  {
   "cell_type": "code",
   "execution_count": 14,
   "metadata": {},
   "outputs": [],
   "source": [
    "merged = votes_simmilarity.merge(top_users, on=[\"ID_CommunityIdentity_x\", \"ID_CommunityIdentity_y\"], how=\"inner\").query(\"ID_CommunityIdentity_x == 171380\")"
   ]
  },
  {
   "cell_type": "code",
   "execution_count": 15,
   "metadata": {},
   "outputs": [
    {
     "data": {
      "text/plain": [
       "<AxesSubplot:xlabel='s_downvote', ylabel='s_disagree'>"
      ]
     },
     "execution_count": 15,
     "metadata": {},
     "output_type": "execute_result"
    },
    {
     "data": {
      "image/png": "[encoded data removed]",
      "text/plain": [
       "<Figure size 432x288 with 1 Axes>"
      ]
     },
     "metadata": {
      "needs_background": "light"
     },
     "output_type": "display_data"
    }
   ],
   "source": [
    "merged[[\"s_disagree\", \"s_downvote\"]].groupby([\"s_disagree\", \"s_downvote\"]).size().reset_index().plot.scatter(x=\"s_downvote\", y=\"s_disagree\", s=0, logx=True)"
   ]
  },
  {
   "cell_type": "code",
   "execution_count": 16,
   "metadata": {},
   "outputs": [
    {
     "name": "stdout",
     "output_type": "stream",
     "text": [
      "AxesSubplot(0.125,0.657941;0.168478x0.222059)\n",
      "AxesSubplot(0.327174,0.657941;0.168478x0.222059)\n",
      "AxesSubplot(0.529348,0.657941;0.168478x0.222059)\n",
      "AxesSubplot(0.731522,0.657941;0.168478x0.222059)\n",
      "AxesSubplot(0.125,0.391471;0.168478x0.222059)\n",
      "AxesSubplot(0.327174,0.391471;0.168478x0.222059)\n",
      "AxesSubplot(0.529348,0.391471;0.168478x0.222059)\n",
      "AxesSubplot(0.731522,0.391471;0.168478x0.222059)\n",
      "AxesSubplot(0.125,0.125;0.168478x0.222059)\n",
      "AxesSubplot(0.327174,0.125;0.168478x0.222059)\n",
      "AxesSubplot(0.529348,0.125;0.168478x0.222059)\n",
      "AxesSubplot(0.731522,0.125;0.168478x0.222059)\n"
     ]
    },
    {
     "data": {
      "image/png": "[encoded data removed]",
      "text/plain": [
       "<Figure size 1440x720 with 12 Axes>"
      ]
     },
     "metadata": {
      "needs_background": "light"
     },
     "output_type": "display_data"
    }
   ],
   "source": [
    "fig, axs = plt.subplots(3, 4)\n",
    "fig.set_size_inches(20, 10)\n",
    "\n",
    "for ax, row in zip(fig.get_axes(), list(top_users.itertuples())):\n",
    "    print(ax)\n",
    "    user_a = row.ID_CommunityIdentity_x\n",
    "    user_b = row.ID_CommunityIdentity_y\n",
    "    (disagree_tuples\n",
    "        .query(\"ID_CommunityIdentity_x == @user_a & ID_CommunityIdentity_y == @user_b\")\n",
    "        .assign(date= lambda x: pd.to_datetime(x.VoteCreatedAt).dt.date)\n",
    "        .groupby(\"date\")\n",
    "        .size()\n",
    "        .plot(ax=ax))"
   ]
  }
 ],
 "metadata": {
  "kernelspec": {
   "display_name": "def",
   "language": "python",
   "name": "python3"
  },
  "language_info": {
   "codemirror_mode": {
    "name": "ipython",
    "version": 3
   },
   "file_extension": ".py",
   "mimetype": "text/x-python",
   "name": "python",
   "nbconvert_exporter": "python",
   "pygments_lexer": "ipython3",
   "version": "3.11.0 | packaged by conda-forge | (main, Oct 25 2022, 06:21:25) [Clang 14.0.4 ]"
  },
  "orig_nbformat": 4,
  "vscode": {
   "interpreter": {
    "hash": "d10a3a3defb5e13856aaf3d73818be63812eefb30946d3d3d1eca5d37801ff18"
   }
  }
 },
 "nbformat": 4,
 "nbformat_minor": 2
}
