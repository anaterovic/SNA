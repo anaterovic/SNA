{
 "cells": [
  {
   "cell_type": "markdown",
   "metadata": {},
   "source": [
    "### Load packages"
   ]
  },
  {
   "cell_type": "code",
   "execution_count": 1,
   "metadata": {},
   "outputs": [],
   "source": [
    "import numpy as np\n",
    "import networkx as nx\n",
    "import pandas as pd\n",
    "import matplotlib.pyplot as plt"
   ]
  },
  {
   "cell_type": "code",
   "execution_count": 48,
   "metadata": {},
   "outputs": [],
   "source": [
    "# Create enviroment if not done before. \n",
    "#!conda create --name sna --file environment.yml"
   ]
  },
  {
   "cell_type": "markdown",
   "metadata": {},
   "source": [
    "### Load an concat data"
   ]
  },
  {
   "cell_type": "code",
   "execution_count": 34,
   "metadata": {},
   "outputs": [],
   "source": [
    "postings_1 = pd.read_csv('input/Postings_01052019_15052019.csv', sep=';')\n",
    "postings_2 = pd.read_csv('input/Postings_16052019_31052019.csv', sep=';')\n",
    "votes_1 = pd.read_csv('input/Votes_01052019_15052019.csv', sep=';')\n",
    "votes_2 = pd.read_csv('input/Votes_16052019_31052019.csv', sep=';')\n",
    "follow_ignore = pd.read_csv(\n",
    "    \"input/Following_Ignoring_Relationships_01052019_31052019.csv\", sep=\";\")\n",
    "\n",
    "# Merge the two datasets\n",
    "postings = pd.concat([postings_1, postings_2])\n",
    "votes = pd.concat([votes_1, votes_2])\n"
   ]
  },
  {
   "cell_type": "code",
   "execution_count": 18,
   "metadata": {},
   "outputs": [
    {
     "data": {
      "text/html": [
       "<div>\n",
       "<style scoped>\n",
       "    .dataframe tbody tr th:only-of-type {\n",
       "        vertical-align: middle;\n",
       "    }\n",
       "\n",
       "    .dataframe tbody tr th {\n",
       "        vertical-align: top;\n",
       "    }\n",
       "\n",
       "    .dataframe thead th {\n",
       "        text-align: right;\n",
       "    }\n",
       "</style>\n",
       "<table border=\"1\" class=\"dataframe\">\n",
       "  <thead>\n",
       "    <tr style=\"text-align: right;\">\n",
       "      <th></th>\n",
       "      <th>ID_CommunityIdentity</th>\n",
       "      <th>ID_Posting</th>\n",
       "      <th>VoteNegative</th>\n",
       "      <th>VotePositive</th>\n",
       "      <th>VoteCreatedAt</th>\n",
       "      <th>UserCommunityName</th>\n",
       "      <th>UserGender</th>\n",
       "      <th>UserCreatedAt</th>\n",
       "    </tr>\n",
       "  </thead>\n",
       "  <tbody>\n",
       "    <tr>\n",
       "      <th>0</th>\n",
       "      <td>675862</td>\n",
       "      <td>1041076570</td>\n",
       "      <td>1</td>\n",
       "      <td>0</td>\n",
       "      <td>2019-05-06 16:47:46.883</td>\n",
       "      <td>Heckscheibenwischer</td>\n",
       "      <td>m</td>\n",
       "      <td>2018-06-26 06:04:30.513</td>\n",
       "    </tr>\n",
       "    <tr>\n",
       "      <th>1</th>\n",
       "      <td>689023</td>\n",
       "      <td>1041076570</td>\n",
       "      <td>1</td>\n",
       "      <td>0</td>\n",
       "      <td>2019-05-01 22:19:06.240</td>\n",
       "      <td>Heinz Fettleber</td>\n",
       "      <td>NaN</td>\n",
       "      <td>2019-03-08 21:23:11.463</td>\n",
       "    </tr>\n",
       "  </tbody>\n",
       "</table>\n",
       "</div>"
      ],
      "text/plain": [
       "   ID_CommunityIdentity  ID_Posting  VoteNegative  VotePositive  \\\n",
       "0                675862  1041076570             1             0   \n",
       "1                689023  1041076570             1             0   \n",
       "\n",
       "             VoteCreatedAt    UserCommunityName UserGender  \\\n",
       "0  2019-05-06 16:47:46.883  Heckscheibenwischer          m   \n",
       "1  2019-05-01 22:19:06.240      Heinz Fettleber        NaN   \n",
       "\n",
       "             UserCreatedAt  \n",
       "0  2018-06-26 06:04:30.513  \n",
       "1  2019-03-08 21:23:11.463  "
      ]
     },
     "execution_count": 18,
     "metadata": {},
     "output_type": "execute_result"
    }
   ],
   "source": [
    "votes.head(2)"
   ]
  },
  {
   "cell_type": "code",
   "execution_count": 51,
   "metadata": {},
   "outputs": [
    {
     "data": {
      "text/html": [
       "<div>\n",
       "<style scoped>\n",
       "    .dataframe tbody tr th:only-of-type {\n",
       "        vertical-align: middle;\n",
       "    }\n",
       "\n",
       "    .dataframe tbody tr th {\n",
       "        vertical-align: top;\n",
       "    }\n",
       "\n",
       "    .dataframe thead th {\n",
       "        text-align: right;\n",
       "    }\n",
       "</style>\n",
       "<table border=\"1\" class=\"dataframe\">\n",
       "  <thead>\n",
       "    <tr style=\"text-align: right;\">\n",
       "      <th></th>\n",
       "      <th>ID_Posting</th>\n",
       "      <th>ID_Posting_Parent</th>\n",
       "      <th>ID_CommunityIdentity</th>\n",
       "      <th>PostingHeadline</th>\n",
       "      <th>PostingComment</th>\n",
       "      <th>PostingCreatedAt</th>\n",
       "      <th>ID_Article</th>\n",
       "      <th>ArticlePublishingDate</th>\n",
       "      <th>ArticleTitle</th>\n",
       "      <th>ArticleChannel</th>\n",
       "      <th>ArticleRessortName</th>\n",
       "      <th>UserCommunityName</th>\n",
       "      <th>UserGender</th>\n",
       "      <th>UserCreatedAt</th>\n",
       "    </tr>\n",
       "  </thead>\n",
       "  <tbody>\n",
       "    <tr>\n",
       "      <th>0</th>\n",
       "      <td>1041073586</td>\n",
       "      <td>1.041073e+09</td>\n",
       "      <td>671476</td>\n",
       "      <td>Das hat gestern bereits der Voggenhuber angefü...</td>\n",
       "      <td>schieder hatte dem inhaltlich nichts entgegenz...</td>\n",
       "      <td>2019-05-01 18:21:15.127</td>\n",
       "      <td>2000102330973</td>\n",
       "      <td>2019-05-01 10:28:57.49</td>\n",
       "      <td>1. Mai in Wien: SPÖ fordert von Strache Rücktritt</td>\n",
       "      <td>Inland</td>\n",
       "      <td>Parteien</td>\n",
       "      <td>Ravenspower</td>\n",
       "      <td>NaN</td>\n",
       "      <td>2018-04-14 13:42:28.470</td>\n",
       "    </tr>\n",
       "    <tr>\n",
       "      <th>1</th>\n",
       "      <td>1041073839</td>\n",
       "      <td>1.041073e+09</td>\n",
       "      <td>566938</td>\n",
       "      <td>NaN</td>\n",
       "      <td>...und meinen Bezirk bekommst du als Erbe mit.</td>\n",
       "      <td>2019-05-01 18:28:22.040</td>\n",
       "      <td>2000102330973</td>\n",
       "      <td>2019-05-01 10:28:57.49</td>\n",
       "      <td>1. Mai in Wien: SPÖ fordert von Strache Rücktritt</td>\n",
       "      <td>Inland</td>\n",
       "      <td>Parteien</td>\n",
       "      <td>AlphaRomeo</td>\n",
       "      <td>m</td>\n",
       "      <td>2015-08-28 17:07:41.110</td>\n",
       "    </tr>\n",
       "  </tbody>\n",
       "</table>\n",
       "</div>"
      ],
      "text/plain": [
       "   ID_Posting  ID_Posting_Parent  ID_CommunityIdentity  \\\n",
       "0  1041073586       1.041073e+09                671476   \n",
       "1  1041073839       1.041073e+09                566938   \n",
       "\n",
       "                                     PostingHeadline  \\\n",
       "0  Das hat gestern bereits der Voggenhuber angefü...   \n",
       "1                                                NaN   \n",
       "\n",
       "                                      PostingComment         PostingCreatedAt  \\\n",
       "0  schieder hatte dem inhaltlich nichts entgegenz...  2019-05-01 18:21:15.127   \n",
       "1     ...und meinen Bezirk bekommst du als Erbe mit.  2019-05-01 18:28:22.040   \n",
       "\n",
       "      ID_Article   ArticlePublishingDate  \\\n",
       "0  2000102330973  2019-05-01 10:28:57.49   \n",
       "1  2000102330973  2019-05-01 10:28:57.49   \n",
       "\n",
       "                                        ArticleTitle ArticleChannel  \\\n",
       "0  1. Mai in Wien: SPÖ fordert von Strache Rücktritt         Inland   \n",
       "1  1. Mai in Wien: SPÖ fordert von Strache Rücktritt         Inland   \n",
       "\n",
       "  ArticleRessortName UserCommunityName UserGender            UserCreatedAt  \n",
       "0           Parteien       Ravenspower        NaN  2018-04-14 13:42:28.470  \n",
       "1           Parteien        AlphaRomeo          m  2015-08-28 17:07:41.110  "
      ]
     },
     "execution_count": 51,
     "metadata": {},
     "output_type": "execute_result"
    }
   ],
   "source": [
    "postings.head(2)"
   ]
  },
  {
   "cell_type": "markdown",
   "metadata": {},
   "source": [
    "## Introduction\n",
    "\n",
    "We want to answer the question if selection and social influence play a role after users first had contact in the Standart Forum. Therefore we need to determine the first contact by two users, this could be done in two ways: \n",
    "1. Reply: user a and b first had contact when user a replied to a comment of user b\n",
    "2. Vote: user a upvoted a comment of user b\n",
    "\n",
    "Both are forms of explicit feedback which is better than implicit feedback and therefore suitable for this kind of question."
   ]
  },
  {
   "cell_type": "markdown",
   "metadata": {},
   "source": [
    "## Define contact by upvote"
   ]
  },
  {
   "cell_type": "code",
   "execution_count": 45,
   "metadata": {},
   "outputs": [
    {
     "data": {
      "text/html": [
       "<div>\n",
       "<style scoped>\n",
       "    .dataframe tbody tr th:only-of-type {\n",
       "        vertical-align: middle;\n",
       "    }\n",
       "\n",
       "    .dataframe tbody tr th {\n",
       "        vertical-align: top;\n",
       "    }\n",
       "\n",
       "    .dataframe thead th {\n",
       "        text-align: right;\n",
       "    }\n",
       "</style>\n",
       "<table border=\"1\" class=\"dataframe\">\n",
       "  <thead>\n",
       "    <tr style=\"text-align: right;\">\n",
       "      <th></th>\n",
       "      <th>UserCommunityName_x</th>\n",
       "      <th>UserCommunityName_y</th>\n",
       "      <th>VoteCreatedAt</th>\n",
       "    </tr>\n",
       "  </thead>\n",
       "  <tbody>\n",
       "    <tr>\n",
       "      <th>0</th>\n",
       "      <td>!! Melzer = Doppelspieler !!</td>\n",
       "      <td>1816/55</td>\n",
       "      <td>2019-05-30 08:00:24.183</td>\n",
       "    </tr>\n",
       "    <tr>\n",
       "      <th>1</th>\n",
       "      <td>!! Melzer = Doppelspieler !!</td>\n",
       "      <td>Hasan_Vural</td>\n",
       "      <td>2019-05-03 19:36:13.510</td>\n",
       "    </tr>\n",
       "    <tr>\n",
       "      <th>2</th>\n",
       "      <td>!! Melzer = Doppelspieler !!</td>\n",
       "      <td>Mohrdred</td>\n",
       "      <td>2019-05-08 09:01:16.380</td>\n",
       "    </tr>\n",
       "    <tr>\n",
       "      <th>3</th>\n",
       "      <td>!! Melzer = Doppelspieler !!</td>\n",
       "      <td>Wissender</td>\n",
       "      <td>2019-05-30 08:05:59.733</td>\n",
       "    </tr>\n",
       "    <tr>\n",
       "      <th>4</th>\n",
       "      <td>!!!DerAbgrund!!!</td>\n",
       "      <td>Gewerkschaftelhuber</td>\n",
       "      <td>2019-05-30 22:00:26.557</td>\n",
       "    </tr>\n",
       "  </tbody>\n",
       "</table>\n",
       "</div>"
      ],
      "text/plain": [
       "            UserCommunityName_x  UserCommunityName_y            VoteCreatedAt\n",
       "0  !! Melzer = Doppelspieler !!              1816/55  2019-05-30 08:00:24.183\n",
       "1  !! Melzer = Doppelspieler !!          Hasan_Vural  2019-05-03 19:36:13.510\n",
       "2  !! Melzer = Doppelspieler !!             Mohrdred  2019-05-08 09:01:16.380\n",
       "3  !! Melzer = Doppelspieler !!            Wissender  2019-05-30 08:05:59.733\n",
       "4              !!!DerAbgrund!!!  Gewerkschaftelhuber  2019-05-30 22:00:26.557"
      ]
     },
     "execution_count": 45,
     "metadata": {},
     "output_type": "execute_result"
    }
   ],
   "source": [
    "# Find u-u tuples with their first date of interaction by vote\n",
    "first_contact_vote_pairs = (votes[[\"UserCommunityName\", \"UserCreatedAt\", \"ID_Posting\", \"VoteCreatedAt\"]]\n",
    " .merge(postings[[\"ID_Posting\", \"UserCommunityName\", \"UserCreatedAt\"]], on=[\"ID_Posting\"], how=\"left\")\n",
    " [[\"UserCommunityName_x\", \"UserCommunityName_y\", \"VoteCreatedAt\"]]\n",
    " .sort_values(\"VoteCreatedAt\")\n",
    " .groupby([\"UserCommunityName_x\", \"UserCommunityName_y\"])\n",
    " .first()\n",
    " .reset_index())\n",
    "\n",
    "first_contact_vote_pairs.head(5)"
   ]
  },
  {
   "cell_type": "markdown",
   "metadata": {},
   "source": [
    "## Define first contact by reply"
   ]
  },
  {
   "cell_type": "code",
   "execution_count": 47,
   "metadata": {},
   "outputs": [
    {
     "data": {
      "text/html": [
       "<div>\n",
       "<style scoped>\n",
       "    .dataframe tbody tr th:only-of-type {\n",
       "        vertical-align: middle;\n",
       "    }\n",
       "\n",
       "    .dataframe tbody tr th {\n",
       "        vertical-align: top;\n",
       "    }\n",
       "\n",
       "    .dataframe thead th {\n",
       "        text-align: right;\n",
       "    }\n",
       "</style>\n",
       "<table border=\"1\" class=\"dataframe\">\n",
       "  <thead>\n",
       "    <tr style=\"text-align: right;\">\n",
       "      <th></th>\n",
       "      <th>UserCommunityName_x</th>\n",
       "      <th>UserCommunityName_y</th>\n",
       "      <th>PostingCreatedAt</th>\n",
       "    </tr>\n",
       "  </thead>\n",
       "  <tbody>\n",
       "    <tr>\n",
       "      <th>0</th>\n",
       "      <td>!!!DerAbgrund!!!</td>\n",
       "      <td>Katmai</td>\n",
       "      <td>2019-05-28 08:46:38.747</td>\n",
       "    </tr>\n",
       "    <tr>\n",
       "      <th>1</th>\n",
       "      <td>\"UnschuldsVermutung\" die Erste</td>\n",
       "      <td>Bono</td>\n",
       "      <td>2019-05-21 07:10:35.887</td>\n",
       "    </tr>\n",
       "    <tr>\n",
       "      <th>2</th>\n",
       "      <td>\"Unschuldsvermutung\"</td>\n",
       "      <td>Cabernet Sauvignon</td>\n",
       "      <td>2019-05-10 15:20:14.960</td>\n",
       "    </tr>\n",
       "    <tr>\n",
       "      <th>3</th>\n",
       "      <td>\"Unschuldsvermutung\"</td>\n",
       "      <td>Jimmy Hey</td>\n",
       "      <td>2019-05-10 15:21:38.460</td>\n",
       "    </tr>\n",
       "    <tr>\n",
       "      <th>4</th>\n",
       "      <td>\"mir fällt kein nick ein\" ist schon vergeben</td>\n",
       "      <td>ConanBarbarian</td>\n",
       "      <td>2019-05-28 13:11:37.280</td>\n",
       "    </tr>\n",
       "  </tbody>\n",
       "</table>\n",
       "</div>"
      ],
      "text/plain": [
       "                            UserCommunityName_x UserCommunityName_y  \\\n",
       "0                              !!!DerAbgrund!!!              Katmai   \n",
       "1                \"UnschuldsVermutung\" die Erste                Bono   \n",
       "2                          \"Unschuldsvermutung\"  Cabernet Sauvignon   \n",
       "3                          \"Unschuldsvermutung\"           Jimmy Hey   \n",
       "4  \"mir fällt kein nick ein\" ist schon vergeben      ConanBarbarian   \n",
       "\n",
       "          PostingCreatedAt  \n",
       "0  2019-05-28 08:46:38.747  \n",
       "1  2019-05-21 07:10:35.887  \n",
       "2  2019-05-10 15:20:14.960  \n",
       "3  2019-05-10 15:21:38.460  \n",
       "4  2019-05-28 13:11:37.280  "
      ]
     },
     "execution_count": 47,
     "metadata": {},
     "output_type": "execute_result"
    }
   ],
   "source": [
    "# Find u-u tuples with their first date of interaction by reply\n",
    "first_contact_reply_pairs = (postings.dropna(subset=[\"ID_Posting_Parent\"])[\n",
    " [\"UserCommunityName\", \"ID_Posting_Parent\", \"PostingCreatedAt\"]]\n",
    " .merge(postings[[\"ID_Posting\", \"UserCommunityName\"]], left_on=[\"ID_Posting_Parent\"], right_on=[\"ID_Posting\"], how=\"left\")\n",
    " [[\"UserCommunityName_x\", \"UserCommunityName_y\", \"PostingCreatedAt\"]]\n",
    " .sort_values(\"PostingCreatedAt\")\n",
    " .groupby([\"UserCommunityName_x\", \"UserCommunityName_y\"])\n",
    " .first()\n",
    " .reset_index())\n",
    "\n",
    "first_contact_reply_pairs.head(5)\n"
   ]
  }
 ],
 "metadata": {
  "kernelspec": {
   "display_name": "Python 3.10.6 ('group-31')",
   "language": "python",
   "name": "python3"
  },
  "language_info": {
   "codemirror_mode": {
    "name": "ipython",
    "version": 3
   },
   "file_extension": ".py",
   "mimetype": "text/x-python",
   "name": "python",
   "nbconvert_exporter": "python",
   "pygments_lexer": "ipython3",
   "version": "3.10.6"
  },
  "orig_nbformat": 4,
  "vscode": {
   "interpreter": {
    "hash": "c2c8e12eb1d5fdfec7dc5081334a738390b8a5d6d4d405e5125d6729f0e8c9b9"
   }
  }
 },
 "nbformat": 4,
 "nbformat_minor": 2
}
