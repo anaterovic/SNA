{
 "cells": [
  {
   "cell_type": "markdown",
   "id": "356665f8",
   "metadata": {},
   "source": [
    "## Loading in the data \n",
    "\n",
    "For more information, view URLs-preprocess notebook."
   ]
  },
  {
   "cell_type": "code",
   "execution_count": 1,
   "id": "52b31944",
   "metadata": {},
   "outputs": [],
   "source": [
    "import pandas as pd\n",
    "\n",
    "postings1 = pd.read_csv(\"../input/Postings_01052019_15052019.csv\", delimiter=\";\")\n",
    "postings2 = pd.read_csv(\"../input/Postings_16052019_31052019.csv\", delimiter=\";\")\n",
    "\n",
    "urls_df_1 = pd.read_csv(\"URLs-Postings_01052019_15052019.csv\").set_index('Unnamed: 0')\n",
    "urls_df_1.index.names = [None]\n",
    "\n",
    "urls_df_2 = pd.read_csv(\"URLs-Postings_16052019_31052019.csv\").set_index('Unnamed: 0')\n",
    "urls_df_2.index.names = [None]\n",
    "\n",
    "merged1 = pd.concat([postings1, urls_df_1], axis=1)\n",
    "merged2 = pd.concat([postings2, urls_df_2], axis=1)\n",
    "\n",
    "merged = pd.concat([merged1, merged2])\n",
    "merged = merged.reset_index()\n",
    "merged = merged.drop(['index'], axis=1)\n",
    "\n",
    "merged = merged[merged['url'].notna()]"
   ]
  },
  {
   "cell_type": "markdown",
   "id": "ef55bb0c",
   "metadata": {},
   "source": [
    "## Additional information: Observe users with most URL data\n",
    "\n",
    "The less URLs that the users have posted each, the more likely their URL similarities could be attributed to chance. The following filters for users with most URLs posted where this will present least of an issue.\n",
    "\n",
    "### Total link counts"
   ]
  },
  {
   "cell_type": "code",
   "execution_count": 2,
   "id": "df358e6e",
   "metadata": {},
   "outputs": [
    {
     "data": {
      "text/plain": [
       "ID_CommunityIdentity\n",
       "500699    175\n",
       "538958    120\n",
       "679687    114\n",
       "633296    112\n",
       "586587    108\n",
       "55475      98\n",
       "530746     94\n",
       "569277     94\n",
       "633859     90\n",
       "654549     87\n",
       "Name: url, dtype: int64"
      ]
     },
     "execution_count": 2,
     "metadata": {},
     "output_type": "execute_result"
    }
   ],
   "source": [
    "merged.groupby([\"ID_CommunityIdentity\"]).count()[\"url\"].sort_values(ascending=[False]).head(10)"
   ]
  },
  {
   "cell_type": "markdown",
   "id": "596bb123",
   "metadata": {},
   "source": [
    "### Unique URLs"
   ]
  },
  {
   "cell_type": "code",
   "execution_count": 3,
   "id": "48565d9a",
   "metadata": {},
   "outputs": [
    {
     "data": {
      "text/plain": [
       "ID_CommunityIdentity\n",
       "500699    148\n",
       "538958    107\n",
       "586587    104\n",
       "679687    102\n",
       "633296     88\n",
       "569277     88\n",
       "530746     87\n",
       "55475      87\n",
       "633859     73\n",
       "243821     72\n",
       "Name: url, dtype: int64"
      ]
     },
     "execution_count": 3,
     "metadata": {},
     "output_type": "execute_result"
    }
   ],
   "source": [
    "group_count = merged.groupby([\"ID_CommunityIdentity\"]).nunique()\n",
    "group_count[\"url\"].sort_values(ascending=[False]).head(10)"
   ]
  },
  {
   "cell_type": "markdown",
   "id": "2bbd767e",
   "metadata": {},
   "source": [
    "### Unique Domains that the links belong to"
   ]
  },
  {
   "cell_type": "code",
   "execution_count": 4,
   "id": "350fef32",
   "metadata": {},
   "outputs": [
    {
     "data": {
      "text/plain": [
       "ID_CommunityIdentity\n",
       "500699    77\n",
       "530746    61\n",
       "633296    58\n",
       "586587    57\n",
       "679687    57\n",
       "579846    54\n",
       "571425    46\n",
       "579842    44\n",
       "96494     43\n",
       "633859    42\n",
       "Name: domain, dtype: int64"
      ]
     },
     "execution_count": 4,
     "metadata": {},
     "output_type": "execute_result"
    }
   ],
   "source": [
    "group_count[\"domain\"].sort_values(ascending=[False]).head(10)"
   ]
  },
  {
   "cell_type": "markdown",
   "id": "316138e1",
   "metadata": {},
   "source": [
    "## Code for calculating Jaccard Coefficient\n",
    "\n",
    "The following contains code for calculating the JC. Follow the comments in the code chunks in order to understand the rough reasoning behind the respective lines of code."
   ]
  },
  {
   "cell_type": "code",
   "execution_count": 5,
   "id": "abe5c743",
   "metadata": {},
   "outputs": [],
   "source": [
    "#splits up the dataset in df equal groups and creates a new column (named 0) assigning distinct numbers to each of the groups so it's possible to perform group operations afterwards\n",
    "def equal_groups(df, chunks):\n",
    "    amount_rows = df.shape[0]\n",
    "    chunks = pd.Series(range(amount_rows)).apply(lambda x: int(x/(amount_rows/chunks)))\n",
    "    chunks.index = df.index\n",
    "    return pd.concat([chunks,df],axis=1)"
   ]
  },
  {
   "cell_type": "code",
   "execution_count": 6,
   "id": "9a05dfd3",
   "metadata": {},
   "outputs": [],
   "source": [
    "def get_jaccard_coeffs(user1, user2, chunks=1, df=merged, column=\"domain\"):\n",
    "    #join rows containing user1 and user2 into one common table\n",
    "    dfx = pd.concat([df[df[\"ID_CommunityIdentity\"] == user1], df[df[\"ID_CommunityIdentity\"] == user2]])\n",
    "    dfx = dfx.reset_index()\n",
    "    dfx = dfx.drop(['index'], axis=1)\n",
    "    #split into three equal sized groups\n",
    "    eg_dfx = equal_groups(dfx, chunks)\n",
    "    #filter for user1 and user2 respectively\n",
    "    eg_dfx1 = eg_dfx[eg_dfx[\"ID_CommunityIdentity\"] == user1]\n",
    "    eg_dfx2 = eg_dfx[eg_dfx[\"ID_CommunityIdentity\"] == user2]\n",
    "    #for each chunk, calculate Jaccard Coefficient\n",
    "    similarities = []\n",
    "    for chunk in range(chunks):\n",
    "        dfx_intersect = set(eg_dfx1[eg_dfx1[0] == chunk][column]).intersection(set(eg_dfx2[eg_dfx2[0] == chunk][column]))\n",
    "        dfx_union = set(eg_dfx1[eg_dfx1[0] == chunk][column]).union(set(eg_dfx2[eg_dfx2[0] == chunk][column]))\n",
    "        similarities.append(len(dfx_intersect) / len(dfx_union))\n",
    "    return similarities"
   ]
  },
  {
   "cell_type": "markdown",
   "id": "fd67f85a",
   "metadata": {},
   "source": [
    "## Use Cases\n",
    "\n",
    "### Use Case 1: Determine Domains similarities between two users\n",
    "\n",
    "The following displays the similarities between the two users, based off of the domains of the links that the users had posted. \n",
    "\n",
    "I chose to go with \"domains\" to be the default similarity measure as opposed to \"urls\" for the reason that they appeared more useful in my analysis so far, as it's more likely to find the same or similar domains posted by users as opposed to exact links."
   ]
  },
  {
   "cell_type": "code",
   "execution_count": 23,
   "id": "f8b78212",
   "metadata": {},
   "outputs": [
    {
     "data": {
      "text/plain": [
       "[0.09210526315789473]"
      ]
     },
     "execution_count": 23,
     "metadata": {},
     "output_type": "execute_result"
    }
   ],
   "source": [
    "get_jaccard_coeffs(538958, 586587)"
   ]
  },
  {
   "cell_type": "markdown",
   "id": "eb9e3af0",
   "metadata": {},
   "source": [
    "### Use Case 2: Determine URLs similarities between two users\n",
    "\n",
    "The following shows how to change the default of determining the domains similarities to urls similarities."
   ]
  },
  {
   "cell_type": "code",
   "execution_count": 26,
   "id": "86c4df87",
   "metadata": {},
   "outputs": [
    {
     "data": {
      "text/plain": [
       "[0.0]"
      ]
     },
     "execution_count": 26,
     "metadata": {},
     "output_type": "execute_result"
    }
   ],
   "source": [
    "get_jaccard_coeffs(538958, 586587, column=\"url\")"
   ]
  },
  {
   "cell_type": "markdown",
   "id": "84134bd0",
   "metadata": {},
   "source": [
    "As you can see, the url similarities of the users with the second and third most common url counts is zero."
   ]
  },
  {
   "cell_type": "markdown",
   "id": "e83ac9b5",
   "metadata": {},
   "source": [
    "### Extra: Determine Domain similarities over time\n",
    "\n",
    "The following shows how to determine url similarities over time. This may or may not be very useful due to the scarce nature of links posted in comments in general, but the functionality exists."
   ]
  },
  {
   "cell_type": "code",
   "execution_count": 29,
   "id": "3764987d",
   "metadata": {},
   "outputs": [
    {
     "data": {
      "text/plain": [
       "[0.0, 0.0967741935483871, 0.0]"
      ]
     },
     "execution_count": 29,
     "metadata": {},
     "output_type": "execute_result"
    }
   ],
   "source": [
    "get_jaccard_coeffs(538958, 586587, 3)"
   ]
  },
  {
   "cell_type": "markdown",
   "id": "a23e97af",
   "metadata": {},
   "source": [
    "This can then also be visualized with the help of matplotlib:"
   ]
  },
  {
   "cell_type": "code",
   "execution_count": 30,
   "id": "bae9f138",
   "metadata": {},
   "outputs": [
    {
     "data": {
      "text/plain": [
       "[<matplotlib.lines.Line2D at 0x7f442f5b8c70>]"
      ]
     },
     "execution_count": 30,
     "metadata": {},
     "output_type": "execute_result"
    },
    {
     "data": {
      "image/png": "[encoded data removed]",
      "text/plain": [
       "<Figure size 640x480 with 1 Axes>"
      ]
     },
     "metadata": {},
     "output_type": "display_data"
    }
   ],
   "source": [
    "from matplotlib import pyplot as plt\n",
    "fig, ax = plt.subplots()\n",
    "ax.plot(get_jaccard_coeffs(538958, 586587, 3))"
   ]
  }
 ],
 "metadata": {
  "kernelspec": {
   "display_name": "Python 3 (ipykernel)",
   "language": "python",
   "name": "python3"
  },
  "language_info": {
   "codemirror_mode": {
    "name": "ipython",
    "version": 3
   },
   "file_extension": ".py",
   "mimetype": "text/x-python",
   "name": "python",
   "nbconvert_exporter": "python",
   "pygments_lexer": "ipython3",
   "version": "3.9.2"
  }
 },
 "nbformat": 4,
 "nbformat_minor": 5
}
