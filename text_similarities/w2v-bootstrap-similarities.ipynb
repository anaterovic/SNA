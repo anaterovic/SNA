{
 "cells": [
  {
   "cell_type": "markdown",
   "id": "8d056db1",
   "metadata": {},
   "source": [
    "<b>Note:</b> I had made this type of analysis with a different notebook at first, but I couldn't find the notebook anymore, so this is recreating what I had done in the other notebook previously.\n",
    "    \n",
    "I might have used another seed in the other notebook, so the datapoints may not be 100% the same. However, the conclusions should still remain the same."
   ]
  },
  {
   "cell_type": "markdown",
   "id": "5d6cd63d",
   "metadata": {},
   "source": [
    "# 1. Imports"
   ]
  },
  {
   "cell_type": "code",
   "execution_count": 1,
   "id": "bdb4b67e",
   "metadata": {},
   "outputs": [],
   "source": [
    "import pandas as pd\n",
    "from nltk.tokenize import RegexpTokenizer\n",
    "from nltk.corpus import stopwords\n",
    "import numpy as np\n",
    "from matplotlib import pyplot as plt"
   ]
  },
  {
   "cell_type": "markdown",
   "id": "61ce9415",
   "metadata": {},
   "source": [
    "# 2. Loading in the data\n",
    "\n",
    "Please keep in mind that the points 2.1 and 2.2 are direct copies from cells in the w2v_similarities.ipynb file in the same directory."
   ]
  },
  {
   "cell_type": "markdown",
   "id": "3aa5bae3",
   "metadata": {},
   "source": [
    "## 2.1 The Postings datasets\n",
    "\n",
    "cp. \"Loading the dataset\" in w2v_similarities.ipynb"
   ]
  },
  {
   "cell_type": "code",
   "execution_count": 2,
   "id": "f1013229",
   "metadata": {},
   "outputs": [],
   "source": [
    "#open csv's and join into one variable p\n",
    "p1 = pd.read_csv(\"../input/Postings_01052019_15052019.csv\", delimiter=\";\")\n",
    "p2 = pd.read_csv(\"../input/Postings_16052019_31052019.csv\", delimiter=\";\")\n",
    "p = pd.concat([p1, p2])\n",
    "p = p.reset_index()\n",
    "p = p.drop([\"index\"], axis=1)"
   ]
  },
  {
   "cell_type": "markdown",
   "id": "8245222b",
   "metadata": {},
   "source": [
    "p will be split up in 30 bins in the end. It's important to sort the dataset by PostingCreatedAt in order to see a proper development over time in the final plots"
   ]
  },
  {
   "cell_type": "code",
   "execution_count": 3,
   "id": "1c52f359",
   "metadata": {},
   "outputs": [],
   "source": [
    "p = p.sort_values(by=\"PostingCreatedAt\")"
   ]
  },
  {
   "cell_type": "markdown",
   "id": "6b553ab2",
   "metadata": {},
   "source": [
    "## 2.2 The preprocessed vectors.pkl file\n",
    "\n",
    "cp. \"Opening the preprocessed vectors.pkl file\" in w2v_similarities.ipynb"
   ]
  },
  {
   "cell_type": "code",
   "execution_count": 4,
   "id": "901617d3",
   "metadata": {},
   "outputs": [],
   "source": [
    "#open w2v embeddings pickles\n",
    "w2vs = []\n",
    "for i in range(9): #amount of vector_*.pkl files is hardcoded here!\n",
    "    w2vs.append(pd.read_pickle(r'w2v/vectors_'+str(i)+'.pkl'))\n",
    "w2v = pd.concat(w2vs)"
   ]
  },
  {
   "cell_type": "markdown",
   "id": "631d40f0",
   "metadata": {},
   "source": [
    "## 2.3 uu_tuples\n",
    "\n",
    "In the root directory of this repository you will find a directory named \"uu_tuples/\". It contains users that had their first point of contact. This data is separated in two files: \"uu_first_contact_tuples_replies.csv\" containing a first reply on the 15th day in the dataset, and \"uu_first_contact_tuples_votes.csv\" containing a first vote (upvote/downvote) captured between a user pair.\n",
    "\n",
    "The question regarding word similarity is related to the first replies rather than the first votes. I had initially tried to compare the w2v similarities between the users in the first votes csv file and the overwhelming majority of them turned out to throw an exception because it turns out most users who leave votes don't leave (m)any comments.\n",
    "\n",
    "Thus we're restricting ourselves to analyzing user pairs found in \"uu_first_contact_tuples_replies.csv\". Opening the file in the following code chunk."
   ]
  },
  {
   "cell_type": "code",
   "execution_count": 5,
   "id": "f0c0c9c8",
   "metadata": {},
   "outputs": [],
   "source": [
    "uu = pd.read_csv(\"../uu_tuples/uu_first_contact_tuples_replies.csv\")"
   ]
  },
  {
   "cell_type": "markdown",
   "id": "506a312e",
   "metadata": {},
   "source": [
    "In the following we can see the format of the file. "
   ]
  },
  {
   "cell_type": "code",
   "execution_count": 6,
   "id": "3da6b2b9",
   "metadata": {},
   "outputs": [
    {
     "data": {
      "text/html": [
       "<div>\n",
       "<style scoped>\n",
       "    .dataframe tbody tr th:only-of-type {\n",
       "        vertical-align: middle;\n",
       "    }\n",
       "\n",
       "    .dataframe tbody tr th {\n",
       "        vertical-align: top;\n",
       "    }\n",
       "\n",
       "    .dataframe thead th {\n",
       "        text-align: right;\n",
       "    }\n",
       "</style>\n",
       "<table border=\"1\" class=\"dataframe\">\n",
       "  <thead>\n",
       "    <tr style=\"text-align: right;\">\n",
       "      <th></th>\n",
       "      <th>UserCommunityName_x</th>\n",
       "      <th>UserCommunityName_y</th>\n",
       "    </tr>\n",
       "  </thead>\n",
       "  <tbody>\n",
       "    <tr>\n",
       "      <th>0</th>\n",
       "      <td>##V+##</td>\n",
       "      <td>Hašek</td>\n",
       "    </tr>\n",
       "    <tr>\n",
       "      <th>1</th>\n",
       "      <td>##V+##</td>\n",
       "      <td>Rotfunk</td>\n",
       "    </tr>\n",
       "    <tr>\n",
       "      <th>2</th>\n",
       "      <td>##V+##</td>\n",
       "      <td>dadadum</td>\n",
       "    </tr>\n",
       "  </tbody>\n",
       "</table>\n",
       "</div>"
      ],
      "text/plain": [
       "  UserCommunityName_x UserCommunityName_y\n",
       "0              ##V+##               Hašek\n",
       "1              ##V+##             Rotfunk\n",
       "2              ##V+##             dadadum"
      ]
     },
     "execution_count": 6,
     "metadata": {},
     "output_type": "execute_result"
    }
   ],
   "source": [
    "uu.head(3)"
   ]
  },
  {
   "cell_type": "markdown",
   "id": "eda5824e",
   "metadata": {},
   "source": [
    "The dataset contains username pairs. The functions calculating w2v user pairs, to be found in section 3, require pairs of user IDs. For that reason, we're translating usernames to user IDs in the following.\n",
    "\n",
    "This information gets extracted from the Postings CSV information that is saved in the variable in this notebook."
   ]
  },
  {
   "cell_type": "code",
   "execution_count": 7,
   "id": "1d325134",
   "metadata": {},
   "outputs": [
    {
     "data": {
      "text/html": [
       "<div>\n",
       "<style scoped>\n",
       "    .dataframe tbody tr th:only-of-type {\n",
       "        vertical-align: middle;\n",
       "    }\n",
       "\n",
       "    .dataframe tbody tr th {\n",
       "        vertical-align: top;\n",
       "    }\n",
       "\n",
       "    .dataframe thead th {\n",
       "        text-align: right;\n",
       "    }\n",
       "</style>\n",
       "<table border=\"1\" class=\"dataframe\">\n",
       "  <thead>\n",
       "    <tr style=\"text-align: right;\">\n",
       "      <th></th>\n",
       "      <th>UserCommunityName</th>\n",
       "      <th>ID_CommunityIdentity</th>\n",
       "    </tr>\n",
       "  </thead>\n",
       "  <tbody>\n",
       "    <tr>\n",
       "      <th>91471</th>\n",
       "      <td>lch fordere Sie auf, abzutreten.</td>\n",
       "      <td>640076</td>\n",
       "    </tr>\n",
       "    <tr>\n",
       "      <th>149878</th>\n",
       "      <td>The Gödelnumber of the Beast</td>\n",
       "      <td>137950</td>\n",
       "    </tr>\n",
       "    <tr>\n",
       "      <th>86</th>\n",
       "      <td>Meiner Ansicht nach</td>\n",
       "      <td>636346</td>\n",
       "    </tr>\n",
       "  </tbody>\n",
       "</table>\n",
       "</div>"
      ],
      "text/plain": [
       "                       UserCommunityName  ID_CommunityIdentity\n",
       "91471   lch fordere Sie auf, abzutreten.                640076\n",
       "149878      The Gödelnumber of the Beast                137950\n",
       "86                   Meiner Ansicht nach                636346"
      ]
     },
     "execution_count": 7,
     "metadata": {},
     "output_type": "execute_result"
    }
   ],
   "source": [
    "u_name_id = p[[\"UserCommunityName\", \"ID_CommunityIdentity\"]]\n",
    "u_name_id.head(3)"
   ]
  },
  {
   "cell_type": "markdown",
   "id": "1ef32a35",
   "metadata": {},
   "source": [
    "The final uname_to_id dictionary translates usernames to IDs."
   ]
  },
  {
   "cell_type": "code",
   "execution_count": 8,
   "id": "4a013da6",
   "metadata": {},
   "outputs": [
    {
     "name": "stdout",
     "output_type": "stream",
     "text": [
      "669286\n",
      "10741\n",
      "276321\n"
     ]
    }
   ],
   "source": [
    "u_names = u_name_id[\"UserCommunityName\"].tolist()\n",
    "u_ids = u_name_id[\"ID_CommunityIdentity\"].tolist()\n",
    "\n",
    "uname_to_id = {u_names[i]: u_ids[i] for i in range(len(u_names))}\n",
    "\n",
    "#Demonstration\n",
    "print(uname_to_id[\"Hpolditsch\"])\n",
    "print(uname_to_id[\"##V+##\"])\n",
    "print(uname_to_id[\"dadadum\"])"
   ]
  },
  {
   "cell_type": "markdown",
   "id": "8a835df4",
   "metadata": {},
   "source": [
    "### Translating the user-user pairs\n",
    "\n",
    "They're stored in the variable named uu"
   ]
  },
  {
   "cell_type": "code",
   "execution_count": 9,
   "id": "966aa46c",
   "metadata": {},
   "outputs": [
    {
     "data": {
      "text/html": [
       "<div>\n",
       "<style scoped>\n",
       "    .dataframe tbody tr th:only-of-type {\n",
       "        vertical-align: middle;\n",
       "    }\n",
       "\n",
       "    .dataframe tbody tr th {\n",
       "        vertical-align: top;\n",
       "    }\n",
       "\n",
       "    .dataframe thead th {\n",
       "        text-align: right;\n",
       "    }\n",
       "</style>\n",
       "<table border=\"1\" class=\"dataframe\">\n",
       "  <thead>\n",
       "    <tr style=\"text-align: right;\">\n",
       "      <th></th>\n",
       "      <th>ID_x</th>\n",
       "      <th>ID_y</th>\n",
       "    </tr>\n",
       "  </thead>\n",
       "  <tbody>\n",
       "    <tr>\n",
       "      <th>0</th>\n",
       "      <td>10741</td>\n",
       "      <td>666563</td>\n",
       "    </tr>\n",
       "    <tr>\n",
       "      <th>1</th>\n",
       "      <td>10741</td>\n",
       "      <td>549757</td>\n",
       "    </tr>\n",
       "    <tr>\n",
       "      <th>2</th>\n",
       "      <td>10741</td>\n",
       "      <td>276321</td>\n",
       "    </tr>\n",
       "  </tbody>\n",
       "</table>\n",
       "</div>"
      ],
      "text/plain": [
       "    ID_x    ID_y\n",
       "0  10741  666563\n",
       "1  10741  549757\n",
       "2  10741  276321"
      ]
     },
     "execution_count": 9,
     "metadata": {},
     "output_type": "execute_result"
    }
   ],
   "source": [
    "# Creating new uu2 DataFrame\n",
    "uu2 = pd.DataFrame()\n",
    "\n",
    "uu2[\"ID_x\"] = uu[\"UserCommunityName_x\"].apply(lambda x: uname_to_id[x])\n",
    "uu2[\"ID_y\"] = uu[\"UserCommunityName_y\"].apply(lambda x: uname_to_id[x])\n",
    "\n",
    "uu2.head(3)"
   ]
  },
  {
   "cell_type": "markdown",
   "id": "13c342d9",
   "metadata": {},
   "source": [
    "# 3. Preparing the functions"
   ]
  },
  {
   "cell_type": "markdown",
   "id": "3564fa67",
   "metadata": {},
   "source": [
    "## 3.1 Preparing functions to use for user similarity comparison\n",
    "\n",
    "Direct copy from the \"Preparing functions to use for user similarity comparison\" section in the w2v_similarities.ipynb file."
   ]
  },
  {
   "cell_type": "code",
   "execution_count": 10,
   "id": "14ad6eb0",
   "metadata": {},
   "outputs": [],
   "source": [
    "#given a sentenct/paragraph/collection of words it returns the mean of the w2v weights\n",
    "#these words need to be normalized which text_to_vector() does before calling this function\n",
    "def get_w2v_averages(words):\n",
    "    return w2v[w2v[0].isin(words)].iloc[:,1:].mean()"
   ]
  },
  {
   "cell_type": "code",
   "execution_count": 11,
   "id": "acc06a68",
   "metadata": {},
   "outputs": [],
   "source": [
    "#splits up the dataset in df equal groups and creates a new column (named 0) assigning distinct numbers to each of the groups so it's possible to perform group operations afterwards\n",
    "def equal_groups(df, chunks):\n",
    "    amount_rows = df.shape[0]\n",
    "    chunks = pd.Series(range(amount_rows)).apply(lambda x: int(x/(amount_rows/chunks)))\n",
    "    chunks.index = df.index\n",
    "    return pd.concat([chunks,df],axis=1)"
   ]
  },
  {
   "cell_type": "code",
   "execution_count": 12,
   "id": "2d901e90",
   "metadata": {},
   "outputs": [],
   "source": [
    "#return averaged w2v from given sentence\n",
    "def text_to_vector(text):\n",
    "    text = text.lower() #lowercase words, all words in w2v dictionary are lowercase\n",
    "    tokens = RegexpTokenizer(r'\\w+').tokenize(text)\n",
    "    tokens = [t for t in tokens if not t in stopwords.words('german')]\n",
    "    return get_w2v_averages(tokens)"
   ]
  },
  {
   "cell_type": "code",
   "execution_count": 13,
   "id": "0888e90f",
   "metadata": {},
   "outputs": [],
   "source": [
    "#given the dataset two users, and a chunk size, returns similarities\n",
    "def w2v_similarities(user1, user2, chunks=1, df=p):\n",
    "    df = equal_groups(p, chunks)\n",
    "    vecs1 = get_user_vectors(df, user1)\n",
    "    vecs2 = get_user_vectors(df, user2)\n",
    "    return (np.dot(vecs1,vecs2.transpose())/(np.linalg.norm(vecs1, axis=1)*np.linalg.norm(vecs2, axis=1))).diagonal() #cosine similarity"
   ]
  },
  {
   "cell_type": "code",
   "execution_count": 14,
   "id": "97d6e9da",
   "metadata": {},
   "outputs": [],
   "source": [
    "#returns all vectors from the users. equal_groups(df, chunks) is expected as input for \"df\" here.\n",
    "def get_user_vectors(df, userid):\n",
    "    chunksize = df.tail(1)[0].iloc[0] + 1\n",
    "    filtered = df[df[\"ID_CommunityIdentity\"] == userid].fillna(\"\")\n",
    "    vectors = (filtered[\"PostingHeadline\"] + \" \" + filtered[\"PostingComment\"]).apply(lambda x: text_to_vector(x))\n",
    "    grouped_vectors = equal_groups(vectors, chunksize).groupby([0]).mean()\n",
    "    return grouped_vectors.reindex(index = np.arange(0,chunksize), method=\"ffill\")"
   ]
  },
  {
   "cell_type": "code",
   "execution_count": 15,
   "id": "c095c193",
   "metadata": {},
   "outputs": [],
   "source": [
    "def plot_user_similarities(user1, user2, chunksize, df=p):\n",
    "    fig, ax = plt.subplots()\n",
    "    ax.plot(np.linspace(0,df.shape[0], chunksize), w2v_similarities(user1, user2, chunksize, df))\n",
    "    ax.set_xlabel(\"Position in original dataset\")\n",
    "    ax.set_ylabel(\"Cosine similarity\")\n",
    "    ax.set_title(\"Cosine similarities, users \"+ str(user1) +\" and \"+ str(user2) +\", \" + str(chunksize) + \" chunks\")"
   ]
  },
  {
   "cell_type": "markdown",
   "id": "55c4b2c8",
   "metadata": {},
   "source": [
    "# 4. Bootstrapping user similarities\n",
    "\n",
    "We are only bootstrapping users because it takes a long time to calculate similarities for all the user pairs. In the following we limit ourselves to only bootstrap samples."
   ]
  },
  {
   "cell_type": "markdown",
   "id": "48f53d48",
   "metadata": {},
   "source": [
    "## 4.1 Sampling\n",
    "\n",
    "We have two datasets we sample from: The uu2 (user-user translated from usernames to user ids) dataset and the p dataset. We're only interested in sampling ID pairs.\n",
    "\n",
    "The p dataset includes users. I had first considered sampling random lines from p and then extracting the user. However, I have found that this samples more frequent users more often. Those user pairs are actually more similar than the ones that had had their first contact on the 15th day!\n",
    "\n",
    "The 15th day contains just user pairs without necessarily a bias towards user posting frequency. In fact, it might even be inversely correlated, because active users are less likely to speak to somebody for the first time somewhere in the mid of the dataset. Thus, I believe it makes sense to compare the uu2 samples to random user samples where each user has the same likelihood of being picked."
   ]
  },
  {
   "cell_type": "code",
   "execution_count": 16,
   "id": "7fe1eeab",
   "metadata": {},
   "outputs": [],
   "source": [
    "BOOTSTRAP_SIZE = 100"
   ]
  },
  {
   "cell_type": "code",
   "execution_count": 17,
   "id": "3914c83a",
   "metadata": {},
   "outputs": [],
   "source": [
    "bootstrap_uu = uu2.sample(n=BOOTSTRAP_SIZE, replace=True, random_state=1234)\n",
    "\n",
    "bootstrap_uu_u1 = bootstrap_uu[\"ID_x\"].tolist()\n",
    "bootstrap_uu_u2 = bootstrap_uu[\"ID_y\"].tolist()"
   ]
  },
  {
   "cell_type": "code",
   "execution_count": 18,
   "id": "1db3f3e9",
   "metadata": {},
   "outputs": [],
   "source": [
    "bootstrap_p_u1 = p[\"ID_CommunityIdentity\"].sample(n=BOOTSTRAP_SIZE, replace=True, random_state=1234).tolist()\n",
    "bootstrap_p_u2 = p[\"ID_CommunityIdentity\"].sample(n=BOOTSTRAP_SIZE, replace=True, random_state=4321).tolist()"
   ]
  },
  {
   "cell_type": "code",
   "execution_count": 19,
   "id": "5e00e3f8",
   "metadata": {},
   "outputs": [],
   "source": [
    "bootstrap_randu1 = pd.Series(uname_to_id.values()).sample(n=BOOTSTRAP_SIZE, replace=True, random_state=1234).tolist()\n",
    "bootstrap_randu2 = pd.Series(uname_to_id.values()).sample(n=BOOTSTRAP_SIZE, replace=True, random_state=4321).tolist()"
   ]
  },
  {
   "cell_type": "markdown",
   "id": "ce76541e",
   "metadata": {},
   "source": [
    "## 4.2 Passing sampled data to w2v_similarities() function\n",
    "\n",
    "uu_sims is the pool of user pairs that met on the particular, 15th day in the dataset.\n",
    "p_sims is the pool of random users leaving posts on the forum. The probability of a user being sampled is the frequency of posts left in the forum for the given time.\n",
    "\n",
    "This code chunk may take some time to execute. It is the bottleneck for this notebook and is the reason we only user a sample size of 100."
   ]
  },
  {
   "cell_type": "code",
   "execution_count": 20,
   "id": "f62500c2",
   "metadata": {},
   "outputs": [],
   "source": [
    "uu_sims = []\n",
    "p_sims = []\n",
    "rand_sims = []\n",
    "for i in range(BOOTSTRAP_SIZE):\n",
    "    uu_sims.append(w2v_similarities(bootstrap_uu_u1[i], bootstrap_uu_u2[i], chunks=30))\n",
    "    p_sims.append(w2v_similarities(bootstrap_p_u1[i], bootstrap_p_u2[i], chunks=30))\n",
    "    rand_sims.append(w2v_similarities(bootstrap_randu1[i], bootstrap_randu2[i], chunks=30))"
   ]
  },
  {
   "cell_type": "markdown",
   "id": "c725cd66",
   "metadata": {},
   "source": [
    "Some of the arrays have missing values."
   ]
  },
  {
   "cell_type": "code",
   "execution_count": 21,
   "id": "0fa93b54",
   "metadata": {},
   "outputs": [
    {
     "data": {
      "text/plain": [
       "array([0.73562954, 0.73562954, 0.73562954, 0.73562954, 0.70539033,\n",
       "       0.70539033, 0.70539033, 0.70539033, 0.71267504, 0.71267504,\n",
       "       0.88683676, 0.88683676, 0.6849525 , 0.6849525 , 0.6849525 ,\n",
       "       0.6849525 , 0.6849525 ,        nan,        nan,        nan,\n",
       "              nan, 0.69569821, 0.69569821, 0.69569821, 0.69569821,\n",
       "       0.77898263, 0.77898263, 0.77898263, 0.77898263, 0.77898263])"
      ]
     },
     "execution_count": 21,
     "metadata": {},
     "output_type": "execute_result"
    }
   ],
   "source": [
    "uu_sims[13]"
   ]
  },
  {
   "cell_type": "markdown",
   "id": "84242442",
   "metadata": {},
   "source": [
    "Filling them out using the pad/ffill method"
   ]
  },
  {
   "cell_type": "code",
   "execution_count": 22,
   "id": "19912072",
   "metadata": {},
   "outputs": [],
   "source": [
    "uu_sims = [pd.Series(uu_sims[i]).fillna(method=\"pad\").tolist() for i in range(BOOTSTRAP_SIZE)]\n",
    "p_sims = [pd.Series(p_sims[i]).fillna(method=\"pad\").tolist() for i in range(BOOTSTRAP_SIZE)]\n",
    "rand_sims = [pd.Series(rand_sims[i]).fillna(method=\"pad\").tolist() for i in range(BOOTSTRAP_SIZE)]"
   ]
  },
  {
   "cell_type": "code",
   "execution_count": 23,
   "id": "1013edfb",
   "metadata": {},
   "outputs": [],
   "source": [
    "uu_means = pd.DataFrame(uu_sims).mean()\n",
    "p_means = pd.DataFrame(p_sims).mean()\n",
    "rand_means = pd.DataFrame(rand_sims).mean()"
   ]
  },
  {
   "cell_type": "markdown",
   "id": "8c79fba1",
   "metadata": {},
   "source": [
    "# 5. Plotting results\n",
    "\n",
    "In the presentation, two plots are visible:\n",
    "\n",
    "(1) the uu_means over time\n",
    "(2) the p_means over time"
   ]
  },
  {
   "cell_type": "markdown",
   "id": "50770b77",
   "metadata": {},
   "source": [
    "## 5.1 uu_means \n",
    "\n",
    "Recreating (1). The following plot in itself, I find to be lacking a clear upwards trend we are looking for in our research."
   ]
  },
  {
   "cell_type": "code",
   "execution_count": 36,
   "id": "5ce5375b",
   "metadata": {},
   "outputs": [
    {
     "data": {
      "text/plain": [
       "Text(0, 0.5, 'similarity')"
      ]
     },
     "execution_count": 36,
     "metadata": {},
     "output_type": "execute_result"
    },
    {
     "data": {
      "image/png": "[encoded data removed]",
      "text/plain": [
       "<Figure size 640x480 with 1 Axes>"
      ]
     },
     "metadata": {},
     "output_type": "display_data"
    }
   ],
   "source": [
    "header = '\"15th day\" users'\n",
    "comparison = uu_means\n",
    "\n",
    "fig, ax = plt.subplots()\n",
    "if max(comparison) > 1:\n",
    "    ax.set_ylim(0,max(comparison) + 0.1)\n",
    "else:\n",
    "    ax.set_ylim(0,1)\n",
    "if \"/\" in header:\n",
    "    ylab = \"similarity comparison\"\n",
    "else:\n",
    "    ylab = \"similarity\"\n",
    "ax.scatter(range(len(uu_means)), comparison)\n",
    "ax.set_title(header)\n",
    "ax.set_xlabel(\"#bin, uniform distribution over time\")\n",
    "ax.set_ylabel(ylab)"
   ]
  },
  {
   "cell_type": "markdown",
   "id": "10618c52",
   "metadata": {},
   "source": [
    "## 5.2 uu_means/rand_means\n",
    "\n",
    "The 0.8-0.9 range similarity is relatively difficult to interpret. A context one can introduce is putting it in relation to random users in the dataset."
   ]
  },
  {
   "cell_type": "code",
   "execution_count": 35,
   "id": "38ca3142",
   "metadata": {},
   "outputs": [
    {
     "data": {
      "text/plain": [
       "Text(0, 0.5, 'similarity comparison')"
      ]
     },
     "execution_count": 35,
     "metadata": {},
     "output_type": "execute_result"
    },
    {
     "data": {
      "image/png": "[encoded data removed]",
      "text/plain": [
       "<Figure size 640x480 with 1 Axes>"
      ]
     },
     "metadata": {},
     "output_type": "display_data"
    }
   ],
   "source": [
    "header = '\"15th day\" users / random users (uniform distribution)'\n",
    "comparison = uu_means/rand_means\n",
    "\n",
    "fig, ax = plt.subplots()\n",
    "if max(comparison) > 1:\n",
    "    ax.set_ylim(0,max(comparison) + 0.1)\n",
    "else:\n",
    "    ax.set_ylim(0,1)\n",
    "if \"/\" in header:\n",
    "    ylab = \"similarity comparison\"\n",
    "else:\n",
    "    ylab = \"similarity\"\n",
    "ax.scatter(range(len(uu_means)), comparison)\n",
    "ax.set_title(header)\n",
    "ax.set_xlabel(\"#bin, uniform distribution over time\")\n",
    "ax.set_ylabel(ylab)"
   ]
  },
  {
   "cell_type": "markdown",
   "id": "f88db0c7",
   "metadata": {},
   "source": [
    "## 5.3 uu_means/p_means\n",
    "\n",
    "After the presentation, I have also checked how uu_means compares to random users when more active users are favored over less active users.\n",
    "\n",
    "What we can see is that the users that first met on the 15th day are clearly less similar in their patterns compared to relatively active users."
   ]
  },
  {
   "cell_type": "code",
   "execution_count": 38,
   "id": "9da6f3d4",
   "metadata": {},
   "outputs": [
    {
     "data": {
      "text/plain": [
       "Text(0, 0.5, 'similarity comparison')"
      ]
     },
     "execution_count": 38,
     "metadata": {},
     "output_type": "execute_result"
    },
    {
     "data": {
      "image/png": "[encoded data removed]",
      "text/plain": [
       "<Figure size 640x480 with 1 Axes>"
      ]
     },
     "metadata": {},
     "output_type": "display_data"
    }
   ],
   "source": [
    "header = '\"15th day\" users / random users (distribution: posting frequency)'\n",
    "comparison = uu_means/p_means\n",
    "\n",
    "fig, ax = plt.subplots()\n",
    "if max(comparison) > 1:\n",
    "    ax.set_ylim(0,max(comparison) + 0.1)\n",
    "else:\n",
    "    ax.set_ylim(0,1)\n",
    "if \"/\" in header:\n",
    "    ylab = \"similarity comparison\"\n",
    "else:\n",
    "    ylab = \"similarity\"\n",
    "ax.scatter(range(len(uu_means)), comparison)\n",
    "ax.set_title(header)\n",
    "ax.set_xlabel(\"#bin, uniform distribution over time\")\n",
    "ax.set_ylabel(ylab)"
   ]
  },
  {
   "cell_type": "markdown",
   "id": "5964e20d",
   "metadata": {},
   "source": [
    "## 5.4 p_means/rand_means\n",
    "\n",
    "Following from the findings of 5.3, it was also interesting to see by how much more active users are similar in their word choice compared to uniformly distributed random users."
   ]
  },
  {
   "cell_type": "code",
   "execution_count": 41,
   "id": "4b699b14",
   "metadata": {},
   "outputs": [
    {
     "data": {
      "text/plain": [
       "Text(0, 0.5, 'similarity comparison')"
      ]
     },
     "execution_count": 41,
     "metadata": {},
     "output_type": "execute_result"
    },
    {
     "data": {
      "image/png": "[encoded data removed]",
      "text/plain": [
       "<Figure size 640x480 with 1 Axes>"
      ]
     },
     "metadata": {},
     "output_type": "display_data"
    }
   ],
   "source": [
    "header = '\"random users: uniform distribution / distribution: posting frequency'\n",
    "comparison = p_means/rand_means\n",
    "\n",
    "fig, ax = plt.subplots()\n",
    "if max(comparison) > 1:\n",
    "    ax.set_ylim(0,max(comparison) + 0.1)\n",
    "else:\n",
    "    ax.set_ylim(0,1)\n",
    "if \"/\" in header:\n",
    "    ylab = \"similarity comparison\"\n",
    "else:\n",
    "    ylab = \"similarity\"\n",
    "ax.scatter(range(len(uu_means)), comparison)\n",
    "ax.set_title(header)\n",
    "ax.set_xlabel(\"#bin, uniform distribution over time\")\n",
    "ax.set_ylabel(ylab)"
   ]
  },
  {
   "cell_type": "markdown",
   "id": "2fd0fa4a",
   "metadata": {},
   "source": [
    "# 6. Conclusions\n",
    "\n",
    "As was already mentioned in the presentation, there are no clear patterns when analysing the uu_similarities, especially none that we would be looking for in the long run.\n",
    "\n",
    "W2V represents user similarities from word usage as derived by the words' contexts. It's plausible that longer lasting changes in vocabulary are connected to changes in interest or points of view. Those are expected to be longer term changes for which a window of 30 days will be insufficient.\n",
    "\n",
    "After the presentation, as I started recreating the graphics, as I have lost my notebook with which I created the original graphs, I had experimented a bit with random users distributed according to posting frequency. One pattern that I could find while researching this is that there can be observed a faint positive trend of p_means/rand_means. This can be interpreted in the following way: People who are more frequent in posting frequency become more similar compared to random users as samples by uniform distribution.\n",
    "\n",
    "However since this is a pattern I just discovered recently, shortly after the hand-in, I didn't go much deeper into analyzing this pattern."
   ]
  },
  {
   "cell_type": "code",
   "execution_count": null,
   "id": "d85ea6e9",
   "metadata": {},
   "outputs": [],
   "source": []
  }
 ],
 "metadata": {
  "kernelspec": {
   "display_name": "Python 3 (ipykernel)",
   "language": "python",
   "name": "python3"
  },
  "language_info": {
   "codemirror_mode": {
    "name": "ipython",
    "version": 3
   },
   "file_extension": ".py",
   "mimetype": "text/x-python",
   "name": "python",
   "nbconvert_exporter": "python",
   "pygments_lexer": "ipython3",
   "version": "3.9.2"
  }
 },
 "nbformat": 4,
 "nbformat_minor": 5
}
